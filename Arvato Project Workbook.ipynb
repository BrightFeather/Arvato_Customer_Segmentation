{
 "cells": [
  {
   "cell_type": "markdown",
   "metadata": {},
   "source": [
    "# Capstone Project: Create a Customer Segmentation Report for Arvato Financial Services\n",
    "\n",
    "In this project, you will analyze demographics data for customers of a mail-order sales company in Germany, comparing it against demographics information for the general population. You'll use unsupervised learning techniques to perform customer segmentation, identifying the parts of the population that best describe the core customer base of the company. Then, you'll apply what you've learned on a third dataset with demographics information for targets of a marketing campaign for the company, and use a model to predict which individuals are most likely to convert into becoming customers for the company. The data that you will use has been provided by our partners at Bertelsmann Arvato Analytics, and represents a real-life data science task.\n",
    "\n",
    "If you completed the first term of this program, you will be familiar with the first part of this project, from the unsupervised learning project. The versions of those two datasets used in this project will include many more features and has not been pre-cleaned. You are also free to choose whatever approach you'd like to analyzing the data rather than follow pre-determined steps. In your work on this project, make sure that you carefully document your steps and decisions, since your main deliverable for this project will be a blog post reporting your findings."
   ]
  },
  {
   "cell_type": "code",
   "execution_count": 5,
   "metadata": {},
   "outputs": [],
   "source": [
    "# import libraries here; add more as necessary\n",
    "import math\n",
    "import numpy as np\n",
    "import pandas as pd\n",
    "import matplotlib.pyplot as plt\n",
    "import seaborn as sns\n",
    "import boto3\n",
    "from sagemaker import get_execution_role\n",
    "# magic word for producing visualizations in notebook\n",
    "%matplotlib inline"
   ]
  },
  {
   "cell_type": "markdown",
   "metadata": {},
   "source": [
    "## Part 0: Get to Know the Data\n",
    "\n",
    "There are four data files associated with this project:\n",
    "\n",
    "- `Udacity_AZDIAS_052018.csv`: Demographics data for the general population of Germany; 891 211 persons (rows) x 366 features (columns).\n",
    "- `Udacity_CUSTOMERS_052018.csv`: Demographics data for customers of a mail-order company; 191 652 persons (rows) x 369 features (columns).\n",
    "- `Udacity_MAILOUT_052018_TRAIN.csv`: Demographics data for individuals who were targets of a marketing campaign; 42 982 persons (rows) x 367 (columns).\n",
    "- `Udacity_MAILOUT_052018_TEST.csv`: Demographics data for individuals who were targets of a marketing campaign; 42 833 persons (rows) x 366 (columns).\n",
    "\n",
    "Each row of the demographics files represents a single person, but also includes information outside of individuals, including information about their household, building, and neighborhood. Use the information from the first two files to figure out how customers (\"CUSTOMERS\") are similar to or differ from the general population at large (\"AZDIAS\"), then use your analysis to make predictions on the other two files (\"MAILOUT\"), predicting which recipients are most likely to become a customer for the mail-order company.\n",
    "\n",
    "The \"CUSTOMERS\" file contains three extra columns ('CUSTOMER_GROUP', 'ONLINE_PURCHASE', and 'PRODUCT_GROUP'), which provide broad information about the customers depicted in the file. The original \"MAILOUT\" file included one additional column, \"RESPONSE\", which indicated whether or not each recipient became a customer of the company. For the \"TRAIN\" subset, this column has been retained, but in the \"TEST\" subset it has been removed; it is against that withheld column that your final predictions will be assessed in the Kaggle competition.\n",
    "\n",
    "Otherwise, all of the remaining columns are the same between the three data files. For more information about the columns depicted in the files, you can refer to two Excel spreadsheets provided in the workspace. [One of them](./DIAS Information Levels - Attributes 2017.xlsx) is a top-level list of attributes and descriptions, organized by informational category. [The other](./DIAS Attributes - Values 2017.xlsx) is a detailed mapping of data values for each feature in alphabetical order.\n",
    "\n",
    "In the below cell, we've provided some initial code to load in the first two datasets. Note for all of the `.csv` data files in this project that they're semicolon (`;`) delimited, so an additional argument in the [`read_csv()`](https://pandas.pydata.org/pandas-docs/stable/generated/pandas.read_csv.html) call has been included to read in the data properly. Also, considering the size of the datasets, it may take some time for them to load completely.\n",
    "\n",
    "You'll notice when the data is loaded in that a warning message will immediately pop up. Before you really start digging into the modeling and analysis, you're going to need to perform some cleaning. Take some time to browse the structure of the data and look over the informational spreadsheets to understand the data values. Make some decisions on which features to keep, which features to drop, and if any revisions need to be made on data formats. It'll be a good idea to create a function with pre-processing steps, since you'll need to clean all of the datasets before you work with them."
   ]
  },
  {
   "cell_type": "code",
   "execution_count": 346,
   "metadata": {},
   "outputs": [],
   "source": [
    "bucket='capstone_project'\n",
    "\n",
    "population_data_key = 'Udacity_AZDIAS_052018.csv'\n",
    "customer_data_key = 'Udacity_CUSTOMERS_052018.csv'\n",
    "\n",
    "data_location = 's3://sagemaker-us-east-1-399684875495/capstone_project/' # 's3://{}/{}'.format(bucket, data_key)"
   ]
  },
  {
   "cell_type": "code",
   "execution_count": 347,
   "metadata": {},
   "outputs": [
    {
     "name": "stderr",
     "output_type": "stream",
     "text": [
      "<string>:2: DtypeWarning: Columns (18,19) have mixed types.Specify dtype option on import or set low_memory=False.\n"
     ]
    },
    {
     "name": "stdout",
     "output_type": "stream",
     "text": [
      "CPU times: user 5.93 s, sys: 634 ms, total: 6.57 s\n",
      "Wall time: 12.1 s\n"
     ]
    }
   ],
   "source": [
    "%%time\n",
    "customer_df = pd.read_csv(data_location + customer_data_key, sep=';')"
   ]
  },
  {
   "cell_type": "code",
   "execution_count": 4,
   "metadata": {},
   "outputs": [
    {
     "name": "stderr",
     "output_type": "stream",
     "text": [
      "/home/ec2-user/anaconda3/envs/mxnet_p36/lib/python3.6/site-packages/IPython/core/interactiveshell.py:3072: DtypeWarning: Columns (18,19) have mixed types.Specify dtype option on import or set low_memory=False.\n",
      "  interactivity=interactivity, compiler=compiler, result=result)\n"
     ]
    }
   ],
   "source": [
    "# population_df = pd.read_csv(data_location + population_data_key, sep=';')"
   ]
  },
  {
   "cell_type": "markdown",
   "metadata": {},
   "source": [
    "Of the 396 features, only 96 features does not have missing value for any customers. Therefore, it is unfair just to discard a feature if it has missing value for certain persons. Instead, we need to look at the distribution of proportion of missing data for each feature."
   ]
  },
  {
   "cell_type": "code",
   "execution_count": 348,
   "metadata": {},
   "outputs": [],
   "source": [
    "num_customers = customer_df.index.size\n",
    "num_features = customer_df.columns.size"
   ]
  },
  {
   "cell_type": "code",
   "execution_count": 349,
   "metadata": {},
   "outputs": [
    {
     "data": {
      "text/plain": [
       "191652"
      ]
     },
     "execution_count": 349,
     "metadata": {},
     "output_type": "execute_result"
    }
   ],
   "source": [
    "num_customers"
   ]
  },
  {
   "cell_type": "code",
   "execution_count": 350,
   "metadata": {},
   "outputs": [
    {
     "data": {
      "text/plain": [
       "369"
      ]
     },
     "execution_count": 350,
     "metadata": {},
     "output_type": "execute_result"
    }
   ],
   "source": [
    "num_features"
   ]
  },
  {
   "cell_type": "markdown",
   "metadata": {},
   "source": [
    "# Data Cleaning and Data Processing"
   ]
  },
  {
   "cell_type": "markdown",
   "metadata": {},
   "source": [
    "## 1. Data Cleaning"
   ]
  },
  {
   "cell_type": "markdown",
   "metadata": {},
   "source": [
    "### a. Convert unknown and missing values to nan\n",
    "\n",
    "There are three type of values that should be considered nan:\n",
    "- nan in cell\n",
    "- categorical data with unknown value (-1,0, or 9)\n",
    "- numerical data with out-of-range value, e.g. 0 for birth year\n",
    "\n",
    "First I will convert all these to nan."
   ]
  },
  {
   "cell_type": "code",
   "execution_count": 351,
   "metadata": {},
   "outputs": [],
   "source": [
    "all_columns = customer_df.columns.to_list()"
   ]
  },
  {
   "cell_type": "code",
   "execution_count": 352,
   "metadata": {},
   "outputs": [],
   "source": [
    "numerical_columns = ['GEBURTSJAHR',\"KBA13_ANZAHL_PKW\",\"MIN_GEBAEUDEJAHR\",\"ANZ_HAUSHALTE_AKTIV\",\"ANZ_HH_TITEL\",\"ANZ_PERSONEN\",\"ANZ_TITEL\"]"
   ]
  },
  {
   "cell_type": "code",
   "execution_count": 353,
   "metadata": {},
   "outputs": [],
   "source": [
    "# column names where 0 means unknown\n",
    "unknown_0_columns = ['ALTERSKATEGORIE_GROB','KKK','ANREDE_KZ','GEBAEUDETYP','GEOSCORE_KLS7','HAUSHALTSSTRUKTUR','HH_EINKOMMEN_SCORE',\n",
    "                     'KBA05_BAUMAX','KBA05_GBZ','KKK','NATIONALITAET_KZ','PRAEGENDE_JUGENDJAHRE','REGIOTYP','TITEL_KZ','WOHNDAUER_2008','WACHSTUMSGEBIET_NB','W_KEIT_KIND_HH']\n",
    "unknown_0_columns = unknown_0_columns + numerical_columns\n",
    "\n",
    "unknown_0_columns = set(unknown_0_columns).intersection(all_columns)\n",
    "\n",
    "# columns where 9 does not mean unknown\n",
    "value_9_columns = ['ALTER_HH','CAMEO_DEUG_2015','D19_BANKEN_DATUM','D19_BANKEN_OFFLINE_DATUM','D19_BANKEN_ONLINE_DATUM','D19_BANKEN_ONLINE_QUOTE_12',\n",
    "                  'D19_GESAMT_DATUM','D19_GESAMT_OFFLINE_DATUM','D19_GESAMT_ONLINE_DATUM','D19_GESAMT_ONLINE_QUOTE_12','D19_TELKO_DATUM','D19_TELKO_OFFLINE_DATUM',\n",
    "                   'D19_TELKO_ONLINE_DATUM','D19_VERSAND_DATUM','D19_VERSAND_OFFLINE_DATUM','D19_VERSAND_ONLINE_DATUM','D19_VERSAND_ONLINE_QUOTE_12','GFK_URLAUBERTYP',\n",
    "                  'HAUSHALTSSTRUKTUR']\n",
    "# columns where 9 means unknown\n",
    "unknown_9_columns = list(set(all_columns) - set(value_9_columns).intersection(all_columns))\n",
    "\n",
    "# -1 in all columns means unknown "
   ]
  },
  {
   "cell_type": "code",
   "execution_count": 10,
   "metadata": {},
   "outputs": [],
   "source": [
    "clean_customer_data = customer_df.copy()"
   ]
  },
  {
   "cell_type": "code",
   "execution_count": 11,
   "metadata": {},
   "outputs": [
    {
     "name": "stdout",
     "output_type": "stream",
     "text": [
      "{'REGIOTYP', 'GEBAEUDETYP', 'ALTERSKATEGORIE_GROB', 'HH_EINKOMMEN_SCORE', 'KBA05_GBZ', 'NATIONALITAET_KZ', 'ANREDE_KZ', 'ANZ_PERSONEN', 'ANZ_HAUSHALTE_AKTIV', 'ANZ_TITEL', 'WOHNDAUER_2008', 'W_KEIT_KIND_HH', 'MIN_GEBAEUDEJAHR', 'ANZ_HH_TITEL', 'PRAEGENDE_JUGENDJAHRE', 'TITEL_KZ', 'KBA13_ANZAHL_PKW', 'KBA05_BAUMAX', 'GEBURTSJAHR', 'KKK'}\n"
     ]
    }
   ],
   "source": [
    "print(unknown_0_columns)"
   ]
  },
  {
   "cell_type": "code",
   "execution_count": 12,
   "metadata": {},
   "outputs": [],
   "source": [
    "clean_customer_data.loc[:,unknown_0_columns] = clean_customer_data.loc[:,unknown_0_columns].replace(0, np.nan)\n",
    "\n",
    "clean_customer_data.loc[:,unknown_9_columns] = clean_customer_data.loc[:,unknown_9_columns].replace(9, np.nan)\n",
    "clean_customer_data = clean_customer_data.replace(-1, np.nan)"
   ]
  },
  {
   "cell_type": "code",
   "execution_count": 13,
   "metadata": {},
   "outputs": [
    {
     "data": {
      "text/html": [
       "<div>\n",
       "<style scoped>\n",
       "    .dataframe tbody tr th:only-of-type {\n",
       "        vertical-align: middle;\n",
       "    }\n",
       "\n",
       "    .dataframe tbody tr th {\n",
       "        vertical-align: top;\n",
       "    }\n",
       "\n",
       "    .dataframe thead th {\n",
       "        text-align: right;\n",
       "    }\n",
       "</style>\n",
       "<table border=\"1\" class=\"dataframe\">\n",
       "  <thead>\n",
       "    <tr style=\"text-align: right;\">\n",
       "      <th></th>\n",
       "      <th>LNR</th>\n",
       "      <th>AGER_TYP</th>\n",
       "      <th>AKT_DAT_KL</th>\n",
       "      <th>ALTER_HH</th>\n",
       "      <th>ALTER_KIND1</th>\n",
       "      <th>ALTER_KIND2</th>\n",
       "      <th>ALTER_KIND3</th>\n",
       "      <th>ALTER_KIND4</th>\n",
       "      <th>ALTERSKATEGORIE_FEIN</th>\n",
       "      <th>ANZ_HAUSHALTE_AKTIV</th>\n",
       "      <th>...</th>\n",
       "      <th>VK_ZG11</th>\n",
       "      <th>W_KEIT_KIND_HH</th>\n",
       "      <th>WOHNDAUER_2008</th>\n",
       "      <th>WOHNLAGE</th>\n",
       "      <th>ZABEOTYP</th>\n",
       "      <th>PRODUCT_GROUP</th>\n",
       "      <th>CUSTOMER_GROUP</th>\n",
       "      <th>ONLINE_PURCHASE</th>\n",
       "      <th>ANREDE_KZ</th>\n",
       "      <th>ALTERSKATEGORIE_GROB</th>\n",
       "    </tr>\n",
       "  </thead>\n",
       "  <tbody>\n",
       "    <tr>\n",
       "      <th>0</th>\n",
       "      <td>9626.0</td>\n",
       "      <td>2.0</td>\n",
       "      <td>1.0</td>\n",
       "      <td>10.0</td>\n",
       "      <td>NaN</td>\n",
       "      <td>NaN</td>\n",
       "      <td>NaN</td>\n",
       "      <td>NaN</td>\n",
       "      <td>10.0</td>\n",
       "      <td>1.0</td>\n",
       "      <td>...</td>\n",
       "      <td>2.0</td>\n",
       "      <td>6.0</td>\n",
       "      <td>NaN</td>\n",
       "      <td>7.0</td>\n",
       "      <td>3</td>\n",
       "      <td>COSMETIC_AND_FOOD</td>\n",
       "      <td>MULTI_BUYER</td>\n",
       "      <td>0</td>\n",
       "      <td>1</td>\n",
       "      <td>4.0</td>\n",
       "    </tr>\n",
       "    <tr>\n",
       "      <th>1</th>\n",
       "      <td>9628.0</td>\n",
       "      <td>NaN</td>\n",
       "      <td>NaN</td>\n",
       "      <td>11.0</td>\n",
       "      <td>NaN</td>\n",
       "      <td>NaN</td>\n",
       "      <td>NaN</td>\n",
       "      <td>NaN</td>\n",
       "      <td>NaN</td>\n",
       "      <td>NaN</td>\n",
       "      <td>...</td>\n",
       "      <td>3.0</td>\n",
       "      <td>NaN</td>\n",
       "      <td>NaN</td>\n",
       "      <td>NaN</td>\n",
       "      <td>3</td>\n",
       "      <td>FOOD</td>\n",
       "      <td>SINGLE_BUYER</td>\n",
       "      <td>0</td>\n",
       "      <td>1</td>\n",
       "      <td>4.0</td>\n",
       "    </tr>\n",
       "    <tr>\n",
       "      <th>2</th>\n",
       "      <td>143872.0</td>\n",
       "      <td>NaN</td>\n",
       "      <td>1.0</td>\n",
       "      <td>6.0</td>\n",
       "      <td>NaN</td>\n",
       "      <td>NaN</td>\n",
       "      <td>NaN</td>\n",
       "      <td>NaN</td>\n",
       "      <td>0.0</td>\n",
       "      <td>1.0</td>\n",
       "      <td>...</td>\n",
       "      <td>11.0</td>\n",
       "      <td>6.0</td>\n",
       "      <td>NaN</td>\n",
       "      <td>2.0</td>\n",
       "      <td>3</td>\n",
       "      <td>COSMETIC_AND_FOOD</td>\n",
       "      <td>MULTI_BUYER</td>\n",
       "      <td>0</td>\n",
       "      <td>2</td>\n",
       "      <td>4.0</td>\n",
       "    </tr>\n",
       "    <tr>\n",
       "      <th>3</th>\n",
       "      <td>143873.0</td>\n",
       "      <td>1.0</td>\n",
       "      <td>1.0</td>\n",
       "      <td>8.0</td>\n",
       "      <td>NaN</td>\n",
       "      <td>NaN</td>\n",
       "      <td>NaN</td>\n",
       "      <td>NaN</td>\n",
       "      <td>8.0</td>\n",
       "      <td>NaN</td>\n",
       "      <td>...</td>\n",
       "      <td>2.0</td>\n",
       "      <td>NaN</td>\n",
       "      <td>NaN</td>\n",
       "      <td>7.0</td>\n",
       "      <td>1</td>\n",
       "      <td>COSMETIC</td>\n",
       "      <td>MULTI_BUYER</td>\n",
       "      <td>0</td>\n",
       "      <td>1</td>\n",
       "      <td>4.0</td>\n",
       "    </tr>\n",
       "    <tr>\n",
       "      <th>4</th>\n",
       "      <td>143874.0</td>\n",
       "      <td>NaN</td>\n",
       "      <td>1.0</td>\n",
       "      <td>20.0</td>\n",
       "      <td>NaN</td>\n",
       "      <td>NaN</td>\n",
       "      <td>NaN</td>\n",
       "      <td>NaN</td>\n",
       "      <td>14.0</td>\n",
       "      <td>7.0</td>\n",
       "      <td>...</td>\n",
       "      <td>4.0</td>\n",
       "      <td>2.0</td>\n",
       "      <td>NaN</td>\n",
       "      <td>3.0</td>\n",
       "      <td>1</td>\n",
       "      <td>FOOD</td>\n",
       "      <td>MULTI_BUYER</td>\n",
       "      <td>0</td>\n",
       "      <td>1</td>\n",
       "      <td>3.0</td>\n",
       "    </tr>\n",
       "  </tbody>\n",
       "</table>\n",
       "<p>5 rows × 369 columns</p>\n",
       "</div>"
      ],
      "text/plain": [
       "        LNR  AGER_TYP  AKT_DAT_KL  ALTER_HH  ALTER_KIND1  ALTER_KIND2  \\\n",
       "0    9626.0       2.0         1.0      10.0          NaN          NaN   \n",
       "1    9628.0       NaN         NaN      11.0          NaN          NaN   \n",
       "2  143872.0       NaN         1.0       6.0          NaN          NaN   \n",
       "3  143873.0       1.0         1.0       8.0          NaN          NaN   \n",
       "4  143874.0       NaN         1.0      20.0          NaN          NaN   \n",
       "\n",
       "   ALTER_KIND3  ALTER_KIND4  ALTERSKATEGORIE_FEIN  ANZ_HAUSHALTE_AKTIV  ...  \\\n",
       "0          NaN          NaN                  10.0                  1.0  ...   \n",
       "1          NaN          NaN                   NaN                  NaN  ...   \n",
       "2          NaN          NaN                   0.0                  1.0  ...   \n",
       "3          NaN          NaN                   8.0                  NaN  ...   \n",
       "4          NaN          NaN                  14.0                  7.0  ...   \n",
       "\n",
       "   VK_ZG11  W_KEIT_KIND_HH  WOHNDAUER_2008  WOHNLAGE  ZABEOTYP  \\\n",
       "0      2.0             6.0             NaN       7.0         3   \n",
       "1      3.0             NaN             NaN       NaN         3   \n",
       "2     11.0             6.0             NaN       2.0         3   \n",
       "3      2.0             NaN             NaN       7.0         1   \n",
       "4      4.0             2.0             NaN       3.0         1   \n",
       "\n",
       "       PRODUCT_GROUP  CUSTOMER_GROUP ONLINE_PURCHASE ANREDE_KZ  \\\n",
       "0  COSMETIC_AND_FOOD     MULTI_BUYER               0         1   \n",
       "1               FOOD    SINGLE_BUYER               0         1   \n",
       "2  COSMETIC_AND_FOOD     MULTI_BUYER               0         2   \n",
       "3           COSMETIC     MULTI_BUYER               0         1   \n",
       "4               FOOD     MULTI_BUYER               0         1   \n",
       "\n",
       "  ALTERSKATEGORIE_GROB  \n",
       "0                  4.0  \n",
       "1                  4.0  \n",
       "2                  4.0  \n",
       "3                  4.0  \n",
       "4                  3.0  \n",
       "\n",
       "[5 rows x 369 columns]"
      ]
     },
     "execution_count": 13,
     "metadata": {},
     "output_type": "execute_result"
    }
   ],
   "source": [
    "clean_customer_data.head()"
   ]
  },
  {
   "cell_type": "markdown",
   "metadata": {},
   "source": [
    "Make sure data is cleaned"
   ]
  },
  {
   "cell_type": "code",
   "execution_count": 16,
   "metadata": {},
   "outputs": [
    {
     "data": {
      "text/plain": [
       "0            NaN\n",
       "1            NaN\n",
       "2            NaN\n",
       "3            NaN\n",
       "4         1960.0\n",
       "           ...  \n",
       "191647       NaN\n",
       "191648       NaN\n",
       "191649    1944.0\n",
       "191650       NaN\n",
       "191651    1937.0\n",
       "Name: GEBURTSJAHR, Length: 191652, dtype: float64"
      ]
     },
     "execution_count": 16,
     "metadata": {},
     "output_type": "execute_result"
    }
   ],
   "source": [
    "clean_customer_data['GEBURTSJAHR']"
   ]
  },
  {
   "cell_type": "code",
   "execution_count": 14,
   "metadata": {},
   "outputs": [
    {
     "data": {
      "text/plain": [
       "False"
      ]
     },
     "execution_count": 14,
     "metadata": {},
     "output_type": "execute_result"
    }
   ],
   "source": [
    "-1 in clean_customer_data"
   ]
  },
  {
   "cell_type": "code",
   "execution_count": 15,
   "metadata": {},
   "outputs": [
    {
     "data": {
      "text/plain": [
       "False"
      ]
     },
     "execution_count": 15,
     "metadata": {},
     "output_type": "execute_result"
    }
   ],
   "source": [
    "0 in clean_customer_data"
   ]
  },
  {
   "cell_type": "markdown",
   "metadata": {},
   "source": [
    "Before going further, let's take a look at how many features are missing column-wise and row-wise."
   ]
  },
  {
   "cell_type": "code",
   "execution_count": 16,
   "metadata": {},
   "outputs": [
    {
     "data": {
      "text/plain": [
       "array([  2,   3,   3, ..., 266, 268, 268])"
      ]
     },
     "execution_count": 16,
     "metadata": {},
     "output_type": "execute_result"
    }
   ],
   "source": [
    "clean_customer_data.isnull().sum(axis=1).sort_values().values"
   ]
  },
  {
   "cell_type": "code",
   "execution_count": 17,
   "metadata": {},
   "outputs": [
    {
     "data": {
      "text/plain": [
       "[<matplotlib.lines.Line2D at 0x7fca51f4ea58>]"
      ]
     },
     "execution_count": 17,
     "metadata": {},
     "output_type": "execute_result"
    },
    {
     "data": {
      "image/png": "[encoded data removed]",
      "text/plain": [
       "<Figure size 432x288 with 1 Axes>"
      ]
     },
     "metadata": {
      "needs_background": "light"
     },
     "output_type": "display_data"
    }
   ],
   "source": [
    "plt.plot(clean_customer_data.isnull().sum(axis=1).sort_values().values)"
   ]
  },
  {
   "cell_type": "code",
   "execution_count": 18,
   "metadata": {},
   "outputs": [
    {
     "data": {
      "text/plain": [
       "<AxesSubplot:>"
      ]
     },
     "execution_count": 18,
     "metadata": {},
     "output_type": "execute_result"
    },
    {
     "data": {
      "image/png": "[encoded data removed]",
      "text/plain": [
       "<Figure size 432x288 with 1 Axes>"
      ]
     },
     "metadata": {
      "needs_background": "light"
     },
     "output_type": "display_data"
    }
   ],
   "source": [
    "clean_customer_data.isnull().sum(axis=0).sort_values().plot()"
   ]
  },
  {
   "cell_type": "markdown",
   "metadata": {},
   "source": [
    "### b. Removing data points with big number of missing features\n",
    "\n",
    "In this step, we remove data points which have a lot of missing features"
   ]
  },
  {
   "cell_type": "code",
   "execution_count": 19,
   "metadata": {},
   "outputs": [],
   "source": [
    "num_missing_features = (clean_customer_data.isnull().sum(axis = 1))"
   ]
  },
  {
   "cell_type": "code",
   "execution_count": 21,
   "metadata": {},
   "outputs": [
    {
     "data": {
      "image/png": "[encoded data removed]",
      "text/plain": [
       "<Figure size 1440x360 with 1 Axes>"
      ]
     },
     "metadata": {
      "needs_background": "light"
     },
     "output_type": "display_data"
    }
   ],
   "source": [
    "plt.figure(figsize=(20,5))\n",
    "plt.plot(num_missing_features.sort_values().to_list(), \"x-\")\n",
    "# plt.xticks(rotation = 90,fontsize=3) # Rotates X-Axis Ticks by 45-degrees\n",
    "plt.show()"
   ]
  },
  {
   "cell_type": "code",
   "execution_count": 22,
   "metadata": {},
   "outputs": [
    {
     "data": {
      "image/png": "[encoded data removed]",
      "text/plain": [
       "<Figure size 1440x360 with 1 Axes>"
      ]
     },
     "metadata": {
      "needs_background": "light"
     },
     "output_type": "display_data"
    }
   ],
   "source": [
    "plt.figure(figsize=(20,5))\n",
    "plt.plot(num_missing_features.sort_values()[num_missing_features<=15].to_list(), \"x-\")\n",
    "# plt.xticks(rotation = 90,fontsize=3) # Rotates X-Axis Ticks by 45-degrees\n",
    "plt.show()"
   ]
  },
  {
   "cell_type": "code",
   "execution_count": 23,
   "metadata": {},
   "outputs": [
    {
     "data": {
      "text/plain": [
       "0.6553440611107633"
      ]
     },
     "execution_count": 23,
     "metadata": {},
     "output_type": "execute_result"
    }
   ],
   "source": [
    "num_missing_features[num_missing_features<=15].size/num_missing_features.size"
   ]
  },
  {
   "cell_type": "code",
   "execution_count": 24,
   "metadata": {},
   "outputs": [
    {
     "data": {
      "text/plain": [
       "[<matplotlib.lines.Line2D at 0x7fca50cbfa58>]"
      ]
     },
     "execution_count": 24,
     "metadata": {},
     "output_type": "execute_result"
    },
    {
     "data": {
      "image/png": "[encoded data removed]",
      "text/plain": [
       "<Figure size 432x288 with 1 Axes>"
      ]
     },
     "metadata": {
      "needs_background": "light"
     },
     "output_type": "display_data"
    }
   ],
   "source": [
    "plt.plot(num_missing_features[num_missing_features>=260].sort_values().to_list(), \"x-\")"
   ]
  },
  {
   "cell_type": "code",
   "execution_count": 96,
   "metadata": {},
   "outputs": [
    {
     "data": {
      "text/plain": [
       "0.24314904097009163"
      ]
     },
     "execution_count": 96,
     "metadata": {},
     "output_type": "execute_result"
    }
   ],
   "source": [
    "#num_missing_people[num_missing_people>=260].size/num_missing_people.size"
   ]
  },
  {
   "cell_type": "code",
   "execution_count": 97,
   "metadata": {},
   "outputs": [
    {
     "data": {
      "text/plain": [
       "0.7046070460704607"
      ]
     },
     "execution_count": 97,
     "metadata": {},
     "output_type": "execute_result"
    }
   ],
   "source": [
    "#260/369"
   ]
  },
  {
   "cell_type": "markdown",
   "metadata": {},
   "source": [
    "It turns out that most datapoint have missing features, about 1/4 data has over 260 or 70% percent of missing features.\n",
    "\n",
    "Looking at the distribution of number of missing features, there is a turning point at around 65% of data, a threshold of 20 missing features, after which the number of missing features increases dramatically. That turning point is about 65% of data ~ 129434 data. Therefore, I pick these number of data and decide to discard data that has number of features more than that."
   ]
  },
  {
   "cell_type": "code",
   "execution_count": 25,
   "metadata": {},
   "outputs": [],
   "source": [
    "keep_index = num_missing_features[num_missing_features<=15].index"
   ]
  },
  {
   "cell_type": "code",
   "execution_count": 26,
   "metadata": {},
   "outputs": [
    {
     "data": {
      "text/plain": [
       "125598"
      ]
     },
     "execution_count": 26,
     "metadata": {},
     "output_type": "execute_result"
    }
   ],
   "source": [
    "keep_index.size"
   ]
  },
  {
   "cell_type": "code",
   "execution_count": 27,
   "metadata": {},
   "outputs": [],
   "source": [
    "clean_customer_data = clean_customer_data.loc[keep_index, :]"
   ]
  },
  {
   "cell_type": "markdown",
   "metadata": {},
   "source": [
    "Take a look at missing data again:"
   ]
  },
  {
   "cell_type": "code",
   "execution_count": 28,
   "metadata": {},
   "outputs": [
    {
     "data": {
      "text/plain": [
       "<AxesSubplot:>"
      ]
     },
     "execution_count": 28,
     "metadata": {},
     "output_type": "execute_result"
    },
    {
     "data": {
      "image/png": "[encoded data removed]",
      "text/plain": [
       "<Figure size 432x288 with 1 Axes>"
      ]
     },
     "metadata": {
      "needs_background": "light"
     },
     "output_type": "display_data"
    }
   ],
   "source": [
    "clean_customer_data.isnull().sum(axis=0).sort_values().plot()"
   ]
  },
  {
   "cell_type": "markdown",
   "metadata": {},
   "source": [
    "### c. Removing features with big number of missing data\n",
    "In this step, I remove features that most data point do not have"
   ]
  },
  {
   "cell_type": "code",
   "execution_count": 29,
   "metadata": {},
   "outputs": [],
   "source": [
    "num_missing_features = clean_customer_data.isnull().sum(axis = 0)"
   ]
  },
  {
   "cell_type": "markdown",
   "metadata": {},
   "source": [
    "302 features are present for all data points"
   ]
  },
  {
   "cell_type": "code",
   "execution_count": 30,
   "metadata": {},
   "outputs": [
    {
     "data": {
      "text/plain": [
       "302"
      ]
     },
     "execution_count": 30,
     "metadata": {},
     "output_type": "execute_result"
    }
   ],
   "source": [
    "num_missing_features[num_missing_features == 0].size"
   ]
  },
  {
   "cell_type": "code",
   "execution_count": 31,
   "metadata": {},
   "outputs": [
    {
     "data": {
      "text/plain": [
       "67"
      ]
     },
     "execution_count": 31,
     "metadata": {},
     "output_type": "execute_result"
    }
   ],
   "source": [
    "num_missing_features[num_missing_features > 0].size"
   ]
  },
  {
   "cell_type": "markdown",
   "metadata": {},
   "source": [
    "Only 67 features are not found in each datapoint. Instead of discarding them, might make sense to keep some of them."
   ]
  },
  {
   "cell_type": "code",
   "execution_count": 32,
   "metadata": {
    "jupyter": {
     "outputs_hidden": true
    },
    "scrolled": true
   },
   "outputs": [
    {
     "data": {
      "text/plain": [
       "{'LNR': 7.961910221500342e-06,\n",
       " 'KBA05_AUTOQUOT': 7.961910221500342e-06,\n",
       " 'KBA05_GBZ': 1.5923820443000684e-05,\n",
       " 'KONSUMNAEHE': 3.9809551107501713e-05,\n",
       " 'KOMBIALTER': 4.777146132900205e-05,\n",
       " 'BALLRAUM': 0.00013535247376550582,\n",
       " 'INNENSTADT': 0.00013535247376550582,\n",
       " 'EWDICHTE': 0.00013535247376550582,\n",
       " 'PLZ8_ANTG2': 0.0003184764088600137,\n",
       " 'PLZ8_ANTG4': 0.0003184764088600137,\n",
       " 'PLZ8_BAUMAX': 0.0003184764088600137,\n",
       " 'PLZ8_GBZ': 0.0003184764088600137,\n",
       " 'PLZ8_HHZ': 0.0003184764088600137,\n",
       " 'PLZ8_ANTG3': 0.0003184764088600137,\n",
       " 'PLZ8_ANTG1': 0.0003184764088600137,\n",
       " 'CAMEO_DEU_2015': 0.0006528766381630281,\n",
       " 'CAMEO_DEUG_2015': 0.0006528766381630281,\n",
       " 'CAMEO_INTL_2015': 0.0006528766381630281,\n",
       " 'UMFELD_ALT': 0.0008678482141435373,\n",
       " 'UMFELD_JUNG': 0.0008678482141435373,\n",
       " 'ALTERSKATEGORIE_GROB': 0.0011465150718960493,\n",
       " 'STRUKTURTYP': 0.00163219159540757,\n",
       " 'GEMEINDETYP': 0.00163219159540757,\n",
       " 'RELAT_AB': 0.0017516202487300753,\n",
       " 'ARBEIT': 0.0017516202487300753,\n",
       " 'KBA05_HERSTTEMP': 0.0019825156451535853,\n",
       " 'D19_VERSI_ONLINE_DATUM': 0.0026831637446456153,\n",
       " 'VERDICHTUNGSRAUM': 0.006926861892705298,\n",
       " 'VHN': 0.00745234796732432,\n",
       " 'NATIONALITAET_KZ': 0.00838389146323986,\n",
       " 'LP_LEBENSPHASE_GROB': 0.008582939218777369,\n",
       " 'SHOPPER_TYP': 0.00953040653513591,\n",
       " 'VERS_TYP': 0.00953040653513591,\n",
       " 'HEALTH_TYP': 0.00953040653513591,\n",
       " 'VK_ZG11': 0.014212009745378111,\n",
       " 'D19_VERSI_OFFLINE_DATUM': 0.01441105750091562,\n",
       " 'ANZ_STATISTISCHE_HAUSHALTE': 0.014912657844870142,\n",
       " 'LP_FAMILIE_FEIN': 0.016664278093600216,\n",
       " 'LP_LEBENSPHASE_FEIN': 0.019968470835522858,\n",
       " 'ANZ_HAUSHALTE_AKTIV': 0.024952626634182073,\n",
       " 'AKT_DAT_KL': 0.028320514657876716,\n",
       " 'HH_DELTA_FLAG': 0.031027564133186834,\n",
       " 'ANZ_PERSONEN': 0.03150527874647686,\n",
       " 'VK_DISTANZ': 0.03419640440134397,\n",
       " 'W_KEIT_KIND_HH': 0.036481472634914566,\n",
       " 'KKK': 0.04579690759406997,\n",
       " 'REGIOTYP': 0.04579690759406997,\n",
       " 'VK_DHT4A': 0.054220608608417334,\n",
       " 'D19_KONSUMTYP': 0.07042309590917052,\n",
       " 'ORTSGR_KLS9': 0.08086116020955748,\n",
       " 'PRAEGENDE_JUGENDJAHRE': 0.08179270370547302,\n",
       " 'D19_VERSI_DATUM': 0.10354464243061196,\n",
       " 'ALTERSKATEGORIE_FEIN': 0.16577493272185864,\n",
       " 'LP_STATUS_FEIN': 0.21276612684915364,\n",
       " 'EXTSEL992': 0.2372728865109317,\n",
       " 'AGER_TYP': 0.2854504052612303,\n",
       " 'GEBURTSJAHR': 0.30615137183713115,\n",
       " 'KBA05_BAUMAX': 0.38680552238092963,\n",
       " 'KK_KUNDENTYP': 0.43334288762559914,\n",
       " 'WOHNDAUER_2008': 0.9000939505406137,\n",
       " 'ALTER_KIND1': 0.9271087119221644,\n",
       " 'ANZ_HH_TITEL': 0.9573878564945302,\n",
       " 'ALTER_KIND2': 0.9688450453032692,\n",
       " 'ANZ_TITEL': 0.9801668816382426,\n",
       " 'TITEL_KZ': 0.9833118361757353,\n",
       " 'ALTER_KIND3': 0.9918868134842912,\n",
       " 'ALTER_KIND4': 0.998391694135257}"
      ]
     },
     "execution_count": 32,
     "metadata": {},
     "output_type": "execute_result"
    }
   ],
   "source": [
    "num_missing_features[num_missing_features > 0].divide(clean_customer_data.index.size).sort_values().to_dict()"
   ]
  },
  {
   "cell_type": "markdown",
   "metadata": {},
   "source": [
    "Keep features that less than 20% of data are missing\n",
    "\n",
    "https://discuss.analyticsvidhya.com/t/what-should-be-the-allowed-percentage-of-missing-values/2456"
   ]
  },
  {
   "cell_type": "code",
   "execution_count": 33,
   "metadata": {},
   "outputs": [],
   "source": [
    "keep_features = num_missing_features[num_missing_features.divide(clean_customer_data.index.size)<0.2].index"
   ]
  },
  {
   "cell_type": "code",
   "execution_count": 34,
   "metadata": {},
   "outputs": [
    {
     "data": {
      "text/plain": [
       "355"
      ]
     },
     "execution_count": 34,
     "metadata": {},
     "output_type": "execute_result"
    }
   ],
   "source": [
    "keep_features.size"
   ]
  },
  {
   "cell_type": "code",
   "execution_count": 35,
   "metadata": {},
   "outputs": [],
   "source": [
    "clean_customer_data = clean_customer_data.loc[:,keep_features]"
   ]
  },
  {
   "cell_type": "code",
   "execution_count": 36,
   "metadata": {},
   "outputs": [],
   "source": [
    "clean_customer_data.to_csv('clean_customer_data.csv')"
   ]
  },
  {
   "cell_type": "code",
   "execution_count": 131,
   "metadata": {},
   "outputs": [],
   "source": [
    "clean_customer_data.head().transpose().iloc[:,:1].to_csv('features.csv')"
   ]
  },
  {
   "cell_type": "code",
   "execution_count": 37,
   "metadata": {},
   "outputs": [
    {
     "data": {
      "text/html": [
       "<div>\n",
       "<style scoped>\n",
       "    .dataframe tbody tr th:only-of-type {\n",
       "        vertical-align: middle;\n",
       "    }\n",
       "\n",
       "    .dataframe tbody tr th {\n",
       "        vertical-align: top;\n",
       "    }\n",
       "\n",
       "    .dataframe thead th {\n",
       "        text-align: right;\n",
       "    }\n",
       "</style>\n",
       "<table border=\"1\" class=\"dataframe\">\n",
       "  <thead>\n",
       "    <tr style=\"text-align: right;\">\n",
       "      <th></th>\n",
       "      <th>LNR</th>\n",
       "      <th>AKT_DAT_KL</th>\n",
       "      <th>ALTER_HH</th>\n",
       "      <th>ALTERSKATEGORIE_FEIN</th>\n",
       "      <th>ANZ_HAUSHALTE_AKTIV</th>\n",
       "      <th>ANZ_KINDER</th>\n",
       "      <th>ANZ_PERSONEN</th>\n",
       "      <th>ANZ_STATISTISCHE_HAUSHALTE</th>\n",
       "      <th>ARBEIT</th>\n",
       "      <th>BALLRAUM</th>\n",
       "      <th>...</th>\n",
       "      <th>VK_DISTANZ</th>\n",
       "      <th>VK_ZG11</th>\n",
       "      <th>W_KEIT_KIND_HH</th>\n",
       "      <th>WOHNLAGE</th>\n",
       "      <th>ZABEOTYP</th>\n",
       "      <th>PRODUCT_GROUP</th>\n",
       "      <th>CUSTOMER_GROUP</th>\n",
       "      <th>ONLINE_PURCHASE</th>\n",
       "      <th>ANREDE_KZ</th>\n",
       "      <th>ALTERSKATEGORIE_GROB</th>\n",
       "    </tr>\n",
       "  </thead>\n",
       "  <tbody>\n",
       "    <tr>\n",
       "      <th>0</th>\n",
       "      <td>9626.0</td>\n",
       "      <td>1.0</td>\n",
       "      <td>10.0</td>\n",
       "      <td>10.0</td>\n",
       "      <td>1.0</td>\n",
       "      <td>0.0</td>\n",
       "      <td>2.0</td>\n",
       "      <td>1.0</td>\n",
       "      <td>1.0</td>\n",
       "      <td>3.0</td>\n",
       "      <td>...</td>\n",
       "      <td>3.0</td>\n",
       "      <td>2.0</td>\n",
       "      <td>6.0</td>\n",
       "      <td>7.0</td>\n",
       "      <td>3</td>\n",
       "      <td>COSMETIC_AND_FOOD</td>\n",
       "      <td>MULTI_BUYER</td>\n",
       "      <td>0</td>\n",
       "      <td>1</td>\n",
       "      <td>4.0</td>\n",
       "    </tr>\n",
       "    <tr>\n",
       "      <th>2</th>\n",
       "      <td>143872.0</td>\n",
       "      <td>1.0</td>\n",
       "      <td>6.0</td>\n",
       "      <td>0.0</td>\n",
       "      <td>1.0</td>\n",
       "      <td>0.0</td>\n",
       "      <td>1.0</td>\n",
       "      <td>1.0</td>\n",
       "      <td>3.0</td>\n",
       "      <td>7.0</td>\n",
       "      <td>...</td>\n",
       "      <td>13.0</td>\n",
       "      <td>11.0</td>\n",
       "      <td>6.0</td>\n",
       "      <td>2.0</td>\n",
       "      <td>3</td>\n",
       "      <td>COSMETIC_AND_FOOD</td>\n",
       "      <td>MULTI_BUYER</td>\n",
       "      <td>0</td>\n",
       "      <td>2</td>\n",
       "      <td>4.0</td>\n",
       "    </tr>\n",
       "    <tr>\n",
       "      <th>4</th>\n",
       "      <td>143874.0</td>\n",
       "      <td>1.0</td>\n",
       "      <td>20.0</td>\n",
       "      <td>14.0</td>\n",
       "      <td>7.0</td>\n",
       "      <td>0.0</td>\n",
       "      <td>4.0</td>\n",
       "      <td>7.0</td>\n",
       "      <td>3.0</td>\n",
       "      <td>3.0</td>\n",
       "      <td>...</td>\n",
       "      <td>5.0</td>\n",
       "      <td>4.0</td>\n",
       "      <td>2.0</td>\n",
       "      <td>3.0</td>\n",
       "      <td>1</td>\n",
       "      <td>FOOD</td>\n",
       "      <td>MULTI_BUYER</td>\n",
       "      <td>0</td>\n",
       "      <td>1</td>\n",
       "      <td>3.0</td>\n",
       "    </tr>\n",
       "    <tr>\n",
       "      <th>5</th>\n",
       "      <td>143888.0</td>\n",
       "      <td>1.0</td>\n",
       "      <td>11.0</td>\n",
       "      <td>10.0</td>\n",
       "      <td>1.0</td>\n",
       "      <td>0.0</td>\n",
       "      <td>2.0</td>\n",
       "      <td>1.0</td>\n",
       "      <td>3.0</td>\n",
       "      <td>7.0</td>\n",
       "      <td>...</td>\n",
       "      <td>2.0</td>\n",
       "      <td>1.0</td>\n",
       "      <td>6.0</td>\n",
       "      <td>1.0</td>\n",
       "      <td>2</td>\n",
       "      <td>COSMETIC_AND_FOOD</td>\n",
       "      <td>MULTI_BUYER</td>\n",
       "      <td>0</td>\n",
       "      <td>1</td>\n",
       "      <td>3.0</td>\n",
       "    </tr>\n",
       "    <tr>\n",
       "      <th>6</th>\n",
       "      <td>143904.0</td>\n",
       "      <td>1.0</td>\n",
       "      <td>10.0</td>\n",
       "      <td>10.0</td>\n",
       "      <td>1.0</td>\n",
       "      <td>0.0</td>\n",
       "      <td>2.0</td>\n",
       "      <td>1.0</td>\n",
       "      <td>2.0</td>\n",
       "      <td>6.0</td>\n",
       "      <td>...</td>\n",
       "      <td>4.0</td>\n",
       "      <td>2.0</td>\n",
       "      <td>6.0</td>\n",
       "      <td>7.0</td>\n",
       "      <td>1</td>\n",
       "      <td>COSMETIC_AND_FOOD</td>\n",
       "      <td>MULTI_BUYER</td>\n",
       "      <td>0</td>\n",
       "      <td>1</td>\n",
       "      <td>4.0</td>\n",
       "    </tr>\n",
       "  </tbody>\n",
       "</table>\n",
       "<p>5 rows × 355 columns</p>\n",
       "</div>"
      ],
      "text/plain": [
       "        LNR  AKT_DAT_KL  ALTER_HH  ALTERSKATEGORIE_FEIN  ANZ_HAUSHALTE_AKTIV  \\\n",
       "0    9626.0         1.0      10.0                  10.0                  1.0   \n",
       "2  143872.0         1.0       6.0                   0.0                  1.0   \n",
       "4  143874.0         1.0      20.0                  14.0                  7.0   \n",
       "5  143888.0         1.0      11.0                  10.0                  1.0   \n",
       "6  143904.0         1.0      10.0                  10.0                  1.0   \n",
       "\n",
       "   ANZ_KINDER  ANZ_PERSONEN  ANZ_STATISTISCHE_HAUSHALTE  ARBEIT  BALLRAUM  \\\n",
       "0         0.0           2.0                         1.0     1.0       3.0   \n",
       "2         0.0           1.0                         1.0     3.0       7.0   \n",
       "4         0.0           4.0                         7.0     3.0       3.0   \n",
       "5         0.0           2.0                         1.0     3.0       7.0   \n",
       "6         0.0           2.0                         1.0     2.0       6.0   \n",
       "\n",
       "   ... VK_DISTANZ VK_ZG11 W_KEIT_KIND_HH  WOHNLAGE  ZABEOTYP  \\\n",
       "0  ...        3.0     2.0            6.0       7.0         3   \n",
       "2  ...       13.0    11.0            6.0       2.0         3   \n",
       "4  ...        5.0     4.0            2.0       3.0         1   \n",
       "5  ...        2.0     1.0            6.0       1.0         2   \n",
       "6  ...        4.0     2.0            6.0       7.0         1   \n",
       "\n",
       "       PRODUCT_GROUP  CUSTOMER_GROUP  ONLINE_PURCHASE  ANREDE_KZ  \\\n",
       "0  COSMETIC_AND_FOOD     MULTI_BUYER                0          1   \n",
       "2  COSMETIC_AND_FOOD     MULTI_BUYER                0          2   \n",
       "4               FOOD     MULTI_BUYER                0          1   \n",
       "5  COSMETIC_AND_FOOD     MULTI_BUYER                0          1   \n",
       "6  COSMETIC_AND_FOOD     MULTI_BUYER                0          1   \n",
       "\n",
       "   ALTERSKATEGORIE_GROB  \n",
       "0                   4.0  \n",
       "2                   4.0  \n",
       "4                   3.0  \n",
       "5                   3.0  \n",
       "6                   4.0  \n",
       "\n",
       "[5 rows x 355 columns]"
      ]
     },
     "execution_count": 37,
     "metadata": {},
     "output_type": "execute_result"
    }
   ],
   "source": [
    "clean_customer_data.head()"
   ]
  },
  {
   "cell_type": "markdown",
   "metadata": {},
   "source": [
    "-------"
   ]
  },
  {
   "cell_type": "markdown",
   "metadata": {},
   "source": [
    "### d. Further cleaning"
   ]
  },
  {
   "cell_type": "markdown",
   "metadata": {},
   "source": [
    "Before imputing missing data, let's examine our data and see if there are ones that needs further cleaning.\n",
    "\n",
    "missing features explanation.\n",
    "\n",
    "First, an important observation to make here: most features are ordinal, meaning variables have ordered categories. For example most features with name \"KBA\" has integer values ranging from -1 to 5 meaning \"unknown\", \"very low\", \"low\", \"average\", \"high\", \"very high\". As I will adopt PCA method for feature selection, it is fair to treat these features as numericcal in that we regard the feature value not as a represenation of an ordered category, but a continuous number. \n",
    "\n",
    "Convert all values to meaningful ordinal. Some features has alphabetical values, convert the values to numerical. Such features include: CAMEO_DEU_2015, OST_WST_KZ. \n",
    "\n",
    "For features meaning year or date time, use the year value. These features include: EINGEFUEGT_AM, EINGEZOGENAM_HH_JAHR, MIN_GEBAEUDEJAHR. \n",
    "\n",
    "Keep one in pairs of features of same meaning, but of different granuity. For example, CAMEO_DEU_2015 and CAMEO_DEUG_2015 have the same meaning but the latter is more granular. Such features include: (CAMEO_DEU_2015, CAMEO_DEUG_2015), (LP_LEBENSPHASE_FEIN, LP_LEBENSPHASE_GROB), (LP_FAMILIE_FEIN, LP_FAMILIE_GROB). \n",
    "\n",
    "Manually determine for binary categorical features. These features include: OST_WEST_KZ, \n",
    "\n",
    "Remove features with collinearity. \n",
    "\n",
    "First, I categorize each feature with one of the following labels: Numerical or Ordinal, Categorical and Date. Categorical "
   ]
  },
  {
   "cell_type": "code",
   "execution_count": 450,
   "metadata": {},
   "outputs": [],
   "source": [
    "?pd.read_csv"
   ]
  },
  {
   "cell_type": "code",
   "execution_count": 703,
   "metadata": {},
   "outputs": [
    {
     "name": "stderr",
     "output_type": "stream",
     "text": [
      "/home/ec2-user/anaconda3/envs/mxnet_p36/lib/python3.6/site-packages/IPython/core/interactiveshell.py:3072: DtypeWarning: Columns (12,13) have mixed types.Specify dtype option on import or set low_memory=False.\n",
      "  interactivity=interactivity, compiler=compiler, result=result)\n"
     ]
    }
   ],
   "source": [
    "clean_customer_data = pd.read_csv(\"clean_customer_data.csv\",index_col='Unnamed: 0')"
   ]
  },
  {
   "cell_type": "code",
   "execution_count": 704,
   "metadata": {},
   "outputs": [
    {
     "name": "stdout",
     "output_type": "stream",
     "text": [
      "Number of features in cleaned data: 355\n",
      "Number of datapoints in cleaned data: 125598\n"
     ]
    }
   ],
   "source": [
    "print(\"Number of features in cleaned data: {}\".format(clean_customer_data.columns.size))\n",
    "print(\"Number of datapoints in cleaned data: {}\".format(clean_customer_data.index.size))"
   ]
  },
  {
   "cell_type": "code",
   "execution_count": 705,
   "metadata": {},
   "outputs": [],
   "source": [
    "clean_customer_data2 = clean_customer_data.copy()"
   ]
  },
  {
   "cell_type": "markdown",
   "metadata": {},
   "source": [
    "#### 1. convert letter values to numeric"
   ]
  },
  {
   "cell_type": "code",
   "execution_count": 706,
   "metadata": {},
   "outputs": [
    {
     "data": {
      "text/plain": [
       "True"
      ]
     },
     "execution_count": 706,
     "metadata": {},
     "output_type": "execute_result"
    }
   ],
   "source": [
    "clean_customer_data.OST_WEST_KZ.dtype == 'O'"
   ]
  },
  {
   "cell_type": "code",
   "execution_count": 707,
   "metadata": {},
   "outputs": [],
   "source": [
    "def convert_letter_values_to_numeric(df, columns):\n",
    "    for column in columns:\n",
    "        if not df[column].dtype == 'O':\n",
    "            pass\n",
    "        values = df[column].unique().tolist()\n",
    "        values.sort()\n",
    "        value2num = dict(zip(values,range(len(values))))\n",
    "        df[column] = df[column].apply(lambda x:value2num[x])\n",
    "    return df"
   ]
  },
  {
   "cell_type": "code",
   "execution_count": 708,
   "metadata": {},
   "outputs": [],
   "source": [
    "clean_customer_data2 = convert_letter_values_to_numeric(clean_customer_data2, ['OST_WEST_KZ','D19_LETZTER_KAUF_BRANCHE'])"
   ]
  },
  {
   "cell_type": "code",
   "execution_count": 709,
   "metadata": {},
   "outputs": [
    {
     "data": {
      "text/plain": [
       "array([1, 0])"
      ]
     },
     "execution_count": 709,
     "metadata": {},
     "output_type": "execute_result"
    }
   ],
   "source": [
    "clean_customer_data2.OST_WEST_KZ.unique()"
   ]
  },
  {
   "cell_type": "code",
   "execution_count": 710,
   "metadata": {},
   "outputs": [
    {
     "data": {
      "text/plain": [
       "array([30, 24,  8, 10, 25, 26, 32,  1, 33, 15, 11, 22,  2, 31, 12,  4, 28,\n",
       "       23,  0, 16, 27,  5,  3, 13, 14, 21,  9,  7, 18, 20,  6, 34, 29, 19,\n",
       "       17])"
      ]
     },
     "execution_count": 710,
     "metadata": {},
     "output_type": "execute_result"
    }
   ],
   "source": [
    "clean_customer_data2.D19_LETZTER_KAUF_BRANCHE.unique()"
   ]
  },
  {
   "cell_type": "markdown",
   "metadata": {},
   "source": [
    "#### 2. process date time to extract year"
   ]
  },
  {
   "cell_type": "code",
   "execution_count": 711,
   "metadata": {},
   "outputs": [
    {
     "data": {
      "text/plain": [
       "array(['1992-02-12 00:00:00', '1992-02-10 00:00:00',\n",
       "       '2004-10-14 00:00:00', ..., '2002-02-08 00:00:00',\n",
       "       '2004-10-28 00:00:00', '2005-03-30 00:00:00'], dtype=object)"
      ]
     },
     "execution_count": 711,
     "metadata": {},
     "output_type": "execute_result"
    }
   ],
   "source": [
    "clean_customer_data.EINGEFUEGT_AM.unique()"
   ]
  },
  {
   "cell_type": "code",
   "execution_count": 712,
   "metadata": {},
   "outputs": [],
   "source": [
    "def process_datetime(df, columns):\n",
    "    for column in columns:\n",
    "        if isinstance(df[column][0], str):\n",
    "            df[column] = df[column].apply(lambda x:int(x[:4]))\n",
    "    return df"
   ]
  },
  {
   "cell_type": "code",
   "execution_count": 713,
   "metadata": {},
   "outputs": [],
   "source": [
    "clean_customer_data2 = process_datetime(clean_customer_data2, ['EINGEFUEGT_AM'])"
   ]
  },
  {
   "cell_type": "code",
   "execution_count": 714,
   "metadata": {
    "scrolled": true
   },
   "outputs": [
    {
     "data": {
      "text/plain": [
       "array([1992, 2004, 1997, 1995, 1996, 1994, 2003, 1993, 2005, 1998, 2000,\n",
       "       1999, 2001, 2002])"
      ]
     },
     "execution_count": 714,
     "metadata": {},
     "output_type": "execute_result"
    }
   ],
   "source": [
    "clean_customer_data2.EINGEFUEGT_AM.unique()"
   ]
  },
  {
   "cell_type": "markdown",
   "metadata": {},
   "source": [
    "#### 3. clean column CAMEO_DEUG"
   ]
  },
  {
   "cell_type": "code",
   "execution_count": 715,
   "metadata": {},
   "outputs": [],
   "source": [
    "def process_CAMEO_DEUG(df):\n",
    "    df.CAMEO_DEUG_2015 = df.CAMEO_DEUG_2015.apply(lambda x:0 if x=='X' else int(x) if not math.isnan(x) else x)"
   ]
  },
  {
   "cell_type": "code",
   "execution_count": 716,
   "metadata": {},
   "outputs": [
    {
     "data": {
      "text/plain": [
       "array(['1.0', '5.0', '7.0', '3.0', '9.0', '2.0', '4.0', '8.0', '6.0', nan,\n",
       "       '6', '3', '8', '9', '2', '4', '1', '7', '5', 'X', 3.0, 4.0, 6.0,\n",
       "       2.0, 9.0, 1.0, 5.0, 8.0, 7.0], dtype=object)"
      ]
     },
     "execution_count": 716,
     "metadata": {},
     "output_type": "execute_result"
    }
   ],
   "source": [
    "clean_customer_data.CAMEO_DEUG_2015.unique()"
   ]
  },
  {
   "cell_type": "code",
   "execution_count": 717,
   "metadata": {},
   "outputs": [],
   "source": [
    "def get_int_or_nan(x):\n",
    "    if isinstance(x, float) or isinstance(x, int):\n",
    "        if math.isnan(x):\n",
    "            return x\n",
    "        else:\n",
    "            return int(float(x))\n",
    "    elif x[0].isdecimal():\n",
    "        return int(float(x))\n",
    "    elif x.isalpha():\n",
    "        return np.nan\n",
    "    else:\n",
    "        return int(x)"
   ]
  },
  {
   "cell_type": "code",
   "execution_count": 718,
   "metadata": {},
   "outputs": [],
   "source": [
    "clean_customer_data2.CAMEO_DEUG_2015 = clean_customer_data2.CAMEO_DEUG_2015.apply(get_int_or_nan)"
   ]
  },
  {
   "cell_type": "code",
   "execution_count": 719,
   "metadata": {},
   "outputs": [
    {
     "data": {
      "text/plain": [
       "array([ 1.,  5.,  7.,  3.,  9.,  2.,  4.,  8.,  6., nan])"
      ]
     },
     "execution_count": 719,
     "metadata": {},
     "output_type": "execute_result"
    }
   ],
   "source": [
    "clean_customer_data2.CAMEO_DEUG_2015.unique()"
   ]
  },
  {
   "cell_type": "code",
   "execution_count": 720,
   "metadata": {
    "scrolled": true
   },
   "outputs": [
    {
     "data": {
      "text/plain": [
       "[]"
      ]
     },
     "execution_count": 720,
     "metadata": {},
     "output_type": "execute_result"
    },
    {
     "data": {
      "image/png": "[encoded data removed]",
      "text/plain": [
       "<Figure size 432x288 with 1 Axes>"
      ]
     },
     "metadata": {
      "needs_background": "light"
     },
     "output_type": "display_data"
    }
   ],
   "source": [
    "clean_customer_data2.CAMEO_DEUG_2015.hist().plot()"
   ]
  },
  {
   "cell_type": "markdown",
   "metadata": {},
   "source": [
    "#### 4. Remove duplicate features \n",
    "- CAMEO_DEUG_2015, CAMEO_DEU_2015 --> drop CAMEO_DEU_2015\n",
    "- ALTERSKATEGORIE_FEIN, ALTERSKATEGORIE_GROB -> drop ALTERSKATEGORIE_FEIN\n",
    "- LP_LEBENSPHASE_FEIN, LP_LEBENSPHASE_GROB -> drop LP_LEBENSPHASE_FEIN\n",
    "- LP_FAMILIE_FEIN, LP_FAMILIE_GROB -> drop LP_FAMILIE_FEIN"
   ]
  },
  {
   "cell_type": "code",
   "execution_count": 721,
   "metadata": {},
   "outputs": [],
   "source": [
    "columns_to_remove = ['CAMEO_DEU_2015','ALTERSKATEGORIE_FEIN','LP_LEBENSPHASE_FEIN','LP_FAMILIE_FEIN']"
   ]
  },
  {
   "cell_type": "code",
   "execution_count": 722,
   "metadata": {},
   "outputs": [],
   "source": [
    "def remove_columns(df, columns):\n",
    "    drop_columns = []\n",
    "    for c in columns:\n",
    "        if c in df.columns:\n",
    "            drop_columns.append(c)\n",
    "    df = df.drop(columns=drop_columns)\n",
    "    return df"
   ]
  },
  {
   "cell_type": "code",
   "execution_count": 723,
   "metadata": {},
   "outputs": [],
   "source": [
    "clean_customer_data2 = remove_columns(clean_customer_data2, columns_to_remove)"
   ]
  },
  {
   "cell_type": "code",
   "execution_count": 724,
   "metadata": {},
   "outputs": [
    {
     "data": {
      "text/plain": [
       "False"
      ]
     },
     "execution_count": 724,
     "metadata": {},
     "output_type": "execute_result"
    }
   ],
   "source": [
    "'CAMEO_DEU_2015' in clean_customer_data2.columns"
   ]
  },
  {
   "cell_type": "markdown",
   "metadata": {},
   "source": [
    "#### 5. Remove features that the number of mode has > 90% across all data"
   ]
  },
  {
   "cell_type": "code",
   "execution_count": 725,
   "metadata": {},
   "outputs": [],
   "source": [
    "small_variation_features = \\\n",
    "clean_customer_data2.columns[clean_customer_data2.apply(lambda x: x.value_counts(normalize=True).to_list()[0])>0.9]"
   ]
  },
  {
   "cell_type": "code",
   "execution_count": 726,
   "metadata": {},
   "outputs": [
    {
     "data": {
      "text/plain": [
       "ANZ_KINDER                    0.915373\n",
       "D19_BANKEN_ANZ_12             0.917475\n",
       "D19_BANKEN_LOKAL              0.969753\n",
       "D19_BANKEN_OFFLINE_DATUM      0.945556\n",
       "D19_BANKEN_ONLINE_QUOTE_12    0.951894\n",
       "D19_DIGIT_SERV                0.942881\n",
       "D19_GARTEN                    0.916687\n",
       "D19_TELKO_ANZ_12              0.948701\n",
       "D19_TELKO_ANZ_24              0.905779\n",
       "D19_TELKO_ONLINE_DATUM        0.985079\n",
       "D19_TELKO_ONLINE_QUOTE_12     0.998654\n",
       "D19_TIERARTIKEL               0.944171\n",
       "D19_VERSI_OFFLINE_DATUM       0.973220\n",
       "D19_VERSI_ONLINE_DATUM        0.994635\n",
       "D19_VERSI_ONLINE_QUOTE_12     0.998129\n",
       "DSL_FLAG                      0.994347\n",
       "KBA05_ANTG4                   0.903717\n",
       "KBA13_KRSSEG_KLEIN            0.921711\n",
       "NATIONALITAET_KZ              0.974082\n",
       "OST_WEST_KZ                   0.921965\n",
       "SOHO_KZ                       0.990239\n",
       "UNGLEICHENN_FLAG              0.916822\n",
       "ONLINE_PURCHASE               0.916145\n",
       "dtype: float64"
      ]
     },
     "execution_count": 726,
     "metadata": {},
     "output_type": "execute_result"
    }
   ],
   "source": [
    "clean_customer_data2[small_variation_features].apply(lambda x :x.value_counts(normalize=True).to_list()[0])"
   ]
  },
  {
   "cell_type": "code",
   "execution_count": 727,
   "metadata": {},
   "outputs": [
    {
     "data": {
      "text/plain": [
       "0.0    0.915373\n",
       "1.0    0.050335\n",
       "2.0    0.025470\n",
       "3.0    0.007094\n",
       "4.0    0.001338\n",
       "5.0    0.000334\n",
       "6.0    0.000048\n",
       "8.0    0.000008\n",
       "Name: ANZ_KINDER, dtype: float64"
      ]
     },
     "execution_count": 727,
     "metadata": {},
     "output_type": "execute_result"
    }
   ],
   "source": [
    "clean_customer_data2[small_variation_features[0]].value_counts(normalize=True)"
   ]
  },
  {
   "cell_type": "code",
   "execution_count": 728,
   "metadata": {},
   "outputs": [],
   "source": [
    "clean_customer_data2 = remove_columns(clean_customer_data2, small_variation_features)"
   ]
  },
  {
   "cell_type": "code",
   "execution_count": 729,
   "metadata": {},
   "outputs": [
    {
     "data": {
      "text/plain": [
       "False"
      ]
     },
     "execution_count": 729,
     "metadata": {},
     "output_type": "execute_result"
    }
   ],
   "source": [
    "'D19_VERSI_ONLINE_QUOTE_12' in clean_customer_data2"
   ]
  },
  {
   "cell_type": "markdown",
   "metadata": {},
   "source": [
    "#### 6. Remove unrelated features and categorical features that have too many categories"
   ]
  },
  {
   "cell_type": "code",
   "execution_count": 730,
   "metadata": {
    "scrolled": true
   },
   "outputs": [
    {
     "data": {
      "text/plain": [
       "2.0    62568\n",
       "1.0    61833\n",
       "Name: VERS_TYP, dtype: int64"
      ]
     },
     "execution_count": 730,
     "metadata": {},
     "output_type": "execute_result"
    }
   ],
   "source": [
    "clean_customer_data2.VERS_TYP.value_counts()"
   ]
  },
  {
   "cell_type": "code",
   "execution_count": 731,
   "metadata": {},
   "outputs": [
    {
     "data": {
      "text/plain": [
       "True"
      ]
     },
     "execution_count": 731,
     "metadata": {},
     "output_type": "execute_result"
    }
   ],
   "source": [
    "'VERS_TYP' in clean_customer_data2.columns"
   ]
  },
  {
   "cell_type": "code",
   "execution_count": 732,
   "metadata": {},
   "outputs": [],
   "source": [
    "drop_features = ['LNR','PRODUCT_GROUP','CUSTOMER_GROUP','CAMEO_INTL_2015']"
   ]
  },
  {
   "cell_type": "code",
   "execution_count": 733,
   "metadata": {
    "scrolled": true
   },
   "outputs": [],
   "source": [
    "clean_customer_data2 = remove_columns(clean_customer_data2, drop_features)"
   ]
  },
  {
   "cell_type": "code",
   "execution_count": 734,
   "metadata": {},
   "outputs": [
    {
     "data": {
      "text/plain": [
       "False"
      ]
     },
     "execution_count": 734,
     "metadata": {},
     "output_type": "execute_result"
    }
   ],
   "source": [
    "'CAMEO_INTL_2015' in clean_customer_data2.columns"
   ]
  },
  {
   "cell_type": "markdown",
   "metadata": {},
   "source": [
    "#### 7. Remove features that have high correlation"
   ]
  },
  {
   "cell_type": "code",
   "execution_count": 735,
   "metadata": {},
   "outputs": [],
   "source": [
    "THRESHOLD = .85"
   ]
  },
  {
   "cell_type": "code",
   "execution_count": 736,
   "metadata": {},
   "outputs": [],
   "source": [
    "# def get_similar_columns(df, prefix):\n",
    "#     target_columns = []\n",
    "#     for c in clean_customer_data.columns:\n",
    "#         if c.startswith(prefix):\n",
    "#             target_columns.append(c)\n",
    "#     return target_columns"
   ]
  },
  {
   "cell_type": "code",
   "execution_count": 737,
   "metadata": {
    "scrolled": true
   },
   "outputs": [],
   "source": [
    "#D19 = get_similar_columns(clean_customer_data, 'D19')"
   ]
  },
  {
   "cell_type": "code",
   "execution_count": 181,
   "metadata": {},
   "outputs": [],
   "source": [
    "pd.set_option('display.max_rows', 100)\n",
    "pd.set_option('display.max_column', 100)"
   ]
  },
  {
   "cell_type": "code",
   "execution_count": 738,
   "metadata": {},
   "outputs": [
    {
     "data": {
      "text/plain": [
       "324"
      ]
     },
     "execution_count": 738,
     "metadata": {},
     "output_type": "execute_result"
    }
   ],
   "source": [
    "clean_customer_data2.columns.size"
   ]
  },
  {
   "cell_type": "code",
   "execution_count": 739,
   "metadata": {},
   "outputs": [],
   "source": [
    "corr_df = clean_customer_data2.corr()# corr_D19 = clean_customer_data.loc[:,D19].corr().iloc[:10,:10]"
   ]
  },
  {
   "cell_type": "code",
   "execution_count": 740,
   "metadata": {},
   "outputs": [
    {
     "data": {
      "text/html": [
       "<div>\n",
       "<style scoped>\n",
       "    .dataframe tbody tr th:only-of-type {\n",
       "        vertical-align: middle;\n",
       "    }\n",
       "\n",
       "    .dataframe tbody tr th {\n",
       "        vertical-align: top;\n",
       "    }\n",
       "\n",
       "    .dataframe thead th {\n",
       "        text-align: right;\n",
       "    }\n",
       "</style>\n",
       "<table border=\"1\" class=\"dataframe\">\n",
       "  <thead>\n",
       "    <tr style=\"text-align: right;\">\n",
       "      <th></th>\n",
       "      <th>AKT_DAT_KL</th>\n",
       "      <th>ALTER_HH</th>\n",
       "      <th>ANZ_HAUSHALTE_AKTIV</th>\n",
       "      <th>ANZ_PERSONEN</th>\n",
       "      <th>ANZ_STATISTISCHE_HAUSHALTE</th>\n",
       "      <th>ARBEIT</th>\n",
       "      <th>BALLRAUM</th>\n",
       "      <th>CAMEO_DEUG_2015</th>\n",
       "      <th>CJT_GESAMTTYP</th>\n",
       "      <th>CJT_KATALOGNUTZER</th>\n",
       "      <th>CJT_TYP_1</th>\n",
       "      <th>CJT_TYP_2</th>\n",
       "      <th>CJT_TYP_3</th>\n",
       "      <th>CJT_TYP_4</th>\n",
       "      <th>CJT_TYP_5</th>\n",
       "      <th>CJT_TYP_6</th>\n",
       "      <th>D19_BANKEN_ANZ_24</th>\n",
       "      <th>D19_BANKEN_DATUM</th>\n",
       "      <th>D19_BANKEN_DIREKT</th>\n",
       "      <th>D19_BANKEN_GROSS</th>\n",
       "      <th>D19_BANKEN_ONLINE_DATUM</th>\n",
       "      <th>D19_BANKEN_REST</th>\n",
       "      <th>D19_BEKLEIDUNG_GEH</th>\n",
       "      <th>D19_BEKLEIDUNG_REST</th>\n",
       "      <th>D19_BILDUNG</th>\n",
       "      <th>D19_BIO_OEKO</th>\n",
       "      <th>D19_BUCH_CD</th>\n",
       "      <th>D19_DROGERIEARTIKEL</th>\n",
       "      <th>D19_ENERGIE</th>\n",
       "      <th>D19_FREIZEIT</th>\n",
       "      <th>D19_GESAMT_ANZ_12</th>\n",
       "      <th>D19_GESAMT_ANZ_24</th>\n",
       "      <th>D19_GESAMT_DATUM</th>\n",
       "      <th>D19_GESAMT_OFFLINE_DATUM</th>\n",
       "      <th>D19_GESAMT_ONLINE_DATUM</th>\n",
       "      <th>D19_GESAMT_ONLINE_QUOTE_12</th>\n",
       "      <th>D19_HANDWERK</th>\n",
       "      <th>D19_HAUS_DEKO</th>\n",
       "      <th>D19_KINDERARTIKEL</th>\n",
       "      <th>D19_KONSUMTYP</th>\n",
       "      <th>D19_KONSUMTYP_MAX</th>\n",
       "      <th>D19_KOSMETIK</th>\n",
       "      <th>D19_LEBENSMITTEL</th>\n",
       "      <th>D19_LETZTER_KAUF_BRANCHE</th>\n",
       "      <th>D19_LOTTO</th>\n",
       "      <th>D19_NAHRUNGSERGAENZUNG</th>\n",
       "      <th>D19_RATGEBER</th>\n",
       "      <th>D19_REISEN</th>\n",
       "      <th>D19_SAMMELARTIKEL</th>\n",
       "      <th>D19_SCHUHE</th>\n",
       "      <th>...</th>\n",
       "      <th>LP_STATUS_GROB</th>\n",
       "      <th>MIN_GEBAEUDEJAHR</th>\n",
       "      <th>MOBI_RASTER</th>\n",
       "      <th>MOBI_REGIO</th>\n",
       "      <th>ONLINE_AFFINITAET</th>\n",
       "      <th>ORTSGR_KLS9</th>\n",
       "      <th>PLZ8_ANTG1</th>\n",
       "      <th>PLZ8_ANTG2</th>\n",
       "      <th>PLZ8_ANTG3</th>\n",
       "      <th>PLZ8_ANTG4</th>\n",
       "      <th>PLZ8_BAUMAX</th>\n",
       "      <th>PLZ8_GBZ</th>\n",
       "      <th>PLZ8_HHZ</th>\n",
       "      <th>PRAEGENDE_JUGENDJAHRE</th>\n",
       "      <th>REGIOTYP</th>\n",
       "      <th>RELAT_AB</th>\n",
       "      <th>RETOURTYP_BK_S</th>\n",
       "      <th>RT_KEIN_ANREIZ</th>\n",
       "      <th>RT_SCHNAEPPCHEN</th>\n",
       "      <th>RT_UEBERGROESSE</th>\n",
       "      <th>SEMIO_DOM</th>\n",
       "      <th>SEMIO_ERL</th>\n",
       "      <th>SEMIO_FAM</th>\n",
       "      <th>SEMIO_KAEM</th>\n",
       "      <th>SEMIO_KRIT</th>\n",
       "      <th>SEMIO_KULT</th>\n",
       "      <th>SEMIO_LUST</th>\n",
       "      <th>SEMIO_MAT</th>\n",
       "      <th>SEMIO_PFLICHT</th>\n",
       "      <th>SEMIO_RAT</th>\n",
       "      <th>SEMIO_REL</th>\n",
       "      <th>SEMIO_SOZ</th>\n",
       "      <th>SEMIO_TRADV</th>\n",
       "      <th>SEMIO_VERT</th>\n",
       "      <th>SHOPPER_TYP</th>\n",
       "      <th>STRUKTURTYP</th>\n",
       "      <th>UMFELD_ALT</th>\n",
       "      <th>UMFELD_JUNG</th>\n",
       "      <th>VERDICHTUNGSRAUM</th>\n",
       "      <th>VERS_TYP</th>\n",
       "      <th>VHA</th>\n",
       "      <th>VHN</th>\n",
       "      <th>VK_DHT4A</th>\n",
       "      <th>VK_DISTANZ</th>\n",
       "      <th>VK_ZG11</th>\n",
       "      <th>W_KEIT_KIND_HH</th>\n",
       "      <th>WOHNLAGE</th>\n",
       "      <th>ZABEOTYP</th>\n",
       "      <th>ANREDE_KZ</th>\n",
       "      <th>ALTERSKATEGORIE_GROB</th>\n",
       "    </tr>\n",
       "  </thead>\n",
       "  <tbody>\n",
       "    <tr>\n",
       "      <th>AKT_DAT_KL</th>\n",
       "      <td>1.000000</td>\n",
       "      <td>0.035864</td>\n",
       "      <td>0.096270</td>\n",
       "      <td>-0.064851</td>\n",
       "      <td>0.094834</td>\n",
       "      <td>0.048757</td>\n",
       "      <td>-0.052593</td>\n",
       "      <td>0.066128</td>\n",
       "      <td>0.049748</td>\n",
       "      <td>-0.077049</td>\n",
       "      <td>0.172887</td>\n",
       "      <td>0.186474</td>\n",
       "      <td>-0.168543</td>\n",
       "      <td>-0.152669</td>\n",
       "      <td>-0.167463</td>\n",
       "      <td>-0.157193</td>\n",
       "      <td>0.020035</td>\n",
       "      <td>-0.020133</td>\n",
       "      <td>0.029403</td>\n",
       "      <td>0.027657</td>\n",
       "      <td>-0.026596</td>\n",
       "      <td>0.007566</td>\n",
       "      <td>0.002832</td>\n",
       "      <td>-0.000023</td>\n",
       "      <td>-0.035456</td>\n",
       "      <td>-0.004559</td>\n",
       "      <td>-0.026108</td>\n",
       "      <td>0.017353</td>\n",
       "      <td>-0.008578</td>\n",
       "      <td>0.011783</td>\n",
       "      <td>0.005991</td>\n",
       "      <td>0.033415</td>\n",
       "      <td>-0.042112</td>\n",
       "      <td>0.009226</td>\n",
       "      <td>-0.046585</td>\n",
       "      <td>0.037065</td>\n",
       "      <td>-0.052051</td>\n",
       "      <td>-0.004219</td>\n",
       "      <td>-0.004228</td>\n",
       "      <td>0.027054</td>\n",
       "      <td>0.037468</td>\n",
       "      <td>-0.063691</td>\n",
       "      <td>-0.002930</td>\n",
       "      <td>-0.031074</td>\n",
       "      <td>-0.084115</td>\n",
       "      <td>-0.023445</td>\n",
       "      <td>-0.016193</td>\n",
       "      <td>-0.059438</td>\n",
       "      <td>-0.049999</td>\n",
       "      <td>0.015798</td>\n",
       "      <td>...</td>\n",
       "      <td>-0.092742</td>\n",
       "      <td>0.003641</td>\n",
       "      <td>-0.076145</td>\n",
       "      <td>-0.094293</td>\n",
       "      <td>0.059996</td>\n",
       "      <td>0.054374</td>\n",
       "      <td>-0.071929</td>\n",
       "      <td>0.046912</td>\n",
       "      <td>0.070468</td>\n",
       "      <td>0.065522</td>\n",
       "      <td>0.075033</td>\n",
       "      <td>-0.041220</td>\n",
       "      <td>0.022919</td>\n",
       "      <td>0.175853</td>\n",
       "      <td>0.013044</td>\n",
       "      <td>0.034969</td>\n",
       "      <td>-0.050076</td>\n",
       "      <td>0.092059</td>\n",
       "      <td>-0.051367</td>\n",
       "      <td>0.058945</td>\n",
       "      <td>0.073572</td>\n",
       "      <td>-0.008115</td>\n",
       "      <td>0.004245</td>\n",
       "      <td>0.069783</td>\n",
       "      <td>0.071994</td>\n",
       "      <td>-0.005748</td>\n",
       "      <td>-0.088165</td>\n",
       "      <td>0.025768</td>\n",
       "      <td>0.083132</td>\n",
       "      <td>0.087995</td>\n",
       "      <td>0.040807</td>\n",
       "      <td>-0.017156</td>\n",
       "      <td>0.061605</td>\n",
       "      <td>-0.072407</td>\n",
       "      <td>0.008702</td>\n",
       "      <td>0.041586</td>\n",
       "      <td>0.011493</td>\n",
       "      <td>-0.028864</td>\n",
       "      <td>0.013406</td>\n",
       "      <td>0.024861</td>\n",
       "      <td>-0.061745</td>\n",
       "      <td>0.019001</td>\n",
       "      <td>0.051314</td>\n",
       "      <td>0.107801</td>\n",
       "      <td>0.131249</td>\n",
       "      <td>-0.035755</td>\n",
       "      <td>-0.026797</td>\n",
       "      <td>0.094145</td>\n",
       "      <td>0.060821</td>\n",
       "      <td>-0.124617</td>\n",
       "    </tr>\n",
       "    <tr>\n",
       "      <th>ALTER_HH</th>\n",
       "      <td>0.035864</td>\n",
       "      <td>1.000000</td>\n",
       "      <td>-0.081622</td>\n",
       "      <td>0.476729</td>\n",
       "      <td>-0.079666</td>\n",
       "      <td>-0.082391</td>\n",
       "      <td>0.057528</td>\n",
       "      <td>-0.082334</td>\n",
       "      <td>0.191966</td>\n",
       "      <td>-0.389910</td>\n",
       "      <td>0.285934</td>\n",
       "      <td>0.246674</td>\n",
       "      <td>-0.305701</td>\n",
       "      <td>-0.336413</td>\n",
       "      <td>-0.282358</td>\n",
       "      <td>-0.251204</td>\n",
       "      <td>0.151355</td>\n",
       "      <td>-0.192425</td>\n",
       "      <td>0.232547</td>\n",
       "      <td>0.132432</td>\n",
       "      <td>-0.152472</td>\n",
       "      <td>0.160092</td>\n",
       "      <td>0.109312</td>\n",
       "      <td>0.191795</td>\n",
       "      <td>0.105253</td>\n",
       "      <td>0.110114</td>\n",
       "      <td>0.119005</td>\n",
       "      <td>0.215779</td>\n",
       "      <td>0.075120</td>\n",
       "      <td>0.248407</td>\n",
       "      <td>0.313676</td>\n",
       "      <td>0.350346</td>\n",
       "      <td>-0.309257</td>\n",
       "      <td>-0.132956</td>\n",
       "      <td>-0.334918</td>\n",
       "      <td>0.274107</td>\n",
       "      <td>0.088391</td>\n",
       "      <td>0.190327</td>\n",
       "      <td>0.207160</td>\n",
       "      <td>-0.168629</td>\n",
       "      <td>-0.054697</td>\n",
       "      <td>0.108020</td>\n",
       "      <td>0.092567</td>\n",
       "      <td>-0.123251</td>\n",
       "      <td>0.068763</td>\n",
       "      <td>0.048199</td>\n",
       "      <td>0.147745</td>\n",
       "      <td>0.097279</td>\n",
       "      <td>0.051389</td>\n",
       "      <td>0.189070</td>\n",
       "      <td>...</td>\n",
       "      <td>0.094985</td>\n",
       "      <td>0.089542</td>\n",
       "      <td>0.117692</td>\n",
       "      <td>0.123808</td>\n",
       "      <td>0.381113</td>\n",
       "      <td>-0.095567</td>\n",
       "      <td>0.086838</td>\n",
       "      <td>-0.087523</td>\n",
       "      <td>-0.097979</td>\n",
       "      <td>-0.080664</td>\n",
       "      <td>-0.069557</td>\n",
       "      <td>0.056340</td>\n",
       "      <td>-0.019205</td>\n",
       "      <td>0.356067</td>\n",
       "      <td>0.017327</td>\n",
       "      <td>-0.086282</td>\n",
       "      <td>-0.155223</td>\n",
       "      <td>0.114639</td>\n",
       "      <td>-0.189401</td>\n",
       "      <td>0.319412</td>\n",
       "      <td>0.018072</td>\n",
       "      <td>-0.087796</td>\n",
       "      <td>0.077085</td>\n",
       "      <td>-0.027156</td>\n",
       "      <td>-0.135213</td>\n",
       "      <td>0.139117</td>\n",
       "      <td>-0.158998</td>\n",
       "      <td>0.024035</td>\n",
       "      <td>0.144069</td>\n",
       "      <td>0.139739</td>\n",
       "      <td>0.149444</td>\n",
       "      <td>0.040673</td>\n",
       "      <td>0.129642</td>\n",
       "      <td>0.051104</td>\n",
       "      <td>-0.017999</td>\n",
       "      <td>-0.082738</td>\n",
       "      <td>0.194391</td>\n",
       "      <td>0.008437</td>\n",
       "      <td>-0.017176</td>\n",
       "      <td>0.039483</td>\n",
       "      <td>0.080223</td>\n",
       "      <td>-0.073615</td>\n",
       "      <td>-0.286209</td>\n",
       "      <td>-0.165784</td>\n",
       "      <td>-0.055109</td>\n",
       "      <td>-0.477393</td>\n",
       "      <td>0.078916</td>\n",
       "      <td>-0.077582</td>\n",
       "      <td>-0.072274</td>\n",
       "      <td>-0.177876</td>\n",
       "    </tr>\n",
       "    <tr>\n",
       "      <th>ANZ_HAUSHALTE_AKTIV</th>\n",
       "      <td>0.096270</td>\n",
       "      <td>-0.081622</td>\n",
       "      <td>1.000000</td>\n",
       "      <td>-0.122937</td>\n",
       "      <td>0.990307</td>\n",
       "      <td>0.102210</td>\n",
       "      <td>-0.137737</td>\n",
       "      <td>0.288448</td>\n",
       "      <td>-0.021434</td>\n",
       "      <td>0.085328</td>\n",
       "      <td>0.020862</td>\n",
       "      <td>0.072068</td>\n",
       "      <td>-0.011065</td>\n",
       "      <td>-0.000640</td>\n",
       "      <td>-0.025667</td>\n",
       "      <td>-0.023599</td>\n",
       "      <td>-0.026879</td>\n",
       "      <td>0.036793</td>\n",
       "      <td>-0.036088</td>\n",
       "      <td>-0.014312</td>\n",
       "      <td>0.027438</td>\n",
       "      <td>-0.034779</td>\n",
       "      <td>-0.038965</td>\n",
       "      <td>-0.047613</td>\n",
       "      <td>-0.044281</td>\n",
       "      <td>-0.029530</td>\n",
       "      <td>-0.061586</td>\n",
       "      <td>-0.044839</td>\n",
       "      <td>-0.041581</td>\n",
       "      <td>-0.060230</td>\n",
       "      <td>-0.080106</td>\n",
       "      <td>-0.091857</td>\n",
       "      <td>0.090405</td>\n",
       "      <td>0.045713</td>\n",
       "      <td>0.085821</td>\n",
       "      <td>-0.067104</td>\n",
       "      <td>-0.055430</td>\n",
       "      <td>-0.063444</td>\n",
       "      <td>-0.059121</td>\n",
       "      <td>0.056594</td>\n",
       "      <td>0.050983</td>\n",
       "      <td>-0.034557</td>\n",
       "      <td>-0.027107</td>\n",
       "      <td>0.040227</td>\n",
       "      <td>-0.041630</td>\n",
       "      <td>-0.016127</td>\n",
       "      <td>-0.049489</td>\n",
       "      <td>-0.058871</td>\n",
       "      <td>-0.038400</td>\n",
       "      <td>-0.037068</td>\n",
       "      <td>...</td>\n",
       "      <td>-0.367719</td>\n",
       "      <td>-0.111540</td>\n",
       "      <td>-0.286064</td>\n",
       "      <td>-0.439602</td>\n",
       "      <td>-0.153753</td>\n",
       "      <td>0.150840</td>\n",
       "      <td>-0.247604</td>\n",
       "      <td>0.100683</td>\n",
       "      <td>0.222151</td>\n",
       "      <td>0.304598</td>\n",
       "      <td>0.305756</td>\n",
       "      <td>-0.234578</td>\n",
       "      <td>0.057936</td>\n",
       "      <td>-0.044514</td>\n",
       "      <td>0.062803</td>\n",
       "      <td>0.119043</td>\n",
       "      <td>0.059823</td>\n",
       "      <td>-0.011383</td>\n",
       "      <td>-0.052784</td>\n",
       "      <td>-0.121843</td>\n",
       "      <td>0.069790</td>\n",
       "      <td>0.054012</td>\n",
       "      <td>-0.017353</td>\n",
       "      <td>0.096094</td>\n",
       "      <td>0.089930</td>\n",
       "      <td>-0.079849</td>\n",
       "      <td>0.015672</td>\n",
       "      <td>0.010922</td>\n",
       "      <td>-0.026339</td>\n",
       "      <td>-0.002900</td>\n",
       "      <td>-0.052926</td>\n",
       "      <td>0.004736</td>\n",
       "      <td>-0.045914</td>\n",
       "      <td>-0.090364</td>\n",
       "      <td>0.067914</td>\n",
       "      <td>0.114089</td>\n",
       "      <td>-0.114559</td>\n",
       "      <td>-0.032250</td>\n",
       "      <td>0.036257</td>\n",
       "      <td>0.039839</td>\n",
       "      <td>-0.031840</td>\n",
       "      <td>0.054077</td>\n",
       "      <td>0.132915</td>\n",
       "      <td>0.099885</td>\n",
       "      <td>0.071093</td>\n",
       "      <td>0.108948</td>\n",
       "      <td>-0.050149</td>\n",
       "      <td>0.190946</td>\n",
       "      <td>0.086345</td>\n",
       "      <td>-0.008931</td>\n",
       "    </tr>\n",
       "    <tr>\n",
       "      <th>ANZ_PERSONEN</th>\n",
       "      <td>-0.064851</td>\n",
       "      <td>0.476729</td>\n",
       "      <td>-0.122937</td>\n",
       "      <td>1.000000</td>\n",
       "      <td>-0.115760</td>\n",
       "      <td>-0.117353</td>\n",
       "      <td>0.089115</td>\n",
       "      <td>-0.160228</td>\n",
       "      <td>0.138937</td>\n",
       "      <td>-0.298589</td>\n",
       "      <td>0.058653</td>\n",
       "      <td>0.024282</td>\n",
       "      <td>-0.074130</td>\n",
       "      <td>-0.113113</td>\n",
       "      <td>-0.063829</td>\n",
       "      <td>-0.065187</td>\n",
       "      <td>0.175972</td>\n",
       "      <td>-0.227453</td>\n",
       "      <td>0.258383</td>\n",
       "      <td>0.150285</td>\n",
       "      <td>-0.155292</td>\n",
       "      <td>0.197844</td>\n",
       "      <td>0.150506</td>\n",
       "      <td>0.231051</td>\n",
       "      <td>0.162801</td>\n",
       "      <td>0.170109</td>\n",
       "      <td>0.194089</td>\n",
       "      <td>0.245734</td>\n",
       "      <td>0.135438</td>\n",
       "      <td>0.269080</td>\n",
       "      <td>0.337338</td>\n",
       "      <td>0.366162</td>\n",
       "      <td>-0.314625</td>\n",
       "      <td>-0.193131</td>\n",
       "      <td>-0.322327</td>\n",
       "      <td>0.248143</td>\n",
       "      <td>0.175085</td>\n",
       "      <td>0.227837</td>\n",
       "      <td>0.234374</td>\n",
       "      <td>-0.210758</td>\n",
       "      <td>-0.104156</td>\n",
       "      <td>0.192902</td>\n",
       "      <td>0.149558</td>\n",
       "      <td>-0.123325</td>\n",
       "      <td>0.154888</td>\n",
       "      <td>0.114475</td>\n",
       "      <td>0.174043</td>\n",
       "      <td>0.191577</td>\n",
       "      <td>0.159670</td>\n",
       "      <td>0.207687</td>\n",
       "      <td>...</td>\n",
       "      <td>0.217157</td>\n",
       "      <td>0.040646</td>\n",
       "      <td>0.192807</td>\n",
       "      <td>0.227591</td>\n",
       "      <td>0.376194</td>\n",
       "      <td>-0.119775</td>\n",
       "      <td>0.155223</td>\n",
       "      <td>-0.119626</td>\n",
       "      <td>-0.161987</td>\n",
       "      <td>-0.147726</td>\n",
       "      <td>-0.149211</td>\n",
       "      <td>0.096587</td>\n",
       "      <td>-0.040236</td>\n",
       "      <td>0.125407</td>\n",
       "      <td>-0.028887</td>\n",
       "      <td>-0.110608</td>\n",
       "      <td>-0.110816</td>\n",
       "      <td>0.005800</td>\n",
       "      <td>-0.134072</td>\n",
       "      <td>0.197635</td>\n",
       "      <td>-0.074895</td>\n",
       "      <td>-0.091159</td>\n",
       "      <td>0.080756</td>\n",
       "      <td>-0.118451</td>\n",
       "      <td>-0.259202</td>\n",
       "      <td>0.140146</td>\n",
       "      <td>-0.045658</td>\n",
       "      <td>0.014871</td>\n",
       "      <td>0.034821</td>\n",
       "      <td>0.020436</td>\n",
       "      <td>0.110351</td>\n",
       "      <td>0.057820</td>\n",
       "      <td>0.062632</td>\n",
       "      <td>0.155116</td>\n",
       "      <td>0.051811</td>\n",
       "      <td>-0.098189</td>\n",
       "      <td>0.236910</td>\n",
       "      <td>0.045914</td>\n",
       "      <td>-0.032229</td>\n",
       "      <td>0.001109</td>\n",
       "      <td>0.134397</td>\n",
       "      <td>-0.079061</td>\n",
       "      <td>-0.422748</td>\n",
       "      <td>-0.357702</td>\n",
       "      <td>-0.234708</td>\n",
       "      <td>-0.596036</td>\n",
       "      <td>0.072582</td>\n",
       "      <td>-0.214383</td>\n",
       "      <td>-0.139279</td>\n",
       "      <td>-0.035832</td>\n",
       "    </tr>\n",
       "    <tr>\n",
       "      <th>ANZ_STATISTISCHE_HAUSHALTE</th>\n",
       "      <td>0.094834</td>\n",
       "      <td>-0.079666</td>\n",
       "      <td>0.990307</td>\n",
       "      <td>-0.115760</td>\n",
       "      <td>1.000000</td>\n",
       "      <td>0.095590</td>\n",
       "      <td>-0.128106</td>\n",
       "      <td>0.276321</td>\n",
       "      <td>-0.023288</td>\n",
       "      <td>0.082745</td>\n",
       "      <td>0.015240</td>\n",
       "      <td>0.061825</td>\n",
       "      <td>-0.004898</td>\n",
       "      <td>0.004550</td>\n",
       "      <td>-0.019049</td>\n",
       "      <td>-0.017198</td>\n",
       "      <td>-0.026236</td>\n",
       "      <td>0.035928</td>\n",
       "      <td>-0.035180</td>\n",
       "      <td>-0.014586</td>\n",
       "      <td>0.026739</td>\n",
       "      <td>-0.033478</td>\n",
       "      <td>-0.036079</td>\n",
       "      <td>-0.045481</td>\n",
       "      <td>-0.041709</td>\n",
       "      <td>-0.027254</td>\n",
       "      <td>-0.058413</td>\n",
       "      <td>-0.043036</td>\n",
       "      <td>-0.040028</td>\n",
       "      <td>-0.057822</td>\n",
       "      <td>-0.077033</td>\n",
       "      <td>-0.088496</td>\n",
       "      <td>0.087326</td>\n",
       "      <td>0.042724</td>\n",
       "      <td>0.083195</td>\n",
       "      <td>-0.065220</td>\n",
       "      <td>-0.051743</td>\n",
       "      <td>-0.059462</td>\n",
       "      <td>-0.056063</td>\n",
       "      <td>0.053486</td>\n",
       "      <td>0.046998</td>\n",
       "      <td>-0.031893</td>\n",
       "      <td>-0.026333</td>\n",
       "      <td>0.038926</td>\n",
       "      <td>-0.038923</td>\n",
       "      <td>-0.014509</td>\n",
       "      <td>-0.047247</td>\n",
       "      <td>-0.055229</td>\n",
       "      <td>-0.034795</td>\n",
       "      <td>-0.034286</td>\n",
       "      <td>...</td>\n",
       "      <td>-0.345844</td>\n",
       "      <td>-0.106268</td>\n",
       "      <td>-0.270165</td>\n",
       "      <td>-0.417584</td>\n",
       "      <td>-0.148911</td>\n",
       "      <td>0.140276</td>\n",
       "      <td>-0.230929</td>\n",
       "      <td>0.093735</td>\n",
       "      <td>0.207306</td>\n",
       "      <td>0.285322</td>\n",
       "      <td>0.285140</td>\n",
       "      <td>-0.218967</td>\n",
       "      <td>0.056476</td>\n",
       "      <td>-0.047391</td>\n",
       "      <td>0.057193</td>\n",
       "      <td>0.109718</td>\n",
       "      <td>0.057571</td>\n",
       "      <td>-0.011663</td>\n",
       "      <td>-0.047756</td>\n",
       "      <td>-0.117869</td>\n",
       "      <td>0.066355</td>\n",
       "      <td>0.054445</td>\n",
       "      <td>-0.018298</td>\n",
       "      <td>0.091855</td>\n",
       "      <td>0.085773</td>\n",
       "      <td>-0.079183</td>\n",
       "      <td>0.017844</td>\n",
       "      <td>0.009388</td>\n",
       "      <td>-0.032000</td>\n",
       "      <td>-0.006085</td>\n",
       "      <td>-0.054466</td>\n",
       "      <td>0.003004</td>\n",
       "      <td>-0.049026</td>\n",
       "      <td>-0.087341</td>\n",
       "      <td>0.067002</td>\n",
       "      <td>0.105855</td>\n",
       "      <td>-0.117987</td>\n",
       "      <td>-0.022756</td>\n",
       "      <td>0.032581</td>\n",
       "      <td>0.038173</td>\n",
       "      <td>-0.029016</td>\n",
       "      <td>0.046879</td>\n",
       "      <td>0.126245</td>\n",
       "      <td>0.092829</td>\n",
       "      <td>0.063855</td>\n",
       "      <td>0.105267</td>\n",
       "      <td>-0.046605</td>\n",
       "      <td>0.176429</td>\n",
       "      <td>0.083316</td>\n",
       "      <td>-0.004535</td>\n",
       "    </tr>\n",
       "  </tbody>\n",
       "</table>\n",
       "<p>5 rows × 324 columns</p>\n",
       "</div>"
      ],
      "text/plain": [
       "                            AKT_DAT_KL  ALTER_HH  ANZ_HAUSHALTE_AKTIV  \\\n",
       "AKT_DAT_KL                    1.000000  0.035864             0.096270   \n",
       "ALTER_HH                      0.035864  1.000000            -0.081622   \n",
       "ANZ_HAUSHALTE_AKTIV           0.096270 -0.081622             1.000000   \n",
       "ANZ_PERSONEN                 -0.064851  0.476729            -0.122937   \n",
       "ANZ_STATISTISCHE_HAUSHALTE    0.094834 -0.079666             0.990307   \n",
       "\n",
       "                            ANZ_PERSONEN  ANZ_STATISTISCHE_HAUSHALTE  \\\n",
       "AKT_DAT_KL                     -0.064851                    0.094834   \n",
       "ALTER_HH                        0.476729                   -0.079666   \n",
       "ANZ_HAUSHALTE_AKTIV            -0.122937                    0.990307   \n",
       "ANZ_PERSONEN                    1.000000                   -0.115760   \n",
       "ANZ_STATISTISCHE_HAUSHALTE     -0.115760                    1.000000   \n",
       "\n",
       "                              ARBEIT  BALLRAUM  CAMEO_DEUG_2015  \\\n",
       "AKT_DAT_KL                  0.048757 -0.052593         0.066128   \n",
       "ALTER_HH                   -0.082391  0.057528        -0.082334   \n",
       "ANZ_HAUSHALTE_AKTIV         0.102210 -0.137737         0.288448   \n",
       "ANZ_PERSONEN               -0.117353  0.089115        -0.160228   \n",
       "ANZ_STATISTISCHE_HAUSHALTE  0.095590 -0.128106         0.276321   \n",
       "\n",
       "                            CJT_GESAMTTYP  CJT_KATALOGNUTZER  CJT_TYP_1  \\\n",
       "AKT_DAT_KL                       0.049748          -0.077049   0.172887   \n",
       "ALTER_HH                         0.191966          -0.389910   0.285934   \n",
       "ANZ_HAUSHALTE_AKTIV             -0.021434           0.085328   0.020862   \n",
       "ANZ_PERSONEN                     0.138937          -0.298589   0.058653   \n",
       "ANZ_STATISTISCHE_HAUSHALTE      -0.023288           0.082745   0.015240   \n",
       "\n",
       "                            CJT_TYP_2  CJT_TYP_3  CJT_TYP_4  CJT_TYP_5  \\\n",
       "AKT_DAT_KL                   0.186474  -0.168543  -0.152669  -0.167463   \n",
       "ALTER_HH                     0.246674  -0.305701  -0.336413  -0.282358   \n",
       "ANZ_HAUSHALTE_AKTIV          0.072068  -0.011065  -0.000640  -0.025667   \n",
       "ANZ_PERSONEN                 0.024282  -0.074130  -0.113113  -0.063829   \n",
       "ANZ_STATISTISCHE_HAUSHALTE   0.061825  -0.004898   0.004550  -0.019049   \n",
       "\n",
       "                            CJT_TYP_6  D19_BANKEN_ANZ_24  D19_BANKEN_DATUM  \\\n",
       "AKT_DAT_KL                  -0.157193           0.020035         -0.020133   \n",
       "ALTER_HH                    -0.251204           0.151355         -0.192425   \n",
       "ANZ_HAUSHALTE_AKTIV         -0.023599          -0.026879          0.036793   \n",
       "ANZ_PERSONEN                -0.065187           0.175972         -0.227453   \n",
       "ANZ_STATISTISCHE_HAUSHALTE  -0.017198          -0.026236          0.035928   \n",
       "\n",
       "                            D19_BANKEN_DIREKT  D19_BANKEN_GROSS  \\\n",
       "AKT_DAT_KL                           0.029403          0.027657   \n",
       "ALTER_HH                             0.232547          0.132432   \n",
       "ANZ_HAUSHALTE_AKTIV                 -0.036088         -0.014312   \n",
       "ANZ_PERSONEN                         0.258383          0.150285   \n",
       "ANZ_STATISTISCHE_HAUSHALTE          -0.035180         -0.014586   \n",
       "\n",
       "                            D19_BANKEN_ONLINE_DATUM  D19_BANKEN_REST  \\\n",
       "AKT_DAT_KL                                -0.026596         0.007566   \n",
       "ALTER_HH                                  -0.152472         0.160092   \n",
       "ANZ_HAUSHALTE_AKTIV                        0.027438        -0.034779   \n",
       "ANZ_PERSONEN                              -0.155292         0.197844   \n",
       "ANZ_STATISTISCHE_HAUSHALTE                 0.026739        -0.033478   \n",
       "\n",
       "                            D19_BEKLEIDUNG_GEH  D19_BEKLEIDUNG_REST  \\\n",
       "AKT_DAT_KL                            0.002832            -0.000023   \n",
       "ALTER_HH                              0.109312             0.191795   \n",
       "ANZ_HAUSHALTE_AKTIV                  -0.038965            -0.047613   \n",
       "ANZ_PERSONEN                          0.150506             0.231051   \n",
       "ANZ_STATISTISCHE_HAUSHALTE           -0.036079            -0.045481   \n",
       "\n",
       "                            D19_BILDUNG  D19_BIO_OEKO  D19_BUCH_CD  \\\n",
       "AKT_DAT_KL                    -0.035456     -0.004559    -0.026108   \n",
       "ALTER_HH                       0.105253      0.110114     0.119005   \n",
       "ANZ_HAUSHALTE_AKTIV           -0.044281     -0.029530    -0.061586   \n",
       "ANZ_PERSONEN                   0.162801      0.170109     0.194089   \n",
       "ANZ_STATISTISCHE_HAUSHALTE    -0.041709     -0.027254    -0.058413   \n",
       "\n",
       "                            D19_DROGERIEARTIKEL  D19_ENERGIE  D19_FREIZEIT  \\\n",
       "AKT_DAT_KL                             0.017353    -0.008578      0.011783   \n",
       "ALTER_HH                               0.215779     0.075120      0.248407   \n",
       "ANZ_HAUSHALTE_AKTIV                   -0.044839    -0.041581     -0.060230   \n",
       "ANZ_PERSONEN                           0.245734     0.135438      0.269080   \n",
       "ANZ_STATISTISCHE_HAUSHALTE            -0.043036    -0.040028     -0.057822   \n",
       "\n",
       "                            D19_GESAMT_ANZ_12  D19_GESAMT_ANZ_24  \\\n",
       "AKT_DAT_KL                           0.005991           0.033415   \n",
       "ALTER_HH                             0.313676           0.350346   \n",
       "ANZ_HAUSHALTE_AKTIV                 -0.080106          -0.091857   \n",
       "ANZ_PERSONEN                         0.337338           0.366162   \n",
       "ANZ_STATISTISCHE_HAUSHALTE          -0.077033          -0.088496   \n",
       "\n",
       "                            D19_GESAMT_DATUM  D19_GESAMT_OFFLINE_DATUM  \\\n",
       "AKT_DAT_KL                         -0.042112                  0.009226   \n",
       "ALTER_HH                           -0.309257                 -0.132956   \n",
       "ANZ_HAUSHALTE_AKTIV                 0.090405                  0.045713   \n",
       "ANZ_PERSONEN                       -0.314625                 -0.193131   \n",
       "ANZ_STATISTISCHE_HAUSHALTE          0.087326                  0.042724   \n",
       "\n",
       "                            D19_GESAMT_ONLINE_DATUM  \\\n",
       "AKT_DAT_KL                                -0.046585   \n",
       "ALTER_HH                                  -0.334918   \n",
       "ANZ_HAUSHALTE_AKTIV                        0.085821   \n",
       "ANZ_PERSONEN                              -0.322327   \n",
       "ANZ_STATISTISCHE_HAUSHALTE                 0.083195   \n",
       "\n",
       "                            D19_GESAMT_ONLINE_QUOTE_12  D19_HANDWERK  \\\n",
       "AKT_DAT_KL                                    0.037065     -0.052051   \n",
       "ALTER_HH                                      0.274107      0.088391   \n",
       "ANZ_HAUSHALTE_AKTIV                          -0.067104     -0.055430   \n",
       "ANZ_PERSONEN                                  0.248143      0.175085   \n",
       "ANZ_STATISTISCHE_HAUSHALTE                   -0.065220     -0.051743   \n",
       "\n",
       "                            D19_HAUS_DEKO  D19_KINDERARTIKEL  D19_KONSUMTYP  \\\n",
       "AKT_DAT_KL                      -0.004219          -0.004228       0.027054   \n",
       "ALTER_HH                         0.190327           0.207160      -0.168629   \n",
       "ANZ_HAUSHALTE_AKTIV             -0.063444          -0.059121       0.056594   \n",
       "ANZ_PERSONEN                     0.227837           0.234374      -0.210758   \n",
       "ANZ_STATISTISCHE_HAUSHALTE      -0.059462          -0.056063       0.053486   \n",
       "\n",
       "                            D19_KONSUMTYP_MAX  D19_KOSMETIK  D19_LEBENSMITTEL  \\\n",
       "AKT_DAT_KL                           0.037468     -0.063691         -0.002930   \n",
       "ALTER_HH                            -0.054697      0.108020          0.092567   \n",
       "ANZ_HAUSHALTE_AKTIV                  0.050983     -0.034557         -0.027107   \n",
       "ANZ_PERSONEN                        -0.104156      0.192902          0.149558   \n",
       "ANZ_STATISTISCHE_HAUSHALTE           0.046998     -0.031893         -0.026333   \n",
       "\n",
       "                            D19_LETZTER_KAUF_BRANCHE  D19_LOTTO  \\\n",
       "AKT_DAT_KL                                 -0.031074  -0.084115   \n",
       "ALTER_HH                                   -0.123251   0.068763   \n",
       "ANZ_HAUSHALTE_AKTIV                         0.040227  -0.041630   \n",
       "ANZ_PERSONEN                               -0.123325   0.154888   \n",
       "ANZ_STATISTISCHE_HAUSHALTE                  0.038926  -0.038923   \n",
       "\n",
       "                            D19_NAHRUNGSERGAENZUNG  D19_RATGEBER  D19_REISEN  \\\n",
       "AKT_DAT_KL                               -0.023445     -0.016193   -0.059438   \n",
       "ALTER_HH                                  0.048199      0.147745    0.097279   \n",
       "ANZ_HAUSHALTE_AKTIV                      -0.016127     -0.049489   -0.058871   \n",
       "ANZ_PERSONEN                              0.114475      0.174043    0.191577   \n",
       "ANZ_STATISTISCHE_HAUSHALTE               -0.014509     -0.047247   -0.055229   \n",
       "\n",
       "                            D19_SAMMELARTIKEL  D19_SCHUHE  ...  \\\n",
       "AKT_DAT_KL                          -0.049999    0.015798  ...   \n",
       "ALTER_HH                             0.051389    0.189070  ...   \n",
       "ANZ_HAUSHALTE_AKTIV                 -0.038400   -0.037068  ...   \n",
       "ANZ_PERSONEN                         0.159670    0.207687  ...   \n",
       "ANZ_STATISTISCHE_HAUSHALTE          -0.034795   -0.034286  ...   \n",
       "\n",
       "                            LP_STATUS_GROB  MIN_GEBAEUDEJAHR  MOBI_RASTER  \\\n",
       "AKT_DAT_KL                       -0.092742          0.003641    -0.076145   \n",
       "ALTER_HH                          0.094985          0.089542     0.117692   \n",
       "ANZ_HAUSHALTE_AKTIV              -0.367719         -0.111540    -0.286064   \n",
       "ANZ_PERSONEN                      0.217157          0.040646     0.192807   \n",
       "ANZ_STATISTISCHE_HAUSHALTE       -0.345844         -0.106268    -0.270165   \n",
       "\n",
       "                            MOBI_REGIO  ONLINE_AFFINITAET  ORTSGR_KLS9  \\\n",
       "AKT_DAT_KL                   -0.094293           0.059996     0.054374   \n",
       "ALTER_HH                      0.123808           0.381113    -0.095567   \n",
       "ANZ_HAUSHALTE_AKTIV          -0.439602          -0.153753     0.150840   \n",
       "ANZ_PERSONEN                  0.227591           0.376194    -0.119775   \n",
       "ANZ_STATISTISCHE_HAUSHALTE   -0.417584          -0.148911     0.140276   \n",
       "\n",
       "                            PLZ8_ANTG1  PLZ8_ANTG2  PLZ8_ANTG3  PLZ8_ANTG4  \\\n",
       "AKT_DAT_KL                   -0.071929    0.046912    0.070468    0.065522   \n",
       "ALTER_HH                      0.086838   -0.087523   -0.097979   -0.080664   \n",
       "ANZ_HAUSHALTE_AKTIV          -0.247604    0.100683    0.222151    0.304598   \n",
       "ANZ_PERSONEN                  0.155223   -0.119626   -0.161987   -0.147726   \n",
       "ANZ_STATISTISCHE_HAUSHALTE   -0.230929    0.093735    0.207306    0.285322   \n",
       "\n",
       "                            PLZ8_BAUMAX  PLZ8_GBZ  PLZ8_HHZ  \\\n",
       "AKT_DAT_KL                     0.075033 -0.041220  0.022919   \n",
       "ALTER_HH                      -0.069557  0.056340 -0.019205   \n",
       "ANZ_HAUSHALTE_AKTIV            0.305756 -0.234578  0.057936   \n",
       "ANZ_PERSONEN                  -0.149211  0.096587 -0.040236   \n",
       "ANZ_STATISTISCHE_HAUSHALTE     0.285140 -0.218967  0.056476   \n",
       "\n",
       "                            PRAEGENDE_JUGENDJAHRE  REGIOTYP  RELAT_AB  \\\n",
       "AKT_DAT_KL                               0.175853  0.013044  0.034969   \n",
       "ALTER_HH                                 0.356067  0.017327 -0.086282   \n",
       "ANZ_HAUSHALTE_AKTIV                     -0.044514  0.062803  0.119043   \n",
       "ANZ_PERSONEN                             0.125407 -0.028887 -0.110608   \n",
       "ANZ_STATISTISCHE_HAUSHALTE              -0.047391  0.057193  0.109718   \n",
       "\n",
       "                            RETOURTYP_BK_S  RT_KEIN_ANREIZ  RT_SCHNAEPPCHEN  \\\n",
       "AKT_DAT_KL                       -0.050076        0.092059        -0.051367   \n",
       "ALTER_HH                         -0.155223        0.114639        -0.189401   \n",
       "ANZ_HAUSHALTE_AKTIV               0.059823       -0.011383        -0.052784   \n",
       "ANZ_PERSONEN                     -0.110816        0.005800        -0.134072   \n",
       "ANZ_STATISTISCHE_HAUSHALTE        0.057571       -0.011663        -0.047756   \n",
       "\n",
       "                            RT_UEBERGROESSE  SEMIO_DOM  SEMIO_ERL  SEMIO_FAM  \\\n",
       "AKT_DAT_KL                         0.058945   0.073572  -0.008115   0.004245   \n",
       "ALTER_HH                           0.319412   0.018072  -0.087796   0.077085   \n",
       "ANZ_HAUSHALTE_AKTIV               -0.121843   0.069790   0.054012  -0.017353   \n",
       "ANZ_PERSONEN                       0.197635  -0.074895  -0.091159   0.080756   \n",
       "ANZ_STATISTISCHE_HAUSHALTE        -0.117869   0.066355   0.054445  -0.018298   \n",
       "\n",
       "                            SEMIO_KAEM  SEMIO_KRIT  SEMIO_KULT  SEMIO_LUST  \\\n",
       "AKT_DAT_KL                    0.069783    0.071994   -0.005748   -0.088165   \n",
       "ALTER_HH                     -0.027156   -0.135213    0.139117   -0.158998   \n",
       "ANZ_HAUSHALTE_AKTIV           0.096094    0.089930   -0.079849    0.015672   \n",
       "ANZ_PERSONEN                 -0.118451   -0.259202    0.140146   -0.045658   \n",
       "ANZ_STATISTISCHE_HAUSHALTE    0.091855    0.085773   -0.079183    0.017844   \n",
       "\n",
       "                            SEMIO_MAT  SEMIO_PFLICHT  SEMIO_RAT  SEMIO_REL  \\\n",
       "AKT_DAT_KL                   0.025768       0.083132   0.087995   0.040807   \n",
       "ALTER_HH                     0.024035       0.144069   0.139739   0.149444   \n",
       "ANZ_HAUSHALTE_AKTIV          0.010922      -0.026339  -0.002900  -0.052926   \n",
       "ANZ_PERSONEN                 0.014871       0.034821   0.020436   0.110351   \n",
       "ANZ_STATISTISCHE_HAUSHALTE   0.009388      -0.032000  -0.006085  -0.054466   \n",
       "\n",
       "                            SEMIO_SOZ  SEMIO_TRADV  SEMIO_VERT  SHOPPER_TYP  \\\n",
       "AKT_DAT_KL                  -0.017156     0.061605   -0.072407     0.008702   \n",
       "ALTER_HH                     0.040673     0.129642    0.051104    -0.017999   \n",
       "ANZ_HAUSHALTE_AKTIV          0.004736    -0.045914   -0.090364     0.067914   \n",
       "ANZ_PERSONEN                 0.057820     0.062632    0.155116     0.051811   \n",
       "ANZ_STATISTISCHE_HAUSHALTE   0.003004    -0.049026   -0.087341     0.067002   \n",
       "\n",
       "                            STRUKTURTYP  UMFELD_ALT  UMFELD_JUNG  \\\n",
       "AKT_DAT_KL                     0.041586    0.011493    -0.028864   \n",
       "ALTER_HH                      -0.082738    0.194391     0.008437   \n",
       "ANZ_HAUSHALTE_AKTIV            0.114089   -0.114559    -0.032250   \n",
       "ANZ_PERSONEN                  -0.098189    0.236910     0.045914   \n",
       "ANZ_STATISTISCHE_HAUSHALTE     0.105855   -0.117987    -0.022756   \n",
       "\n",
       "                            VERDICHTUNGSRAUM  VERS_TYP       VHA       VHN  \\\n",
       "AKT_DAT_KL                          0.013406  0.024861 -0.061745  0.019001   \n",
       "ALTER_HH                           -0.017176  0.039483  0.080223 -0.073615   \n",
       "ANZ_HAUSHALTE_AKTIV                 0.036257  0.039839 -0.031840  0.054077   \n",
       "ANZ_PERSONEN                       -0.032229  0.001109  0.134397 -0.079061   \n",
       "ANZ_STATISTISCHE_HAUSHALTE          0.032581  0.038173 -0.029016  0.046879   \n",
       "\n",
       "                            VK_DHT4A  VK_DISTANZ   VK_ZG11  W_KEIT_KIND_HH  \\\n",
       "AKT_DAT_KL                  0.051314    0.107801  0.131249       -0.035755   \n",
       "ALTER_HH                   -0.286209   -0.165784 -0.055109       -0.477393   \n",
       "ANZ_HAUSHALTE_AKTIV         0.132915    0.099885  0.071093        0.108948   \n",
       "ANZ_PERSONEN               -0.422748   -0.357702 -0.234708       -0.596036   \n",
       "ANZ_STATISTISCHE_HAUSHALTE  0.126245    0.092829  0.063855        0.105267   \n",
       "\n",
       "                            WOHNLAGE  ZABEOTYP  ANREDE_KZ  \\\n",
       "AKT_DAT_KL                 -0.026797  0.094145   0.060821   \n",
       "ALTER_HH                    0.078916 -0.077582  -0.072274   \n",
       "ANZ_HAUSHALTE_AKTIV        -0.050149  0.190946   0.086345   \n",
       "ANZ_PERSONEN                0.072582 -0.214383  -0.139279   \n",
       "ANZ_STATISTISCHE_HAUSHALTE -0.046605  0.176429   0.083316   \n",
       "\n",
       "                            ALTERSKATEGORIE_GROB  \n",
       "AKT_DAT_KL                             -0.124617  \n",
       "ALTER_HH                               -0.177876  \n",
       "ANZ_HAUSHALTE_AKTIV                    -0.008931  \n",
       "ANZ_PERSONEN                           -0.035832  \n",
       "ANZ_STATISTISCHE_HAUSHALTE             -0.004535  \n",
       "\n",
       "[5 rows x 324 columns]"
      ]
     },
     "execution_count": 740,
     "metadata": {},
     "output_type": "execute_result"
    }
   ],
   "source": [
    "corr_df.head()"
   ]
  },
  {
   "cell_type": "code",
   "execution_count": 741,
   "metadata": {
    "scrolled": true
   },
   "outputs": [],
   "source": [
    "high_corr_feature_pairs = []\n",
    "i = 0\n",
    "for _, row in corr_df.iterrows():\n",
    "    for j in range(i):\n",
    "        if abs(corr_df.iloc[i,j]) > THRESHOLD:\n",
    "            high_corr_feature_pairs.append((corr_df.columns[j], corr_df.columns[i]))\n",
    "    i += 1"
   ]
  },
  {
   "cell_type": "code",
   "execution_count": 742,
   "metadata": {},
   "outputs": [
    {
     "data": {
      "text/plain": [
       "32"
      ]
     },
     "execution_count": 742,
     "metadata": {},
     "output_type": "execute_result"
    }
   ],
   "source": [
    "len(high_corr_feature_pairs)"
   ]
  },
  {
   "cell_type": "code",
   "execution_count": 743,
   "metadata": {},
   "outputs": [],
   "source": [
    "def extract_columns(pairs_of_colums):\n",
    "    res = []\n",
    "    for c1, c2 in pairs_of_colums:\n",
    "        if c2 not in res:\n",
    "            res.append(c2)\n",
    "    return res"
   ]
  },
  {
   "cell_type": "code",
   "execution_count": 744,
   "metadata": {},
   "outputs": [],
   "source": [
    "high_corr_features_to_remove = extract_columns(high_corr_feature_pairs)"
   ]
  },
  {
   "cell_type": "code",
   "execution_count": 745,
   "metadata": {},
   "outputs": [
    {
     "data": {
      "text/plain": [
       "['ANZ_STATISTISCHE_HAUSHALTE',\n",
       " 'D19_GESAMT_ANZ_24',\n",
       " 'D19_VERSAND_ANZ_12',\n",
       " 'D19_VERSAND_ANZ_24',\n",
       " 'D19_VERSAND_OFFLINE_DATUM',\n",
       " 'D19_VERSAND_ONLINE_DATUM',\n",
       " 'D19_VERSAND_ONLINE_QUOTE_12',\n",
       " 'FINANZ_VORSORGER',\n",
       " 'KBA05_KRSHERST1',\n",
       " 'KBA05_KRSHERST3',\n",
       " 'KBA05_ZUL4',\n",
       " 'KBA13_HALTER_55',\n",
       " 'KBA13_HALTER_66',\n",
       " 'KBA13_HERST_SONST',\n",
       " 'KBA13_KMH_250',\n",
       " 'KBA13_VW',\n",
       " 'KOMBIALTER',\n",
       " 'LP_LEBENSPHASE_GROB',\n",
       " 'MIN_GEBAEUDEJAHR',\n",
       " 'ORTSGR_KLS9',\n",
       " 'PLZ8_ANTG1',\n",
       " 'PLZ8_ANTG3',\n",
       " 'PLZ8_ANTG4',\n",
       " 'PLZ8_BAUMAX',\n",
       " 'PLZ8_GBZ',\n",
       " 'PLZ8_HHZ',\n",
       " 'VK_ZG11',\n",
       " 'ANREDE_KZ']"
      ]
     },
     "execution_count": 745,
     "metadata": {},
     "output_type": "execute_result"
    }
   ],
   "source": [
    "high_corr_features_to_remove"
   ]
  },
  {
   "cell_type": "code",
   "execution_count": 746,
   "metadata": {},
   "outputs": [],
   "source": [
    "clean_customer_data2 = remove_columns(clean_customer_data2, high_corr_features_to_remove)"
   ]
  },
  {
   "cell_type": "code",
   "execution_count": 747,
   "metadata": {},
   "outputs": [
    {
     "data": {
      "text/plain": [
       "296"
      ]
     },
     "execution_count": 747,
     "metadata": {},
     "output_type": "execute_result"
    }
   ],
   "source": [
    "clean_customer_data2.columns.size"
   ]
  },
  {
   "cell_type": "code",
   "execution_count": 748,
   "metadata": {},
   "outputs": [
    {
     "data": {
      "text/html": [
       "<div>\n",
       "<style scoped>\n",
       "    .dataframe tbody tr th:only-of-type {\n",
       "        vertical-align: middle;\n",
       "    }\n",
       "\n",
       "    .dataframe tbody tr th {\n",
       "        vertical-align: top;\n",
       "    }\n",
       "\n",
       "    .dataframe thead th {\n",
       "        text-align: right;\n",
       "    }\n",
       "</style>\n",
       "<table border=\"1\" class=\"dataframe\">\n",
       "  <thead>\n",
       "    <tr style=\"text-align: right;\">\n",
       "      <th></th>\n",
       "      <th>AKT_DAT_KL</th>\n",
       "      <th>ALTER_HH</th>\n",
       "      <th>ANZ_HAUSHALTE_AKTIV</th>\n",
       "      <th>ANZ_PERSONEN</th>\n",
       "      <th>ARBEIT</th>\n",
       "      <th>BALLRAUM</th>\n",
       "      <th>CAMEO_DEUG_2015</th>\n",
       "      <th>CJT_GESAMTTYP</th>\n",
       "      <th>CJT_KATALOGNUTZER</th>\n",
       "      <th>CJT_TYP_1</th>\n",
       "      <th>CJT_TYP_2</th>\n",
       "      <th>CJT_TYP_3</th>\n",
       "      <th>CJT_TYP_4</th>\n",
       "      <th>CJT_TYP_5</th>\n",
       "      <th>CJT_TYP_6</th>\n",
       "      <th>D19_BANKEN_ANZ_24</th>\n",
       "      <th>D19_BANKEN_DATUM</th>\n",
       "      <th>D19_BANKEN_DIREKT</th>\n",
       "      <th>D19_BANKEN_GROSS</th>\n",
       "      <th>D19_BANKEN_ONLINE_DATUM</th>\n",
       "      <th>D19_BANKEN_REST</th>\n",
       "      <th>D19_BEKLEIDUNG_GEH</th>\n",
       "      <th>D19_BEKLEIDUNG_REST</th>\n",
       "      <th>D19_BILDUNG</th>\n",
       "      <th>D19_BIO_OEKO</th>\n",
       "      <th>D19_BUCH_CD</th>\n",
       "      <th>D19_DROGERIEARTIKEL</th>\n",
       "      <th>D19_ENERGIE</th>\n",
       "      <th>D19_FREIZEIT</th>\n",
       "      <th>D19_GESAMT_ANZ_12</th>\n",
       "      <th>D19_GESAMT_DATUM</th>\n",
       "      <th>D19_GESAMT_OFFLINE_DATUM</th>\n",
       "      <th>D19_GESAMT_ONLINE_DATUM</th>\n",
       "      <th>D19_GESAMT_ONLINE_QUOTE_12</th>\n",
       "      <th>D19_HANDWERK</th>\n",
       "      <th>D19_HAUS_DEKO</th>\n",
       "      <th>D19_KINDERARTIKEL</th>\n",
       "      <th>D19_KONSUMTYP</th>\n",
       "      <th>D19_KONSUMTYP_MAX</th>\n",
       "      <th>D19_KOSMETIK</th>\n",
       "      <th>D19_LEBENSMITTEL</th>\n",
       "      <th>D19_LETZTER_KAUF_BRANCHE</th>\n",
       "      <th>D19_LOTTO</th>\n",
       "      <th>D19_NAHRUNGSERGAENZUNG</th>\n",
       "      <th>D19_RATGEBER</th>\n",
       "      <th>D19_REISEN</th>\n",
       "      <th>D19_SAMMELARTIKEL</th>\n",
       "      <th>D19_SCHUHE</th>\n",
       "      <th>D19_SONSTIGE</th>\n",
       "      <th>D19_SOZIALES</th>\n",
       "      <th>...</th>\n",
       "      <th>KBA13_TOYOTA</th>\n",
       "      <th>KBA13_VORB_0</th>\n",
       "      <th>KBA13_VORB_1</th>\n",
       "      <th>KBA13_VORB_1_2</th>\n",
       "      <th>KBA13_VORB_2</th>\n",
       "      <th>KBA13_VORB_3</th>\n",
       "      <th>KKK</th>\n",
       "      <th>KONSUMNAEHE</th>\n",
       "      <th>KONSUMZELLE</th>\n",
       "      <th>LP_FAMILIE_GROB</th>\n",
       "      <th>LP_STATUS_GROB</th>\n",
       "      <th>MOBI_RASTER</th>\n",
       "      <th>MOBI_REGIO</th>\n",
       "      <th>ONLINE_AFFINITAET</th>\n",
       "      <th>PLZ8_ANTG2</th>\n",
       "      <th>PRAEGENDE_JUGENDJAHRE</th>\n",
       "      <th>REGIOTYP</th>\n",
       "      <th>RELAT_AB</th>\n",
       "      <th>RETOURTYP_BK_S</th>\n",
       "      <th>RT_KEIN_ANREIZ</th>\n",
       "      <th>RT_SCHNAEPPCHEN</th>\n",
       "      <th>RT_UEBERGROESSE</th>\n",
       "      <th>SEMIO_DOM</th>\n",
       "      <th>SEMIO_ERL</th>\n",
       "      <th>SEMIO_FAM</th>\n",
       "      <th>SEMIO_KAEM</th>\n",
       "      <th>SEMIO_KRIT</th>\n",
       "      <th>SEMIO_KULT</th>\n",
       "      <th>SEMIO_LUST</th>\n",
       "      <th>SEMIO_MAT</th>\n",
       "      <th>SEMIO_PFLICHT</th>\n",
       "      <th>SEMIO_RAT</th>\n",
       "      <th>SEMIO_REL</th>\n",
       "      <th>SEMIO_SOZ</th>\n",
       "      <th>SEMIO_TRADV</th>\n",
       "      <th>SEMIO_VERT</th>\n",
       "      <th>SHOPPER_TYP</th>\n",
       "      <th>STRUKTURTYP</th>\n",
       "      <th>UMFELD_ALT</th>\n",
       "      <th>UMFELD_JUNG</th>\n",
       "      <th>VERDICHTUNGSRAUM</th>\n",
       "      <th>VERS_TYP</th>\n",
       "      <th>VHA</th>\n",
       "      <th>VHN</th>\n",
       "      <th>VK_DHT4A</th>\n",
       "      <th>VK_DISTANZ</th>\n",
       "      <th>W_KEIT_KIND_HH</th>\n",
       "      <th>WOHNLAGE</th>\n",
       "      <th>ZABEOTYP</th>\n",
       "      <th>ALTERSKATEGORIE_GROB</th>\n",
       "    </tr>\n",
       "  </thead>\n",
       "  <tbody>\n",
       "    <tr>\n",
       "      <th>0</th>\n",
       "      <td>1.0</td>\n",
       "      <td>10.0</td>\n",
       "      <td>1.0</td>\n",
       "      <td>2.0</td>\n",
       "      <td>1.0</td>\n",
       "      <td>3.0</td>\n",
       "      <td>1.0</td>\n",
       "      <td>5.0</td>\n",
       "      <td>4.0</td>\n",
       "      <td>1.0</td>\n",
       "      <td>1.0</td>\n",
       "      <td>5.0</td>\n",
       "      <td>5.0</td>\n",
       "      <td>5.0</td>\n",
       "      <td>5.0</td>\n",
       "      <td>0</td>\n",
       "      <td>10</td>\n",
       "      <td>0</td>\n",
       "      <td>0</td>\n",
       "      <td>10</td>\n",
       "      <td>0</td>\n",
       "      <td>0</td>\n",
       "      <td>0</td>\n",
       "      <td>0</td>\n",
       "      <td>0</td>\n",
       "      <td>6</td>\n",
       "      <td>0</td>\n",
       "      <td>0</td>\n",
       "      <td>0</td>\n",
       "      <td>0</td>\n",
       "      <td>9</td>\n",
       "      <td>9</td>\n",
       "      <td>10</td>\n",
       "      <td>0.0</td>\n",
       "      <td>0</td>\n",
       "      <td>6</td>\n",
       "      <td>0</td>\n",
       "      <td>3.0</td>\n",
       "      <td>2.0</td>\n",
       "      <td>0</td>\n",
       "      <td>6</td>\n",
       "      <td>30</td>\n",
       "      <td>0.0</td>\n",
       "      <td>0</td>\n",
       "      <td>0</td>\n",
       "      <td>0</td>\n",
       "      <td>6</td>\n",
       "      <td>0</td>\n",
       "      <td>6</td>\n",
       "      <td>1.0</td>\n",
       "      <td>...</td>\n",
       "      <td>2.0</td>\n",
       "      <td>4.0</td>\n",
       "      <td>3.0</td>\n",
       "      <td>3.0</td>\n",
       "      <td>3.0</td>\n",
       "      <td>1.0</td>\n",
       "      <td>1.0</td>\n",
       "      <td>5.0</td>\n",
       "      <td>0.0</td>\n",
       "      <td>2.0</td>\n",
       "      <td>5.0</td>\n",
       "      <td>3.0</td>\n",
       "      <td>4.0</td>\n",
       "      <td>3.0</td>\n",
       "      <td>3.0</td>\n",
       "      <td>4.0</td>\n",
       "      <td>1.0</td>\n",
       "      <td>1.0</td>\n",
       "      <td>5.0</td>\n",
       "      <td>1.0</td>\n",
       "      <td>5.0</td>\n",
       "      <td>3.0</td>\n",
       "      <td>1</td>\n",
       "      <td>3</td>\n",
       "      <td>5</td>\n",
       "      <td>1</td>\n",
       "      <td>3</td>\n",
       "      <td>4</td>\n",
       "      <td>7</td>\n",
       "      <td>6</td>\n",
       "      <td>2</td>\n",
       "      <td>1</td>\n",
       "      <td>2</td>\n",
       "      <td>6</td>\n",
       "      <td>1</td>\n",
       "      <td>6</td>\n",
       "      <td>3.0</td>\n",
       "      <td>3.0</td>\n",
       "      <td>4.0</td>\n",
       "      <td>4.0</td>\n",
       "      <td>8.0</td>\n",
       "      <td>1.0</td>\n",
       "      <td>0.0</td>\n",
       "      <td>3.0</td>\n",
       "      <td>5.0</td>\n",
       "      <td>3.0</td>\n",
       "      <td>6.0</td>\n",
       "      <td>7.0</td>\n",
       "      <td>3</td>\n",
       "      <td>4.0</td>\n",
       "    </tr>\n",
       "    <tr>\n",
       "      <th>2</th>\n",
       "      <td>1.0</td>\n",
       "      <td>6.0</td>\n",
       "      <td>1.0</td>\n",
       "      <td>1.0</td>\n",
       "      <td>3.0</td>\n",
       "      <td>7.0</td>\n",
       "      <td>5.0</td>\n",
       "      <td>2.0</td>\n",
       "      <td>5.0</td>\n",
       "      <td>2.0</td>\n",
       "      <td>2.0</td>\n",
       "      <td>5.0</td>\n",
       "      <td>5.0</td>\n",
       "      <td>5.0</td>\n",
       "      <td>5.0</td>\n",
       "      <td>0</td>\n",
       "      <td>10</td>\n",
       "      <td>0</td>\n",
       "      <td>0</td>\n",
       "      <td>10</td>\n",
       "      <td>0</td>\n",
       "      <td>0</td>\n",
       "      <td>0</td>\n",
       "      <td>6</td>\n",
       "      <td>0</td>\n",
       "      <td>0</td>\n",
       "      <td>0</td>\n",
       "      <td>0</td>\n",
       "      <td>0</td>\n",
       "      <td>0</td>\n",
       "      <td>10</td>\n",
       "      <td>10</td>\n",
       "      <td>10</td>\n",
       "      <td>0.0</td>\n",
       "      <td>0</td>\n",
       "      <td>0</td>\n",
       "      <td>0</td>\n",
       "      <td>3.0</td>\n",
       "      <td>2.0</td>\n",
       "      <td>0</td>\n",
       "      <td>0</td>\n",
       "      <td>30</td>\n",
       "      <td>7.0</td>\n",
       "      <td>0</td>\n",
       "      <td>0</td>\n",
       "      <td>6</td>\n",
       "      <td>6</td>\n",
       "      <td>0</td>\n",
       "      <td>6</td>\n",
       "      <td>1.0</td>\n",
       "      <td>...</td>\n",
       "      <td>3.0</td>\n",
       "      <td>4.0</td>\n",
       "      <td>2.0</td>\n",
       "      <td>2.0</td>\n",
       "      <td>3.0</td>\n",
       "      <td>4.0</td>\n",
       "      <td>3.0</td>\n",
       "      <td>1.0</td>\n",
       "      <td>1.0</td>\n",
       "      <td>1.0</td>\n",
       "      <td>5.0</td>\n",
       "      <td>1.0</td>\n",
       "      <td>3.0</td>\n",
       "      <td>1.0</td>\n",
       "      <td>3.0</td>\n",
       "      <td>4.0</td>\n",
       "      <td>7.0</td>\n",
       "      <td>3.0</td>\n",
       "      <td>5.0</td>\n",
       "      <td>1.0</td>\n",
       "      <td>5.0</td>\n",
       "      <td>1.0</td>\n",
       "      <td>5</td>\n",
       "      <td>7</td>\n",
       "      <td>2</td>\n",
       "      <td>6</td>\n",
       "      <td>7</td>\n",
       "      <td>1</td>\n",
       "      <td>7</td>\n",
       "      <td>3</td>\n",
       "      <td>4</td>\n",
       "      <td>2</td>\n",
       "      <td>1</td>\n",
       "      <td>2</td>\n",
       "      <td>1</td>\n",
       "      <td>3</td>\n",
       "      <td>1.0</td>\n",
       "      <td>3.0</td>\n",
       "      <td>1.0</td>\n",
       "      <td>5.0</td>\n",
       "      <td>0.0</td>\n",
       "      <td>2.0</td>\n",
       "      <td>0.0</td>\n",
       "      <td>4.0</td>\n",
       "      <td>10.0</td>\n",
       "      <td>13.0</td>\n",
       "      <td>6.0</td>\n",
       "      <td>2.0</td>\n",
       "      <td>3</td>\n",
       "      <td>4.0</td>\n",
       "    </tr>\n",
       "    <tr>\n",
       "      <th>4</th>\n",
       "      <td>1.0</td>\n",
       "      <td>20.0</td>\n",
       "      <td>7.0</td>\n",
       "      <td>4.0</td>\n",
       "      <td>3.0</td>\n",
       "      <td>3.0</td>\n",
       "      <td>7.0</td>\n",
       "      <td>6.0</td>\n",
       "      <td>4.0</td>\n",
       "      <td>3.0</td>\n",
       "      <td>3.0</td>\n",
       "      <td>3.0</td>\n",
       "      <td>4.0</td>\n",
       "      <td>3.0</td>\n",
       "      <td>3.0</td>\n",
       "      <td>2</td>\n",
       "      <td>3</td>\n",
       "      <td>5</td>\n",
       "      <td>0</td>\n",
       "      <td>7</td>\n",
       "      <td>0</td>\n",
       "      <td>0</td>\n",
       "      <td>6</td>\n",
       "      <td>0</td>\n",
       "      <td>0</td>\n",
       "      <td>2</td>\n",
       "      <td>4</td>\n",
       "      <td>0</td>\n",
       "      <td>6</td>\n",
       "      <td>3</td>\n",
       "      <td>1</td>\n",
       "      <td>8</td>\n",
       "      <td>1</td>\n",
       "      <td>10.0</td>\n",
       "      <td>0</td>\n",
       "      <td>6</td>\n",
       "      <td>0</td>\n",
       "      <td>1.0</td>\n",
       "      <td>4.0</td>\n",
       "      <td>0</td>\n",
       "      <td>5</td>\n",
       "      <td>24</td>\n",
       "      <td>0.0</td>\n",
       "      <td>0</td>\n",
       "      <td>6</td>\n",
       "      <td>0</td>\n",
       "      <td>6</td>\n",
       "      <td>3</td>\n",
       "      <td>6</td>\n",
       "      <td>1.0</td>\n",
       "      <td>...</td>\n",
       "      <td>3.0</td>\n",
       "      <td>3.0</td>\n",
       "      <td>3.0</td>\n",
       "      <td>3.0</td>\n",
       "      <td>3.0</td>\n",
       "      <td>0.0</td>\n",
       "      <td>4.0</td>\n",
       "      <td>1.0</td>\n",
       "      <td>1.0</td>\n",
       "      <td>5.0</td>\n",
       "      <td>1.0</td>\n",
       "      <td>1.0</td>\n",
       "      <td>3.0</td>\n",
       "      <td>5.0</td>\n",
       "      <td>4.0</td>\n",
       "      <td>8.0</td>\n",
       "      <td>7.0</td>\n",
       "      <td>1.0</td>\n",
       "      <td>5.0</td>\n",
       "      <td>4.0</td>\n",
       "      <td>3.0</td>\n",
       "      <td>5.0</td>\n",
       "      <td>5</td>\n",
       "      <td>4</td>\n",
       "      <td>5</td>\n",
       "      <td>2</td>\n",
       "      <td>3</td>\n",
       "      <td>5</td>\n",
       "      <td>6</td>\n",
       "      <td>6</td>\n",
       "      <td>5</td>\n",
       "      <td>5</td>\n",
       "      <td>4</td>\n",
       "      <td>4</td>\n",
       "      <td>4</td>\n",
       "      <td>5</td>\n",
       "      <td>1.0</td>\n",
       "      <td>3.0</td>\n",
       "      <td>2.0</td>\n",
       "      <td>4.0</td>\n",
       "      <td>1.0</td>\n",
       "      <td>2.0</td>\n",
       "      <td>0.0</td>\n",
       "      <td>4.0</td>\n",
       "      <td>3.0</td>\n",
       "      <td>5.0</td>\n",
       "      <td>2.0</td>\n",
       "      <td>3.0</td>\n",
       "      <td>1</td>\n",
       "      <td>3.0</td>\n",
       "    </tr>\n",
       "    <tr>\n",
       "      <th>5</th>\n",
       "      <td>1.0</td>\n",
       "      <td>11.0</td>\n",
       "      <td>1.0</td>\n",
       "      <td>2.0</td>\n",
       "      <td>3.0</td>\n",
       "      <td>7.0</td>\n",
       "      <td>5.0</td>\n",
       "      <td>4.0</td>\n",
       "      <td>3.0</td>\n",
       "      <td>1.0</td>\n",
       "      <td>1.0</td>\n",
       "      <td>5.0</td>\n",
       "      <td>5.0</td>\n",
       "      <td>5.0</td>\n",
       "      <td>5.0</td>\n",
       "      <td>0</td>\n",
       "      <td>10</td>\n",
       "      <td>0</td>\n",
       "      <td>0</td>\n",
       "      <td>10</td>\n",
       "      <td>0</td>\n",
       "      <td>0</td>\n",
       "      <td>6</td>\n",
       "      <td>0</td>\n",
       "      <td>0</td>\n",
       "      <td>5</td>\n",
       "      <td>0</td>\n",
       "      <td>0</td>\n",
       "      <td>0</td>\n",
       "      <td>0</td>\n",
       "      <td>6</td>\n",
       "      <td>6</td>\n",
       "      <td>10</td>\n",
       "      <td>0.0</td>\n",
       "      <td>6</td>\n",
       "      <td>0</td>\n",
       "      <td>0</td>\n",
       "      <td>2.0</td>\n",
       "      <td>2.0</td>\n",
       "      <td>0</td>\n",
       "      <td>0</td>\n",
       "      <td>8</td>\n",
       "      <td>7.0</td>\n",
       "      <td>0</td>\n",
       "      <td>0</td>\n",
       "      <td>0</td>\n",
       "      <td>0</td>\n",
       "      <td>0</td>\n",
       "      <td>6</td>\n",
       "      <td>1.0</td>\n",
       "      <td>...</td>\n",
       "      <td>4.0</td>\n",
       "      <td>4.0</td>\n",
       "      <td>3.0</td>\n",
       "      <td>3.0</td>\n",
       "      <td>2.0</td>\n",
       "      <td>1.0</td>\n",
       "      <td>2.0</td>\n",
       "      <td>2.0</td>\n",
       "      <td>0.0</td>\n",
       "      <td>2.0</td>\n",
       "      <td>3.0</td>\n",
       "      <td>2.0</td>\n",
       "      <td>3.0</td>\n",
       "      <td>3.0</td>\n",
       "      <td>3.0</td>\n",
       "      <td>4.0</td>\n",
       "      <td>3.0</td>\n",
       "      <td>5.0</td>\n",
       "      <td>3.0</td>\n",
       "      <td>1.0</td>\n",
       "      <td>5.0</td>\n",
       "      <td>2.0</td>\n",
       "      <td>5</td>\n",
       "      <td>4</td>\n",
       "      <td>4</td>\n",
       "      <td>3</td>\n",
       "      <td>5</td>\n",
       "      <td>6</td>\n",
       "      <td>6</td>\n",
       "      <td>1</td>\n",
       "      <td>3</td>\n",
       "      <td>2</td>\n",
       "      <td>4</td>\n",
       "      <td>6</td>\n",
       "      <td>4</td>\n",
       "      <td>7</td>\n",
       "      <td>1.0</td>\n",
       "      <td>3.0</td>\n",
       "      <td>2.0</td>\n",
       "      <td>5.0</td>\n",
       "      <td>24.0</td>\n",
       "      <td>2.0</td>\n",
       "      <td>5.0</td>\n",
       "      <td>4.0</td>\n",
       "      <td>1.0</td>\n",
       "      <td>2.0</td>\n",
       "      <td>6.0</td>\n",
       "      <td>1.0</td>\n",
       "      <td>2</td>\n",
       "      <td>3.0</td>\n",
       "    </tr>\n",
       "    <tr>\n",
       "      <th>6</th>\n",
       "      <td>1.0</td>\n",
       "      <td>10.0</td>\n",
       "      <td>1.0</td>\n",
       "      <td>2.0</td>\n",
       "      <td>2.0</td>\n",
       "      <td>6.0</td>\n",
       "      <td>3.0</td>\n",
       "      <td>2.0</td>\n",
       "      <td>5.0</td>\n",
       "      <td>1.0</td>\n",
       "      <td>1.0</td>\n",
       "      <td>5.0</td>\n",
       "      <td>5.0</td>\n",
       "      <td>5.0</td>\n",
       "      <td>5.0</td>\n",
       "      <td>0</td>\n",
       "      <td>10</td>\n",
       "      <td>0</td>\n",
       "      <td>0</td>\n",
       "      <td>10</td>\n",
       "      <td>0</td>\n",
       "      <td>6</td>\n",
       "      <td>6</td>\n",
       "      <td>7</td>\n",
       "      <td>0</td>\n",
       "      <td>0</td>\n",
       "      <td>3</td>\n",
       "      <td>0</td>\n",
       "      <td>0</td>\n",
       "      <td>2</td>\n",
       "      <td>5</td>\n",
       "      <td>5</td>\n",
       "      <td>5</td>\n",
       "      <td>7.0</td>\n",
       "      <td>6</td>\n",
       "      <td>6</td>\n",
       "      <td>0</td>\n",
       "      <td>2.0</td>\n",
       "      <td>2.0</td>\n",
       "      <td>0</td>\n",
       "      <td>6</td>\n",
       "      <td>10</td>\n",
       "      <td>7.0</td>\n",
       "      <td>3</td>\n",
       "      <td>0</td>\n",
       "      <td>0</td>\n",
       "      <td>6</td>\n",
       "      <td>0</td>\n",
       "      <td>3</td>\n",
       "      <td>1.0</td>\n",
       "      <td>...</td>\n",
       "      <td>3.0</td>\n",
       "      <td>3.0</td>\n",
       "      <td>3.0</td>\n",
       "      <td>3.0</td>\n",
       "      <td>4.0</td>\n",
       "      <td>3.0</td>\n",
       "      <td>2.0</td>\n",
       "      <td>4.0</td>\n",
       "      <td>0.0</td>\n",
       "      <td>2.0</td>\n",
       "      <td>5.0</td>\n",
       "      <td>2.0</td>\n",
       "      <td>4.0</td>\n",
       "      <td>4.0</td>\n",
       "      <td>2.0</td>\n",
       "      <td>4.0</td>\n",
       "      <td>3.0</td>\n",
       "      <td>2.0</td>\n",
       "      <td>5.0</td>\n",
       "      <td>3.0</td>\n",
       "      <td>5.0</td>\n",
       "      <td>3.0</td>\n",
       "      <td>1</td>\n",
       "      <td>3</td>\n",
       "      <td>2</td>\n",
       "      <td>2</td>\n",
       "      <td>3</td>\n",
       "      <td>4</td>\n",
       "      <td>5</td>\n",
       "      <td>1</td>\n",
       "      <td>2</td>\n",
       "      <td>3</td>\n",
       "      <td>5</td>\n",
       "      <td>4</td>\n",
       "      <td>4</td>\n",
       "      <td>6</td>\n",
       "      <td>0.0</td>\n",
       "      <td>1.0</td>\n",
       "      <td>4.0</td>\n",
       "      <td>5.0</td>\n",
       "      <td>0.0</td>\n",
       "      <td>1.0</td>\n",
       "      <td>0.0</td>\n",
       "      <td>4.0</td>\n",
       "      <td>3.0</td>\n",
       "      <td>4.0</td>\n",
       "      <td>6.0</td>\n",
       "      <td>7.0</td>\n",
       "      <td>1</td>\n",
       "      <td>4.0</td>\n",
       "    </tr>\n",
       "  </tbody>\n",
       "</table>\n",
       "<p>5 rows × 296 columns</p>\n",
       "</div>"
      ],
      "text/plain": [
       "   AKT_DAT_KL  ALTER_HH  ANZ_HAUSHALTE_AKTIV  ANZ_PERSONEN  ARBEIT  BALLRAUM  \\\n",
       "0         1.0      10.0                  1.0           2.0     1.0       3.0   \n",
       "2         1.0       6.0                  1.0           1.0     3.0       7.0   \n",
       "4         1.0      20.0                  7.0           4.0     3.0       3.0   \n",
       "5         1.0      11.0                  1.0           2.0     3.0       7.0   \n",
       "6         1.0      10.0                  1.0           2.0     2.0       6.0   \n",
       "\n",
       "   CAMEO_DEUG_2015  CJT_GESAMTTYP  CJT_KATALOGNUTZER  CJT_TYP_1  CJT_TYP_2  \\\n",
       "0              1.0            5.0                4.0        1.0        1.0   \n",
       "2              5.0            2.0                5.0        2.0        2.0   \n",
       "4              7.0            6.0                4.0        3.0        3.0   \n",
       "5              5.0            4.0                3.0        1.0        1.0   \n",
       "6              3.0            2.0                5.0        1.0        1.0   \n",
       "\n",
       "   CJT_TYP_3  CJT_TYP_4  CJT_TYP_5  CJT_TYP_6  D19_BANKEN_ANZ_24  \\\n",
       "0        5.0        5.0        5.0        5.0                  0   \n",
       "2        5.0        5.0        5.0        5.0                  0   \n",
       "4        3.0        4.0        3.0        3.0                  2   \n",
       "5        5.0        5.0        5.0        5.0                  0   \n",
       "6        5.0        5.0        5.0        5.0                  0   \n",
       "\n",
       "   D19_BANKEN_DATUM  D19_BANKEN_DIREKT  D19_BANKEN_GROSS  \\\n",
       "0                10                  0                 0   \n",
       "2                10                  0                 0   \n",
       "4                 3                  5                 0   \n",
       "5                10                  0                 0   \n",
       "6                10                  0                 0   \n",
       "\n",
       "   D19_BANKEN_ONLINE_DATUM  D19_BANKEN_REST  D19_BEKLEIDUNG_GEH  \\\n",
       "0                       10                0                   0   \n",
       "2                       10                0                   0   \n",
       "4                        7                0                   0   \n",
       "5                       10                0                   0   \n",
       "6                       10                0                   6   \n",
       "\n",
       "   D19_BEKLEIDUNG_REST  D19_BILDUNG  D19_BIO_OEKO  D19_BUCH_CD  \\\n",
       "0                    0            0             0            6   \n",
       "2                    0            6             0            0   \n",
       "4                    6            0             0            2   \n",
       "5                    6            0             0            5   \n",
       "6                    6            7             0            0   \n",
       "\n",
       "   D19_DROGERIEARTIKEL  D19_ENERGIE  D19_FREIZEIT  D19_GESAMT_ANZ_12  \\\n",
       "0                    0            0             0                  0   \n",
       "2                    0            0             0                  0   \n",
       "4                    4            0             6                  3   \n",
       "5                    0            0             0                  0   \n",
       "6                    3            0             0                  2   \n",
       "\n",
       "   D19_GESAMT_DATUM  D19_GESAMT_OFFLINE_DATUM  D19_GESAMT_ONLINE_DATUM  \\\n",
       "0                 9                         9                       10   \n",
       "2                10                        10                       10   \n",
       "4                 1                         8                        1   \n",
       "5                 6                         6                       10   \n",
       "6                 5                         5                        5   \n",
       "\n",
       "   D19_GESAMT_ONLINE_QUOTE_12  D19_HANDWERK  D19_HAUS_DEKO  D19_KINDERARTIKEL  \\\n",
       "0                         0.0             0              6                  0   \n",
       "2                         0.0             0              0                  0   \n",
       "4                        10.0             0              6                  0   \n",
       "5                         0.0             6              0                  0   \n",
       "6                         7.0             6              6                  0   \n",
       "\n",
       "   D19_KONSUMTYP  D19_KONSUMTYP_MAX  D19_KOSMETIK  D19_LEBENSMITTEL  \\\n",
       "0            3.0                2.0             0                 6   \n",
       "2            3.0                2.0             0                 0   \n",
       "4            1.0                4.0             0                 5   \n",
       "5            2.0                2.0             0                 0   \n",
       "6            2.0                2.0             0                 6   \n",
       "\n",
       "   D19_LETZTER_KAUF_BRANCHE  D19_LOTTO  D19_NAHRUNGSERGAENZUNG  D19_RATGEBER  \\\n",
       "0                        30        0.0                       0             0   \n",
       "2                        30        7.0                       0             0   \n",
       "4                        24        0.0                       0             6   \n",
       "5                         8        7.0                       0             0   \n",
       "6                        10        7.0                       3             0   \n",
       "\n",
       "   D19_REISEN  D19_SAMMELARTIKEL  D19_SCHUHE  D19_SONSTIGE  D19_SOZIALES  ...  \\\n",
       "0           0                  6           0             6           1.0  ...   \n",
       "2           6                  6           0             6           1.0  ...   \n",
       "4           0                  6           3             6           1.0  ...   \n",
       "5           0                  0           0             6           1.0  ...   \n",
       "6           0                  6           0             3           1.0  ...   \n",
       "\n",
       "   KBA13_TOYOTA  KBA13_VORB_0  KBA13_VORB_1  KBA13_VORB_1_2  KBA13_VORB_2  \\\n",
       "0           2.0           4.0           3.0             3.0           3.0   \n",
       "2           3.0           4.0           2.0             2.0           3.0   \n",
       "4           3.0           3.0           3.0             3.0           3.0   \n",
       "5           4.0           4.0           3.0             3.0           2.0   \n",
       "6           3.0           3.0           3.0             3.0           4.0   \n",
       "\n",
       "   KBA13_VORB_3  KKK  KONSUMNAEHE  KONSUMZELLE  LP_FAMILIE_GROB  \\\n",
       "0           1.0  1.0          5.0          0.0              2.0   \n",
       "2           4.0  3.0          1.0          1.0              1.0   \n",
       "4           0.0  4.0          1.0          1.0              5.0   \n",
       "5           1.0  2.0          2.0          0.0              2.0   \n",
       "6           3.0  2.0          4.0          0.0              2.0   \n",
       "\n",
       "   LP_STATUS_GROB  MOBI_RASTER  MOBI_REGIO  ONLINE_AFFINITAET  PLZ8_ANTG2  \\\n",
       "0             5.0          3.0         4.0                3.0         3.0   \n",
       "2             5.0          1.0         3.0                1.0         3.0   \n",
       "4             1.0          1.0         3.0                5.0         4.0   \n",
       "5             3.0          2.0         3.0                3.0         3.0   \n",
       "6             5.0          2.0         4.0                4.0         2.0   \n",
       "\n",
       "   PRAEGENDE_JUGENDJAHRE  REGIOTYP  RELAT_AB  RETOURTYP_BK_S  RT_KEIN_ANREIZ  \\\n",
       "0                    4.0       1.0       1.0             5.0             1.0   \n",
       "2                    4.0       7.0       3.0             5.0             1.0   \n",
       "4                    8.0       7.0       1.0             5.0             4.0   \n",
       "5                    4.0       3.0       5.0             3.0             1.0   \n",
       "6                    4.0       3.0       2.0             5.0             3.0   \n",
       "\n",
       "   RT_SCHNAEPPCHEN  RT_UEBERGROESSE  SEMIO_DOM  SEMIO_ERL  SEMIO_FAM  \\\n",
       "0              5.0              3.0          1          3          5   \n",
       "2              5.0              1.0          5          7          2   \n",
       "4              3.0              5.0          5          4          5   \n",
       "5              5.0              2.0          5          4          4   \n",
       "6              5.0              3.0          1          3          2   \n",
       "\n",
       "   SEMIO_KAEM  SEMIO_KRIT  SEMIO_KULT  SEMIO_LUST  SEMIO_MAT  SEMIO_PFLICHT  \\\n",
       "0           1           3           4           7          6              2   \n",
       "2           6           7           1           7          3              4   \n",
       "4           2           3           5           6          6              5   \n",
       "5           3           5           6           6          1              3   \n",
       "6           2           3           4           5          1              2   \n",
       "\n",
       "   SEMIO_RAT  SEMIO_REL  SEMIO_SOZ  SEMIO_TRADV  SEMIO_VERT  SHOPPER_TYP  \\\n",
       "0          1          2          6            1           6          3.0   \n",
       "2          2          1          2            1           3          1.0   \n",
       "4          5          4          4            4           5          1.0   \n",
       "5          2          4          6            4           7          1.0   \n",
       "6          3          5          4            4           6          0.0   \n",
       "\n",
       "   STRUKTURTYP  UMFELD_ALT  UMFELD_JUNG  VERDICHTUNGSRAUM  VERS_TYP  VHA  VHN  \\\n",
       "0          3.0         4.0          4.0               8.0       1.0  0.0  3.0   \n",
       "2          3.0         1.0          5.0               0.0       2.0  0.0  4.0   \n",
       "4          3.0         2.0          4.0               1.0       2.0  0.0  4.0   \n",
       "5          3.0         2.0          5.0              24.0       2.0  5.0  4.0   \n",
       "6          1.0         4.0          5.0               0.0       1.0  0.0  4.0   \n",
       "\n",
       "   VK_DHT4A  VK_DISTANZ  W_KEIT_KIND_HH  WOHNLAGE  ZABEOTYP  \\\n",
       "0       5.0         3.0             6.0       7.0         3   \n",
       "2      10.0        13.0             6.0       2.0         3   \n",
       "4       3.0         5.0             2.0       3.0         1   \n",
       "5       1.0         2.0             6.0       1.0         2   \n",
       "6       3.0         4.0             6.0       7.0         1   \n",
       "\n",
       "   ALTERSKATEGORIE_GROB  \n",
       "0                   4.0  \n",
       "2                   4.0  \n",
       "4                   3.0  \n",
       "5                   3.0  \n",
       "6                   4.0  \n",
       "\n",
       "[5 rows x 296 columns]"
      ]
     },
     "execution_count": 748,
     "metadata": {},
     "output_type": "execute_result"
    }
   ],
   "source": [
    "clean_customer_data2.head()"
   ]
  },
  {
   "cell_type": "markdown",
   "metadata": {},
   "source": [
    "#### 8. Impute missing values"
   ]
  },
  {
   "cell_type": "code",
   "execution_count": 749,
   "metadata": {},
   "outputs": [],
   "source": [
    "numerical_columns = ['ALTER_HH','ANZ_HAUSHALTE_AKTIV', 'ANZ_PERSONEN', 'EINGEFUEGT_AM','EINGEZOGENAM_HH_JAHR','KBA13_ANZAHL_PKW','VERDICHTUNGSRAUM']"
   ]
  },
  {
   "cell_type": "code",
   "execution_count": 750,
   "metadata": {
    "scrolled": true
   },
   "outputs": [
    {
     "data": {
      "text/plain": [
       "1.0     0.537333\n",
       "2.0     0.166343\n",
       "3.0     0.058213\n",
       "4.0     0.033626\n",
       "5.0     0.026269\n",
       "6.0     0.024277\n",
       "7.0     0.022276\n",
       "8.0     0.019900\n",
       "10.0    0.013808\n",
       "Name: ANZ_HAUSHALTE_AKTIV, dtype: float64"
      ]
     },
     "execution_count": 750,
     "metadata": {},
     "output_type": "execute_result"
    }
   ],
   "source": [
    "clean_customer_data2['ANZ_HAUSHALTE_AKTIV'].value_counts(normalize=True)[:10]"
   ]
  },
  {
   "cell_type": "code",
   "execution_count": 751,
   "metadata": {
    "scrolled": true
   },
   "outputs": [
    {
     "name": "stdout",
     "output_type": "stream",
     "text": [
      "ALTER_HH\n",
      "ANZ_HAUSHALTE_AKTIV\n",
      "ANZ_PERSONEN\n",
      "EINGEFUEGT_AM\n",
      "EINGEZOGENAM_HH_JAHR\n",
      "KBA13_ANZAHL_PKW\n",
      "VERDICHTUNGSRAUM\n"
     ]
    },
    {
     "data": {
      "image/png": "[encoded data removed]",
      "text/plain": [
       "<Figure size 432x288 with 1 Axes>"
      ]
     },
     "metadata": {
      "needs_background": "light"
     },
     "output_type": "display_data"
    },
    {
     "data": {
      "image/png": "[encoded data removed]",
      "text/plain": [
       "<Figure size 432x288 with 1 Axes>"
      ]
     },
     "metadata": {
      "needs_background": "light"
     },
     "output_type": "display_data"
    },
    {
     "data": {
      "image/png": "[encoded data removed]",
      "text/plain": [
       "<Figure size 432x288 with 1 Axes>"
      ]
     },
     "metadata": {
      "needs_background": "light"
     },
     "output_type": "display_data"
    },
    {
     "data": {
      "image/png": "[encoded data removed]",
      "text/plain": [
       "<Figure size 432x288 with 1 Axes>"
      ]
     },
     "metadata": {
      "needs_background": "light"
     },
     "output_type": "display_data"
    },
    {
     "data": {
      "image/png": "[encoded data removed]",
      "text/plain": [
       "<Figure size 432x288 with 1 Axes>"
      ]
     },
     "metadata": {
      "needs_background": "light"
     },
     "output_type": "display_data"
    },
    {
     "data": {
      "image/png": "[encoded data removed]",
      "text/plain": [
       "<Figure size 432x288 with 1 Axes>"
      ]
     },
     "metadata": {
      "needs_background": "light"
     },
     "output_type": "display_data"
    },
    {
     "data": {
      "image/png": "[encoded data removed]",
      "text/plain": [
       "<Figure size 432x288 with 1 Axes>"
      ]
     },
     "metadata": {
      "needs_background": "light"
     },
     "output_type": "display_data"
    }
   ],
   "source": [
    "for i in range(len(numerical_columns)):\n",
    "    plt.figure()\n",
    "    clean_customer_data2[numerical_columns[i]].hist().plot(label=numerical_columns[i])\n",
    "    print(numerical_columns[i])"
   ]
  },
  {
   "cell_type": "code",
   "execution_count": 752,
   "metadata": {},
   "outputs": [],
   "source": [
    "oc_values = list(set(clean_customer_data2.columns) - set(numerical_columns))"
   ]
  },
  {
   "cell_type": "code",
   "execution_count": 753,
   "metadata": {},
   "outputs": [],
   "source": [
    "columns_to_one_hot = ['CJT_GESAMTTYP','VERS_TYP','D19_LETZTER_KAUF_BRANCHE','GEBAEUDETYP', 'GEBAEUDETYP_RASTER',\\\n",
    "   'GEMEINDETYP', 'GFK_URLAUBERTYP', 'HEALTH_TYP', 'LP_FAMILIE_GROB', 'REGIOTYP', 'RETOURTYP_BK_S', 'SHOPPER_TYP', 'STRUKTURTYP','ZABEOTYP'\\\n",
    "                     ]"
   ]
  },
  {
   "cell_type": "code",
   "execution_count": 754,
   "metadata": {},
   "outputs": [],
   "source": [
    "# for categorical or ordinal values, impute with mode\n",
    "def impute_with_mode(df, columns):\n",
    "    df = df.copy\n",
    "    for column in columns:\n",
    "        df[column] = df[column].fillna(df[column].mode())\n",
    "    return df"
   ]
  },
  {
   "cell_type": "code",
   "execution_count": 755,
   "metadata": {},
   "outputs": [],
   "source": [
    "# for numerical values, impute with median\n",
    "def impute_with_median(df, columns):\n",
    "    for column in columns:\n",
    "        df[column] = df[column].fillna(df[column].median())\n",
    "    return df"
   ]
  },
  {
   "cell_type": "code",
   "execution_count": 756,
   "metadata": {},
   "outputs": [],
   "source": [
    "clean_customer_data2 = impute_with_median(clean_customer_data2, numerical_columns)    "
   ]
  },
  {
   "cell_type": "code",
   "execution_count": 765,
   "metadata": {},
   "outputs": [],
   "source": [
    "clean_customer_data2 = impute_with_median(clean_customer_data2, clean_customer_data2.columns)    "
   ]
  },
  {
   "cell_type": "code",
   "execution_count": 595,
   "metadata": {
    "scrolled": true
   },
   "outputs": [],
   "source": [
    "#clean_customer_data2 = impute_with_median(clean_customer_data2, list(set(clean_customer_data2.columns) - set(numerical_columns)))   "
   ]
  },
  {
   "cell_type": "code",
   "execution_count": 758,
   "metadata": {},
   "outputs": [
    {
     "data": {
      "text/plain": [
       "['ALTER_HH',\n",
       " 'ANZ_HAUSHALTE_AKTIV',\n",
       " 'ANZ_PERSONEN',\n",
       " 'EINGEFUEGT_AM',\n",
       " 'EINGEZOGENAM_HH_JAHR',\n",
       " 'KBA13_ANZAHL_PKW',\n",
       " 'VERDICHTUNGSRAUM']"
      ]
     },
     "execution_count": 758,
     "metadata": {},
     "output_type": "execute_result"
    }
   ],
   "source": [
    "numerical_columns"
   ]
  },
  {
   "cell_type": "markdown",
   "metadata": {},
   "source": [
    "- CAMEO_DEUG_2015 and CAMEO_DEU_2015 are similar features but the former is grainer than the later. Discard the later one and transform former to one-hot in later stage.\n",
    "- EIGEFEUGT_AM is a timedate feature, just take the year \n",
    "- MIN_GEBAEUDER_JAHR, EIGEZOGENAM_HH_JAHR is in years A.D. Need to normalize\n",
    "- OST_WST_KZ has two values: W, O should convert to 0,1\n",
    "- ALTER_HH, ALTERSKATEGORIE_FEIN, ANZ_HAUSHALTE_AKTIV, ANZ_KINDER, ANZ_PERSONEN, ANZ_STATISTISCHE_HAUSHALTE, PREGENDE_JUGENDJAHR, VERDICHTUNGSRAUM\n",
    "- LP_FAMILIE_GROB : different values have same meaning, same feature as LP_FAMILIE_FEIN\n",
    "- remove duplicate f"
   ]
  },
  {
   "cell_type": "markdown",
   "metadata": {},
   "source": [
    "#### 9. Convert continuous feature to log scale:"
   ]
  },
  {
   "cell_type": "code",
   "execution_count": 803,
   "metadata": {},
   "outputs": [],
   "source": [
    "columns_to_log_scale = ['VERDICHTUNGSRAUM','ANZ_HAUSHALTE_AKTIV','KBA13_ANZAHL_PKW']"
   ]
  },
  {
   "cell_type": "code",
   "execution_count": 760,
   "metadata": {},
   "outputs": [],
   "source": [
    "def convert_to_log(df, columns):\n",
    "    for column in columns:\n",
    "        df[column] = df[column].apply(lambda x:np.log(1+x))\n",
    "    return df"
   ]
  },
  {
   "cell_type": "code",
   "execution_count": 761,
   "metadata": {},
   "outputs": [],
   "source": [
    "clean_customer_data2 = convert_to_log(clean_customer_data2, columns_to_log_scale)"
   ]
  },
  {
   "cell_type": "code",
   "execution_count": 586,
   "metadata": {},
   "outputs": [
    {
     "data": {
      "text/plain": [
       "[]"
      ]
     },
     "execution_count": 586,
     "metadata": {},
     "output_type": "execute_result"
    },
    {
     "data": {
      "image/png": "[encoded data removed]",
      "text/plain": [
       "<Figure size 432x288 with 1 Axes>"
      ]
     },
     "metadata": {
      "needs_background": "light"
     },
     "output_type": "display_data"
    }
   ],
   "source": [
    "clean_customer_data[numerical_columns[1]].hist().plot()"
   ]
  },
  {
   "cell_type": "code",
   "execution_count": 627,
   "metadata": {},
   "outputs": [
    {
     "data": {
      "text/plain": [
       "[]"
      ]
     },
     "execution_count": 627,
     "metadata": {},
     "output_type": "execute_result"
    },
    {
     "data": {
      "image/png": "[encoded data removed]",
      "text/plain": [
       "<Figure size 432x288 with 1 Axes>"
      ]
     },
     "metadata": {
      "needs_background": "light"
     },
     "output_type": "display_data"
    }
   ],
   "source": [
    "clean_customer_data[numerical_columns[-1]].hist().plot()"
   ]
  },
  {
   "cell_type": "code",
   "execution_count": 762,
   "metadata": {},
   "outputs": [
    {
     "name": "stdout",
     "output_type": "stream",
     "text": [
      "ALTER_HH\n",
      "ANZ_HAUSHALTE_AKTIV\n",
      "ANZ_PERSONEN\n",
      "EINGEFUEGT_AM\n",
      "EINGEZOGENAM_HH_JAHR\n",
      "KBA13_ANZAHL_PKW\n",
      "VERDICHTUNGSRAUM\n"
     ]
    },
    {
     "data": {
      "image/png": "[encoded data removed]",
      "text/plain": [
       "<Figure size 432x288 with 1 Axes>"
      ]
     },
     "metadata": {
      "needs_background": "light"
     },
     "output_type": "display_data"
    },
    {
     "data": {
      "image/png": "[encoded data removed]",
      "text/plain": [
       "<Figure size 432x288 with 1 Axes>"
      ]
     },
     "metadata": {
      "needs_background": "light"
     },
     "output_type": "display_data"
    },
    {
     "data": {
      "image/png": "[encoded data removed]",
      "text/plain": [
       "<Figure size 432x288 with 1 Axes>"
      ]
     },
     "metadata": {
      "needs_background": "light"
     },
     "output_type": "display_data"
    },
    {
     "data": {
      "image/png": "[encoded data removed]",
      "text/plain": [
       "<Figure size 432x288 with 1 Axes>"
      ]
     },
     "metadata": {
      "needs_background": "light"
     },
     "output_type": "display_data"
    },
    {
     "data": {
      "image/png": "[encoded data removed]",
      "text/plain": [
       "<Figure size 432x288 with 1 Axes>"
      ]
     },
     "metadata": {
      "needs_background": "light"
     },
     "output_type": "display_data"
    },
    {
     "data": {
      "image/png": "[encoded data removed]",
      "text/plain": [
       "<Figure size 432x288 with 1 Axes>"
      ]
     },
     "metadata": {
      "needs_background": "light"
     },
     "output_type": "display_data"
    },
    {
     "data": {
      "image/png": "[encoded data removed]",
      "text/plain": [
       "<Figure size 432x288 with 1 Axes>"
      ]
     },
     "metadata": {
      "needs_background": "light"
     },
     "output_type": "display_data"
    }
   ],
   "source": [
    "for i in range(len(numerical_columns)):\n",
    "    plt.figure()\n",
    "    clean_customer_data2[numerical_columns[i]].hist().plot(label=numerical_columns[i])\n",
    "    print(numerical_columns[i])"
   ]
  },
  {
   "cell_type": "code",
   "execution_count": 766,
   "metadata": {
    "scrolled": true
   },
   "outputs": [
    {
     "data": {
      "text/plain": [
       "{'KBA05_MOD2': array([4., 3., 5., 2., 1.]),\n",
       " 'KBA13_KW_120': array([3., 1., 5., 4., 0., 2.]),\n",
       " 'GEBAEUDETYP_RASTER': array([4., 3., 2., 5., 1.]),\n",
       " 'KBA13_CCM_3001': array([3., 1., 4., 5., 2.]),\n",
       " 'KONSUMNAEHE': array([5., 1., 2., 4., 3., 6., 7.]),\n",
       " 'KBA13_VORB_3': array([1., 4., 0., 3., 2., 5.]),\n",
       " 'VERS_TYP': array([1., 2.]),\n",
       " 'KBA05_ZUL2': array([4., 3., 5., 2., 1.]),\n",
       " 'D19_BIO_OEKO': array([0, 2, 3, 6, 7, 5, 4, 1]),\n",
       " 'KBA13_ANTG4': array([0., 1., 2.]),\n",
       " 'KBA05_ALTER2': array([2., 4., 3., 1., 5.]),\n",
       " 'KBA13_OPEL': array([3., 1., 4., 2., 5.]),\n",
       " 'KBA05_KRSKLEIN': array([2., 1., 3.]),\n",
       " 'D19_KINDERARTIKEL': array([0, 2, 6, 3, 7, 5, 1, 4]),\n",
       " 'KBA13_KW_60': array([3., 4., 0., 1., 2., 5.]),\n",
       " 'KBA13_SEG_SPORTWAGEN': array([4., 3., 5., 1., 0., 2.]),\n",
       " 'KBA13_CCM_3000': array([3., 5., 4., 2., 0., 1.]),\n",
       " 'KBA05_SEG1': array([1., 0., 2., 3.]),\n",
       " 'RT_SCHNAEPPCHEN': array([5., 3., 2., 4., 1.]),\n",
       " 'KBA13_FAB_SONSTIGE': array([3., 2., 5., 4., 1.]),\n",
       " 'CJT_GESAMTTYP': array([5., 2., 6., 4., 1., 3.]),\n",
       " 'KBA13_VORB_2': array([3., 2., 4., 1., 5.]),\n",
       " 'KBA13_HERST_FORD_OPEL': array([3., 2., 4., 1., 5.]),\n",
       " 'CJT_TYP_6': array([5., 3., 4., 2., 1.]),\n",
       " 'KBA13_ALTERHALTER_61': array([3., 4., 2., 1., 5.]),\n",
       " 'KBA13_HALTER_65': array([4., 3., 2., 1., 5.]),\n",
       " 'D19_VERSI_DATUM': array([10.,  5.,  1.,  4.,  8.,  2.,  7.,  6.,  3.]),\n",
       " 'KBA13_SEG_VAN': array([4., 3., 2., 1., 5.]),\n",
       " 'KBA13_SEG_WOHNMOBILE': array([4., 5., 3., 2., 0., 1.]),\n",
       " 'VHA': array([0., 5., 1., 4., 2., 3.]),\n",
       " 'KBA13_SEG_KOMPAKTKLASSE': array([3., 1., 2., 5., 4.]),\n",
       " 'KBA13_CCM_1500': array([4., 1., 3., 2., 5.]),\n",
       " 'KBA13_KW_40': array([3., 2., 1., 0., 4., 5.]),\n",
       " 'KBA13_BJ_2004': array([3., 1., 2., 4., 5.]),\n",
       " 'KBA13_HALTER_50': array([4., 2., 5., 3., 1.]),\n",
       " 'ZABEOTYP': array([3, 1, 2, 4, 6, 5]),\n",
       " 'KBA13_HERST_ASIEN': array([2., 3., 1., 4., 5.]),\n",
       " 'KBA05_GBZ': array([4., 3., 1., 5., 2.]),\n",
       " 'KBA05_MAXBJ': array([2., 1., 4., 3.]),\n",
       " 'KBA13_CCM_2000': array([4., 3., 2., 5., 1.]),\n",
       " 'SEMIO_REL': array([2, 1, 4, 5, 3, 6, 7]),\n",
       " 'KBA13_KMH_140': array([4., 5., 3., 1., 2.]),\n",
       " 'KBA05_HERST4': array([2., 3., 1., 5., 4., 0.]),\n",
       " 'D19_GESAMT_DATUM': array([ 9, 10,  1,  6,  5,  4,  2,  3,  8,  7]),\n",
       " 'KBA05_KRSZUL': array([2., 1., 3.]),\n",
       " 'KBA13_ALTERHALTER_45': array([2., 3., 5., 4., 1.]),\n",
       " 'PLZ8_ANTG2': array([3., 4., 2., 1., 0.]),\n",
       " 'KBA13_KW_70': array([3., 2., 0., 4., 5., 1.]),\n",
       " 'LP_FAMILIE_GROB': array([2., 1., 5., 4., 0., 3.]),\n",
       " 'KBA05_VORB1': array([3., 4., 1., 2., 5.]),\n",
       " 'ALTERSKATEGORIE_GROB': array([4., 3., 2., 1.]),\n",
       " 'KBA05_SEG6': array([1., 0.]),\n",
       " 'D19_LEBENSMITTEL': array([6, 0, 5, 2, 3, 7, 4, 1]),\n",
       " 'D19_LETZTER_KAUF_BRANCHE': array([30, 24,  8, 10, 25, 26, 32,  1, 33, 15, 11, 22,  2, 31, 12,  4, 28,\n",
       "        23,  0, 16, 27,  5,  3, 13, 14, 21,  9,  7, 18, 20,  6, 34, 29, 19,\n",
       "        17]),\n",
       " 'KBA13_BJ_2006': array([3., 2., 1., 4., 5.]),\n",
       " 'D19_VERSAND_DATUM': array([ 9, 10,  1,  6,  5,  8,  4,  2,  3,  7]),\n",
       " 'FINANZ_SPARER': array([1, 2, 3, 4, 5]),\n",
       " 'KBA13_KRSZUL_NEU': array([3., 2., 1., 0.]),\n",
       " 'VK_DISTANZ': array([ 3., 13.,  5.,  2.,  4., 11.,  7.,  6.,  1.,  8., 10., 12.]),\n",
       " 'KBA13_CCM_1600': array([2., 3., 4., 5., 1.]),\n",
       " 'FIRMENDICHTE': array([4., 2., 3., 1., 5.]),\n",
       " 'SEMIO_FAM': array([5, 2, 4, 3, 7, 1, 6]),\n",
       " 'SEMIO_KULT': array([4, 1, 5, 6, 7, 2, 3]),\n",
       " 'D19_FREIZEIT': array([0, 6, 3, 5, 2, 7, 1, 4]),\n",
       " 'FINANZ_UNAUFFAELLIGER': array([2, 4, 5, 1, 3]),\n",
       " 'KBA05_CCM1': array([3., 2., 5., 4., 1.]),\n",
       " 'KBA05_ZUL1': array([3., 2., 1., 4., 5.]),\n",
       " 'SHOPPER_TYP': array([3., 1., 0., 2.]),\n",
       " 'KBA13_AUTOQUOTE': array([4., 2., 3., 1., 5.]),\n",
       " 'KBA13_BMW': array([5., 4., 3., 2., 1.]),\n",
       " 'CJT_TYP_1': array([1., 2., 3., 4., 5.]),\n",
       " 'KBA05_MOD1': array([2., 1., 4., 0., 3.]),\n",
       " 'KBA13_HALTER_30': array([1., 4., 3., 2., 5.]),\n",
       " 'KBA13_KRSSEG_VAN': array([2., 1., 3., 0.]),\n",
       " 'KBA13_SEG_KLEINST': array([2., 4., 3., 1., 5.]),\n",
       " 'KBA13_SEG_MITTELKLASSE': array([3., 2., 4., 1., 5.]),\n",
       " 'D19_DROGERIEARTIKEL': array([0, 4, 3, 6, 7, 5, 2, 1]),\n",
       " 'KBA13_SEG_OBEREMITTELKLASSE': array([4., 2., 3., 5., 1.]),\n",
       " 'KBA13_KW_110': array([4., 2., 3., 0., 1., 5.]),\n",
       " 'D19_BANKEN_GROSS': array([0, 3, 6, 4, 2, 5, 1]),\n",
       " 'KBA13_HALTER_60': array([5., 3., 2., 1., 4.]),\n",
       " 'KBA13_HALTER_20': array([1., 3., 2., 4., 5.]),\n",
       " 'MOBI_RASTER': array([3., 1., 2., 4., 5., 6.]),\n",
       " 'D19_BANKEN_DATUM': array([10,  3,  8,  6,  5,  7,  9,  2,  1,  4]),\n",
       " 'KBA13_HALTER_45': array([2., 5., 4., 3., 1.]),\n",
       " 'KBA13_KMH_110': array([2., 1., 3.]),\n",
       " 'MOBI_REGIO': array([4., 3., 1., 5., 2., 6.]),\n",
       " 'KBA05_ANHANG': array([1., 3., 0., 2.]),\n",
       " 'KBA13_HALTER_40': array([3., 2., 4., 1., 5.]),\n",
       " 'KBA05_CCM2': array([3., 2., 5., 1., 4.]),\n",
       " 'KBA13_BJ_2000': array([2., 3., 1., 4., 5.]),\n",
       " 'KBA13_ANTG3': array([1., 3., 2., 0.]),\n",
       " 'BALLRAUM': array([3., 7., 6., 5., 2., 1., 4.]),\n",
       " 'KBA13_GBZ': array([5., 2., 3., 4., 1.]),\n",
       " 'ONLINE_AFFINITAET': array([3., 1., 5., 4., 2., 0.]),\n",
       " 'KBA05_KW1': array([3., 2., 5., 4., 1.]),\n",
       " 'LP_STATUS_GROB': array([5., 1., 3., 4., 2.]),\n",
       " 'D19_BANKEN_ANZ_24': array([0, 2, 1, 4, 3, 5, 6]),\n",
       " 'D19_BANKEN_ONLINE_DATUM': array([10,  7,  3,  5,  9,  8,  6,  1,  2,  4]),\n",
       " 'KBA05_HERST3': array([3., 1., 2., 0., 4., 5.]),\n",
       " 'D19_BILDUNG': array([0, 6, 7, 2, 5, 4, 3, 1]),\n",
       " 'D19_GESAMT_ONLINE_DATUM': array([10,  1,  5,  4,  2,  3,  6,  9,  8,  7]),\n",
       " 'KBA13_KW_90': array([3., 0., 2., 4., 5., 1.]),\n",
       " 'AKT_DAT_KL': array([1., 3., 5., 7., 2., 4., 6., 8.]),\n",
       " 'KBA05_KRSAQUOT': array([4., 2., 3., 1., 5.]),\n",
       " 'KBA13_KMH_140_210': array([3., 2., 1., 4., 5.]),\n",
       " 'KBA13_HERST_AUDI_VW': array([4., 3., 2., 5., 1.]),\n",
       " 'KBA05_DIESEL': array([1., 4., 2., 3., 0.]),\n",
       " 'KBA05_KRSVAN': array([3., 2., 1.]),\n",
       " 'D19_VOLLSORTIMENT': array([0, 6, 7, 3, 5, 2, 4, 1]),\n",
       " 'KBA05_ALTER3': array([4., 2., 3., 1., 5.]),\n",
       " 'KBA13_SEG_MINIWAGEN': array([1., 5., 3., 4., 2.]),\n",
       " 'D19_VERSI_ANZ_24': array([0, 2, 1, 4, 3, 5, 6]),\n",
       " 'ARBEIT': array([1., 3., 2., 4., 5.]),\n",
       " 'D19_NAHRUNGSERGAENZUNG': array([0, 3, 6, 7, 5, 4, 2, 1]),\n",
       " 'KBA13_ANTG2': array([3., 4., 2., 1., 0.]),\n",
       " 'KBA13_FORD': array([3., 4., 2., 5., 1.]),\n",
       " 'KBA05_FRAU': array([4., 3., 5., 2., 1.]),\n",
       " 'KBA05_SEG9': array([2., 1., 0., 3.]),\n",
       " 'HH_DELTA_FLAG': array([0., 1.]),\n",
       " 'KBA13_SITZE_5': array([1., 3., 2., 4., 5.]),\n",
       " 'KBA05_SEG7': array([0., 3., 1., 2.]),\n",
       " 'CAMEO_DEUG_2015': array([1., 5., 7., 3., 9., 2., 4., 8., 6.]),\n",
       " 'KBA05_VORB2': array([2., 3., 1., 0., 4., 5.]),\n",
       " 'KBA13_HHZ': array([5., 3., 4., 2., 1.]),\n",
       " 'KBA13_SEG_KLEINWAGEN': array([2., 3., 5., 1., 4.]),\n",
       " 'KBA13_TOYOTA': array([2., 3., 4., 1., 5.]),\n",
       " 'D19_SCHUHE': array([0, 3, 6, 2, 5, 1, 7, 4]),\n",
       " 'D19_BANKEN_DIREKT': array([0, 5, 7, 3, 6, 1, 4, 2]),\n",
       " 'KBA13_HALTER_35': array([3., 4., 2., 5., 1.]),\n",
       " 'KBA13_SEG_OBERKLASSE': array([3., 1., 5., 4., 2., 0.]),\n",
       " 'KBA13_KRSHERST_BMW_BENZ': array([3., 2., 5., 4., 1.]),\n",
       " 'KBA13_VORB_1': array([3., 2., 4., 1., 5.]),\n",
       " 'KBA13_HERST_BMW_BENZ': array([4., 3., 5., 2., 1.]),\n",
       " 'D19_VERSAND_REST': array([0, 3, 6, 5, 2, 7, 4, 1]),\n",
       " 'KBA05_ZUL3': array([2., 3., 4., 5., 0., 1.]),\n",
       " 'KBA05_KRSHERST2': array([3., 4., 2., 1., 5.]),\n",
       " 'D19_GESAMT_ANZ_12': array([0, 3, 2, 1, 5, 4, 6]),\n",
       " 'D19_TELKO_MOBILE': array([0, 5, 6, 3, 7, 4, 2, 1]),\n",
       " 'KBA13_VORB_1_2': array([3., 2., 1., 4., 5.]),\n",
       " 'KBA13_KMH_180': array([2., 3., 4., 1., 5.]),\n",
       " 'KBA05_SEG2': array([3., 2., 4., 1., 5.]),\n",
       " 'D19_KONSUMTYP_MAX': array([2., 4., 1., 3., 8.]),\n",
       " 'KONSUMZELLE': array([0., 1.]),\n",
       " 'RETOURTYP_BK_S': array([5., 3., 2., 4., 1.]),\n",
       " 'CJT_TYP_2': array([1., 2., 3., 5., 4.]),\n",
       " 'KBA13_KRSSEG_OBER': array([2., 1., 3., 0.]),\n",
       " 'D19_SOZIALES': array([1., 0., 5., 4., 3., 2.]),\n",
       " 'KBA13_MOTOR': array([4., 3., 1., 2.]),\n",
       " 'D19_SAMMELARTIKEL': array([6, 0, 2, 5, 3, 7, 4, 1]),\n",
       " 'KBA13_SEG_GELAENDEWAGEN': array([3., 4., 2., 5., 1.]),\n",
       " 'D19_KONSUMTYP': array([3., 1., 2., 6., 4., 5.]),\n",
       " 'D19_LOTTO': array([0., 7., 6., 5., 3., 2., 4., 1.]),\n",
       " 'KBA05_SEG4': array([3., 4., 2., 5., 1.]),\n",
       " 'D19_BANKEN_REST': array([0, 6, 5, 3, 7, 2, 4, 1]),\n",
       " 'W_KEIT_KIND_HH': array([6., 2., 4., 1., 5., 3.]),\n",
       " 'SEMIO_RAT': array([1, 2, 5, 3, 6, 4, 7]),\n",
       " 'KBA13_KRSHERST_FORD_OPEL': array([3., 1., 2., 4., 5.]),\n",
       " 'KBA05_KRSOBER': array([3., 2., 1.]),\n",
       " 'HEALTH_TYP': array([1., 2., 3.]),\n",
       " 'FINANZ_ANLEGER': array([1, 4, 3, 2, 5]),\n",
       " 'D19_TELKO_OFFLINE_DATUM': array([10,  9,  8,  5,  6,  1,  3,  7,  4,  2]),\n",
       " 'KBA05_ALTER4': array([4., 3., 1., 5., 2., 0.]),\n",
       " 'KBA13_CCM_1401_2500': array([4., 1., 2., 3., 5.]),\n",
       " 'UMFELD_ALT': array([4., 1., 2., 5., 3.]),\n",
       " 'KBA13_MERCEDES': array([3., 5., 4., 2., 1.]),\n",
       " 'KBA05_HERST1': array([4., 1., 3., 2., 5., 0.]),\n",
       " 'KBA05_MOD4': array([4., 3., 1., 2., 0., 5.]),\n",
       " 'KBA13_SEG_GROSSRAUMVANS': array([5., 3., 4., 2., 1.]),\n",
       " 'RT_UEBERGROESSE': array([3., 1., 5., 2., 4., 0.]),\n",
       " 'GEBAEUDETYP': array([1., 8., 3., 2., 4., 6.]),\n",
       " 'KBA13_CCM_2500': array([4., 2., 0., 5., 3., 1.]),\n",
       " 'KBA13_PEUGEOT': array([2., 5., 3., 4., 1.]),\n",
       " 'KBA13_KW_0_60': array([3., 4., 2., 1., 5.]),\n",
       " 'KBA05_KW3': array([3., 0., 4., 1., 2.]),\n",
       " 'D19_HANDWERK': array([0, 6, 7, 5, 3, 2, 4, 1]),\n",
       " 'CJT_TYP_5': array([5., 3., 4., 1., 2.]),\n",
       " 'KBA05_MOTRAD': array([1., 0., 2., 3.]),\n",
       " 'KBA05_SEG3': array([2., 4., 3., 5., 1.]),\n",
       " 'KBA13_VORB_0': array([4., 3., 5., 2., 1.]),\n",
       " 'KBA13_BJ_1999': array([3., 4., 1., 2., 5.]),\n",
       " 'KBA13_SEG_UTILITIES': array([4., 3., 5., 2., 1.]),\n",
       " 'EWDICHTE': array([2., 4., 5., 3., 6., 1.]),\n",
       " 'KBA05_KW2': array([3., 4., 2., 1., 5.]),\n",
       " 'SEMIO_LUST': array([7, 6, 5, 4, 2, 1, 3]),\n",
       " 'KBA05_ANTG3': array([0., 2., 1., 3.]),\n",
       " 'D19_RATGEBER': array([0, 6, 2, 7, 3, 5, 4, 1]),\n",
       " 'REGIOTYP': array([1., 7., 3., 4., 6., 2., 5.]),\n",
       " 'KBA13_CCM_0_1400': array([2., 4., 3., 0., 1., 5.]),\n",
       " 'KBA05_MAXVORB': array([2., 1., 3.]),\n",
       " 'D19_BEKLEIDUNG_GEH': array([0, 6, 2, 3, 5, 4, 7, 1]),\n",
       " 'D19_BEKLEIDUNG_REST': array([0, 6, 7, 3, 5, 1, 2, 4]),\n",
       " 'D19_TELKO_REST': array([0, 6, 3, 5, 7, 4, 2, 1]),\n",
       " 'D19_SONSTIGE': array([6, 3, 7, 5, 0, 4, 1, 2]),\n",
       " 'KBA05_CCM4': array([1., 2., 0., 4., 3.]),\n",
       " 'KBA05_SEG8': array([1., 2., 0., 3.]),\n",
       " 'CJT_TYP_3': array([5., 3., 4., 2., 1.]),\n",
       " 'KBA13_RENAULT': array([2., 3., 4., 1., 5.]),\n",
       " 'KBA13_KMH_211': array([3., 5., 4., 2., 0., 1.]),\n",
       " 'STRUKTURTYP': array([3., 1., 2.]),\n",
       " 'KBA13_CCM_1000': array([3., 5., 0., 1., 2., 4.]),\n",
       " 'KBA13_HALTER_25': array([1., 3., 2., 4., 5.]),\n",
       " 'KBA05_MAXSEG': array([3., 2., 4., 1.]),\n",
       " 'GFK_URLAUBERTYP': array([ 4.,  3.,  2., 11., 10.,  8.,  1.,  5.,  9., 12.,  7.,  6.]),\n",
       " 'FINANZ_MINIMALIST': array([5, 3, 2, 4, 1]),\n",
       " 'KBA05_MOD8': array([2., 1., 0., 3.]),\n",
       " 'SEMIO_PFLICHT': array([2, 4, 5, 3, 1, 7, 6]),\n",
       " 'SEMIO_MAT': array([6, 3, 1, 4, 5, 2, 7]),\n",
       " 'KBA05_MAXHERST': array([2., 3., 4., 1., 5.]),\n",
       " 'KBA13_CCM_2501': array([0., 4., 3., 5., 2., 1.]),\n",
       " 'KBA13_BAUMAX': array([1., 3., 2., 5., 4.]),\n",
       " 'CJT_KATALOGNUTZER': array([4., 5., 3., 2., 1.]),\n",
       " 'KKK': array([1., 3., 4., 2.]),\n",
       " 'D19_TELKO_DATUM': array([10,  7,  9,  8,  5,  6,  2,  1,  3,  4]),\n",
       " 'KBA05_MOTOR': array([4., 2., 3., 1.]),\n",
       " 'KBA05_CCM3': array([3., 5., 2., 4., 1.]),\n",
       " 'KBA13_ALTERHALTER_60': array([5., 2., 3., 1., 4.]),\n",
       " 'KBA13_SEG_SONSTIGE': array([4., 5., 3., 2., 1.]),\n",
       " 'SEMIO_SOZ': array([6, 2, 4, 5, 7, 1, 3]),\n",
       " 'GREEN_AVANTGARDE': array([1, 0]),\n",
       " 'D19_REISEN': array([0, 6, 7, 5, 3, 2, 4, 1]),\n",
       " 'KBA13_KMH_251': array([1., 3., 2.]),\n",
       " 'SEMIO_KAEM': array([1, 6, 2, 3, 4, 5, 7]),\n",
       " 'KBA13_KW_61_120': array([3., 1., 5., 2., 4.]),\n",
       " 'KBA05_MOD3': array([3., 4., 1., 2., 5.]),\n",
       " 'PRAEGENDE_JUGENDJAHRE': array([ 4.,  8.,  1.,  6., 15., 14.,  5.,  3., 11.,  2., 10., 13., 12.,\n",
       "         7.]),\n",
       " 'KBA13_SITZE_4': array([3., 4., 5., 2., 1.]),\n",
       " 'KBA13_AUDI': array([4., 2., 3., 1., 5.]),\n",
       " 'KBA05_HERSTTEMP': array([2., 1., 4., 5., 3.]),\n",
       " 'GEMEINDETYP': array([50., 22., 12., 40., 30., 21., 11.]),\n",
       " 'KBA13_BJ_2008': array([4., 0., 5., 2., 3., 1.]),\n",
       " 'D19_GESAMT_ONLINE_QUOTE_12': array([ 0., 10.,  7.,  6.,  8.,  5.,  9.,  4.,  3.,  2.,  1.]),\n",
       " 'FINANZTYP': array([2, 5, 6, 3, 1, 4]),\n",
       " 'D19_TECHNIK': array([6, 0, 7, 2, 3, 5, 4, 1]),\n",
       " 'KBA13_CCM_1200': array([2., 3., 0., 5., 4., 1.]),\n",
       " 'KBA05_VORB0': array([4., 2., 5., 3., 1.]),\n",
       " 'KBA13_ANTG1': array([3., 1., 2., 4., 0.]),\n",
       " 'KBA05_SEG5': array([3., 1., 4., 2., 0.]),\n",
       " 'SEMIO_ERL': array([3, 7, 4, 2, 6, 5, 1]),\n",
       " 'D19_BUCH_CD': array([6, 0, 2, 5, 3, 1, 7, 4]),\n",
       " 'KBA13_KMH_210': array([4., 2., 3., 5., 1.]),\n",
       " 'D19_VERSICHERUNGEN': array([0, 7, 2, 3, 6, 1, 5, 4]),\n",
       " 'KBA13_KRSHERST_AUDI_VW': array([4., 3., 2., 5., 1.]),\n",
       " 'KBA13_NISSAN': array([3., 4., 2., 1., 5.]),\n",
       " 'KBA05_AUTOQUOT': array([5., 4., 3., 1., 2.]),\n",
       " 'WOHNLAGE': array([7., 2., 3., 1., 4., 5., 8., 0.]),\n",
       " 'RT_KEIN_ANREIZ': array([1., 4., 3., 2., 5.]),\n",
       " 'CJT_TYP_4': array([5., 4., 2., 1., 3.]),\n",
       " 'D19_VERSI_ANZ_12': array([0, 2, 1, 4, 3, 5, 6]),\n",
       " 'KBA13_BJ_2009': array([3., 5., 1., 4., 0., 2.]),\n",
       " 'KBA13_KW_30': array([2., 3., 1.]),\n",
       " 'KBA13_CCM_1800': array([3., 2., 0., 1., 4., 5.]),\n",
       " 'SEMIO_VERT': array([6, 3, 5, 7, 2, 1, 4]),\n",
       " 'KBA05_MAXAH': array([5., 3., 4., 2., 1.]),\n",
       " 'KBA13_MAZDA': array([3., 2., 4., 1., 5.]),\n",
       " 'VHN': array([3., 4., 2., 1., 0.]),\n",
       " 'KBA13_CCM_1400': array([3., 4., 1., 2., 5.]),\n",
       " 'KBA13_KRSAQUOT': array([3., 5., 2., 1., 4.]),\n",
       " 'SEMIO_TRADV': array([1, 4, 5, 6, 2, 3, 7]),\n",
       " 'RELAT_AB': array([1., 3., 5., 2., 4.]),\n",
       " 'VK_DHT4A': array([ 5., 10.,  3.,  1.,  8.,  4.,  2.,  7.,  6., 11.]),\n",
       " 'HH_EINKOMMEN_SCORE': array([1., 6., 2., 4., 5., 3.]),\n",
       " 'KBA05_SEG10': array([2., 4., 1., 3., 0.]),\n",
       " 'KBA05_ALTER1': array([2., 0., 1., 3., 4.]),\n",
       " 'KBA05_ANTG1': array([2., 0., 4., 3., 1.]),\n",
       " 'D19_HAUS_DEKO': array([6, 0, 3, 2, 5, 7, 4, 1]),\n",
       " 'KBA13_ALTERHALTER_30': array([1., 3., 2., 4., 5.]),\n",
       " 'SEMIO_DOM': array([1, 5, 3, 6, 2, 4, 7]),\n",
       " 'KBA13_HERST_EUROPA': array([2., 4., 3., 1., 5.]),\n",
       " 'KBA13_SITZE_6': array([5., 4., 3., 2., 1.]),\n",
       " 'KBA13_FIAT': array([3., 2., 4., 5., 1.]),\n",
       " 'KBA05_HERST5': array([2., 3., 1., 0., 4., 5.]),\n",
       " 'KBA13_KW_80': array([2., 1., 0., 4., 3., 5.]),\n",
       " 'FINANZ_HAUSBAUER': array([2, 4, 3, 5, 1]),\n",
       " 'KBA05_ANTG2': array([2., 3., 1., 0., 4.]),\n",
       " 'KBA13_KW_121': array([3., 4., 5., 0., 1., 2.]),\n",
       " 'SEMIO_KRIT': array([3, 7, 5, 1, 6, 2, 4]),\n",
       " 'KBA13_KW_50': array([2., 4., 3., 0., 5., 1.]),\n",
       " 'UMFELD_JUNG': array([4., 5., 3., 2., 1.]),\n",
       " 'D19_KOSMETIK': array([0, 7, 6, 3, 4, 5, 2, 1]),\n",
       " 'KBA05_MODTEMP': array([2., 3., 4., 1., 5., 6.]),\n",
       " 'KBA13_KMH_0_140': array([3., 4., 1., 2., 0., 5.]),\n",
       " 'D19_GESAMT_OFFLINE_DATUM': array([ 9, 10,  8,  6,  5,  4,  3,  7,  1,  2]),\n",
       " 'D19_WEIN_FEINKOST': array([0, 6, 7, 3, 2, 5, 4, 1]),\n",
       " 'INNENSTADT': array([4., 1., 8., 5., 6., 7., 2., 3.]),\n",
       " 'KBA13_SEG_MINIVANS': array([3., 2., 4., 5., 1.]),\n",
       " 'KBA13_FAB_ASIEN': array([2., 3., 4., 1., 5.]),\n",
       " 'KBA05_HERST2': array([3., 4., 2., 5., 1.]),\n",
       " 'D19_ENERGIE': array([0, 5, 3, 6, 7, 2, 4, 1])}"
      ]
     },
     "execution_count": 766,
     "metadata": {},
     "output_type": "execute_result"
    }
   ],
   "source": [
    "clean_customer_data2[oc_values].apply(lambda x:x.unique()).to_dict()"
   ]
  },
  {
   "cell_type": "code",
   "execution_count": 634,
   "metadata": {},
   "outputs": [],
   "source": [
    "#clean_customer_data2 = pd.read_csv('clean_and_imputed_data_before_one_hot.csv')"
   ]
  },
  {
   "cell_type": "markdown",
   "metadata": {},
   "source": [
    "#### 10. Remove outliers for numerical features"
   ]
  },
  {
   "cell_type": "code",
   "execution_count": 767,
   "metadata": {},
   "outputs": [],
   "source": [
    "outlier_indices = set()"
   ]
  },
  {
   "cell_type": "code",
   "execution_count": 768,
   "metadata": {
    "scrolled": true
   },
   "outputs": [
    {
     "data": {
      "text/plain": [
       "[]"
      ]
     },
     "execution_count": 768,
     "metadata": {},
     "output_type": "execute_result"
    },
    {
     "data": {
      "image/png": "[encoded data removed]",
      "text/plain": [
       "<Figure size 432x288 with 1 Axes>"
      ]
     },
     "metadata": {
      "needs_background": "light"
     },
     "output_type": "display_data"
    }
   ],
   "source": [
    "clean_customer_data2.ANZ_PERSONEN.hist().plot()"
   ]
  },
  {
   "cell_type": "code",
   "execution_count": 769,
   "metadata": {
    "scrolled": true
   },
   "outputs": [
    {
     "data": {
      "text/plain": [
       "417        8.0\n",
       "860        8.0\n",
       "1775       8.0\n",
       "3273      12.0\n",
       "4039       8.0\n",
       "          ... \n",
       "189859     8.0\n",
       "189977     8.0\n",
       "190050    12.0\n",
       "190168     8.0\n",
       "190208     8.0\n",
       "Name: ANZ_PERSONEN, Length: 255, dtype: float64"
      ]
     },
     "execution_count": 769,
     "metadata": {},
     "output_type": "execute_result"
    }
   ],
   "source": [
    "clean_customer_data2.ANZ_PERSONEN[clean_customer_data2.ANZ_PERSONEN>7]"
   ]
  },
  {
   "cell_type": "code",
   "execution_count": 770,
   "metadata": {},
   "outputs": [],
   "source": [
    "outlier_indices.update(clean_customer_data2.ANZ_PERSONEN[clean_customer_data2.ANZ_PERSONEN>7].index)"
   ]
  },
  {
   "cell_type": "code",
   "execution_count": 771,
   "metadata": {},
   "outputs": [
    {
     "data": {
      "text/plain": [
       "[]"
      ]
     },
     "execution_count": 771,
     "metadata": {},
     "output_type": "execute_result"
    },
    {
     "data": {
      "image/png": "[encoded data removed]",
      "text/plain": [
       "<Figure size 432x288 with 1 Axes>"
      ]
     },
     "metadata": {
      "needs_background": "light"
     },
     "output_type": "display_data"
    }
   ],
   "source": [
    "clean_customer_data2.ANZ_HAUSHALTE_AKTIV.hist().plot()"
   ]
  },
  {
   "cell_type": "code",
   "execution_count": 772,
   "metadata": {},
   "outputs": [
    {
     "data": {
      "text/plain": [
       "8         4.317488\n",
       "45        4.025352\n",
       "96        4.691348\n",
       "664       5.723585\n",
       "1056      4.060443\n",
       "            ...   \n",
       "190897    5.583496\n",
       "191000    4.682131\n",
       "191100    4.174387\n",
       "191231    5.583496\n",
       "191629    4.584967\n",
       "Name: ANZ_HAUSHALTE_AKTIV, Length: 1130, dtype: float64"
      ]
     },
     "execution_count": 772,
     "metadata": {},
     "output_type": "execute_result"
    }
   ],
   "source": [
    "clean_customer_data2.ANZ_HAUSHALTE_AKTIV[clean_customer_data2.ANZ_HAUSHALTE_AKTIV>4]"
   ]
  },
  {
   "cell_type": "code",
   "execution_count": 773,
   "metadata": {},
   "outputs": [],
   "source": [
    "outlier_indices.update(clean_customer_data2.ANZ_HAUSHALTE_AKTIV[clean_customer_data2.ANZ_HAUSHALTE_AKTIV>4].index)"
   ]
  },
  {
   "cell_type": "code",
   "execution_count": 774,
   "metadata": {},
   "outputs": [
    {
     "data": {
      "text/plain": [
       "[]"
      ]
     },
     "execution_count": 774,
     "metadata": {},
     "output_type": "execute_result"
    },
    {
     "data": {
      "image/png": "[encoded data removed]",
      "text/plain": [
       "<Figure size 432x288 with 1 Axes>"
      ]
     },
     "metadata": {
      "needs_background": "light"
     },
     "output_type": "display_data"
    }
   ],
   "source": [
    "clean_customer_data2.KBA13_ANZAHL_PKW.hist().plot()"
   ]
  },
  {
   "cell_type": "code",
   "execution_count": 775,
   "metadata": {},
   "outputs": [
    {
     "data": {
      "text/plain": [
       "1313      2100.0\n",
       "1338      2300.0\n",
       "1495      2000.0\n",
       "2338      2300.0\n",
       "2508      2000.0\n",
       "           ...  \n",
       "187035    2100.0\n",
       "189135    2000.0\n",
       "189355    2000.0\n",
       "190120    2200.0\n",
       "190851    2000.0\n",
       "Name: KBA13_ANZAHL_PKW, Length: 439, dtype: float64"
      ]
     },
     "execution_count": 775,
     "metadata": {},
     "output_type": "execute_result"
    }
   ],
   "source": [
    "clean_customer_data2.KBA13_ANZAHL_PKW[clean_customer_data2.KBA13_ANZAHL_PKW>=2000]"
   ]
  },
  {
   "cell_type": "code",
   "execution_count": 776,
   "metadata": {},
   "outputs": [],
   "source": [
    "outlier_indices.update(clean_customer_data2.KBA13_ANZAHL_PKW[clean_customer_data2.KBA13_ANZAHL_PKW>=2000].index)"
   ]
  },
  {
   "cell_type": "code",
   "execution_count": 777,
   "metadata": {},
   "outputs": [
    {
     "data": {
      "text/plain": [
       "1818"
      ]
     },
     "execution_count": 777,
     "metadata": {},
     "output_type": "execute_result"
    }
   ],
   "source": [
    "len(list(outlier_indices))"
   ]
  },
  {
   "cell_type": "code",
   "execution_count": 778,
   "metadata": {},
   "outputs": [],
   "source": [
    "clean_customer_data2 = clean_customer_data2.drop(index=list(outlier_indices))"
   ]
  },
  {
   "cell_type": "code",
   "execution_count": 779,
   "metadata": {},
   "outputs": [
    {
     "data": {
      "text/plain": [
       "296"
      ]
     },
     "execution_count": 779,
     "metadata": {},
     "output_type": "execute_result"
    }
   ],
   "source": [
    "clean_customer_data2.columns.size"
   ]
  },
  {
   "cell_type": "code",
   "execution_count": 780,
   "metadata": {},
   "outputs": [
    {
     "data": {
      "text/plain": [
       "['ALTER_HH',\n",
       " 'ANZ_HAUSHALTE_AKTIV',\n",
       " 'ANZ_PERSONEN',\n",
       " 'EINGEFUEGT_AM',\n",
       " 'EINGEZOGENAM_HH_JAHR',\n",
       " 'KBA13_ANZAHL_PKW',\n",
       " 'VERDICHTUNGSRAUM']"
      ]
     },
     "execution_count": 780,
     "metadata": {},
     "output_type": "execute_result"
    }
   ],
   "source": [
    "numerical_columns"
   ]
  },
  {
   "cell_type": "code",
   "execution_count": 782,
   "metadata": {},
   "outputs": [
    {
     "data": {
      "text/plain": [
       "0"
      ]
     },
     "execution_count": 782,
     "metadata": {},
     "output_type": "execute_result"
    }
   ],
   "source": [
    "clean_customer_data2['ANZ_PERSONEN'].isnull().sum()\n"
   ]
  },
  {
   "cell_type": "code",
   "execution_count": 783,
   "metadata": {
    "scrolled": true
   },
   "outputs": [],
   "source": [
    "clean_customer_data2.to_csv('clean_and_imputed_data_before_one_hot.csv')"
   ]
  },
  {
   "cell_type": "markdown",
   "metadata": {},
   "source": [
    "#### 11. One-hot encoding"
   ]
  },
  {
   "cell_type": "code",
   "execution_count": 784,
   "metadata": {},
   "outputs": [],
   "source": [
    "for c in columns_to_one_hot:\n",
    "    if c not in clean_customer_data2.columns:\n",
    "        print(c)"
   ]
  },
  {
   "cell_type": "code",
   "execution_count": 785,
   "metadata": {},
   "outputs": [],
   "source": [
    "def convert_to_one_hot(df, columns):\n",
    "    for column in columns:\n",
    "        one_hot = pd.get_dummies(df[column])\n",
    "        one_hot.columns = list(map(lambda x:column+str(int(x)), one_hot.columns))\n",
    "        df = df.drop(columns=column)\n",
    "        df = df.join(one_hot)\n",
    "    return df"
   ]
  },
  {
   "cell_type": "code",
   "execution_count": 786,
   "metadata": {},
   "outputs": [],
   "source": [
    "clean_customer_data3 = convert_to_one_hot(clean_customer_data2, columns_to_one_hot)"
   ]
  },
  {
   "cell_type": "code",
   "execution_count": 787,
   "metadata": {},
   "outputs": [
    {
     "data": {
      "text/plain": [
       "123780"
      ]
     },
     "execution_count": 787,
     "metadata": {},
     "output_type": "execute_result"
    }
   ],
   "source": [
    "clean_customer_data3.index.size"
   ]
  },
  {
   "cell_type": "code",
   "execution_count": 788,
   "metadata": {},
   "outputs": [
    {
     "data": {
      "text/plain": [
       "389"
      ]
     },
     "execution_count": 788,
     "metadata": {},
     "output_type": "execute_result"
    }
   ],
   "source": [
    "clean_customer_data3.columns.size"
   ]
  },
  {
   "cell_type": "code",
   "execution_count": 867,
   "metadata": {},
   "outputs": [],
   "source": [
    "clean_customer_data3.to_csv('final_customer_data.csv')"
   ]
  },
  {
   "cell_type": "code",
   "execution_count": 805,
   "metadata": {},
   "outputs": [],
   "source": [
    "clean_customer_data3['KBA13_ANZAHL_PKW'] = np.log(1+clean_customer_data3['KBA13_ANZAHL_PKW'])"
   ]
  },
  {
   "cell_type": "code",
   "execution_count": 812,
   "metadata": {},
   "outputs": [
    {
     "data": {
      "text/plain": [
       "[]"
      ]
     },
     "execution_count": 812,
     "metadata": {},
     "output_type": "execute_result"
    },
    {
     "data": {
      "image/png": "[encoded data removed]",
      "text/plain": [
       "<Figure size 432x288 with 1 Axes>"
      ]
     },
     "metadata": {
      "needs_background": "light"
     },
     "output_type": "display_data"
    }
   ],
   "source": [
    "clean_customer_data3['ALTER_HH'].hist().plot()"
   ]
  },
  {
   "cell_type": "markdown",
   "metadata": {},
   "source": [
    "### PCA"
   ]
  },
  {
   "cell_type": "code",
   "execution_count": 810,
   "metadata": {},
   "outputs": [
    {
     "data": {
      "text/plain": [
       "['ALTER_HH',\n",
       " 'ANZ_HAUSHALTE_AKTIV',\n",
       " 'ANZ_PERSONEN',\n",
       " 'EINGEFUEGT_AM',\n",
       " 'EINGEZOGENAM_HH_JAHR',\n",
       " 'KBA13_ANZAHL_PKW',\n",
       " 'VERDICHTUNGSRAUM']"
      ]
     },
     "execution_count": 810,
     "metadata": {},
     "output_type": "execute_result"
    }
   ],
   "source": [
    "numerical_columns"
   ]
  },
  {
   "cell_type": "code",
   "execution_count": 790,
   "metadata": {},
   "outputs": [],
   "source": [
    "from sklearn.decomposition import PCA"
   ]
  },
  {
   "cell_type": "code",
   "execution_count": 826,
   "metadata": {},
   "outputs": [],
   "source": [
    "pca = PCA(n_components=100)"
   ]
  },
  {
   "cell_type": "code",
   "execution_count": 869,
   "metadata": {},
   "outputs": [],
   "source": [
    "from sklearn.preprocessing import MinMaxScaler\n",
    "\n",
    "scaler=MinMaxScaler()\n",
    "# store them in this dataframe\n",
    "customer_data_scaled=pd.DataFrame(scaler.fit_transform(clean_customer_data3.astype(float)))\n",
    "\n",
    "# get same features and State-County indices\n",
    "customer_data_scaled.columns=clean_customer_data3.columns\n",
    "customer_data_scaled.index=clean_customer_data3.index"
   ]
  },
  {
   "cell_type": "code",
   "execution_count": 878,
   "metadata": {},
   "outputs": [
    {
     "data": {
      "text/html": [
       "<div>\n",
       "<style scoped>\n",
       "    .dataframe tbody tr th:only-of-type {\n",
       "        vertical-align: middle;\n",
       "    }\n",
       "\n",
       "    .dataframe tbody tr th {\n",
       "        vertical-align: top;\n",
       "    }\n",
       "\n",
       "    .dataframe thead th {\n",
       "        text-align: right;\n",
       "    }\n",
       "</style>\n",
       "<table border=\"1\" class=\"dataframe\">\n",
       "  <thead>\n",
       "    <tr style=\"text-align: right;\">\n",
       "      <th></th>\n",
       "      <th>AKT_DAT_KL</th>\n",
       "      <th>ALTER_HH</th>\n",
       "      <th>ANZ_HAUSHALTE_AKTIV</th>\n",
       "      <th>ANZ_PERSONEN</th>\n",
       "      <th>ARBEIT</th>\n",
       "      <th>BALLRAUM</th>\n",
       "      <th>CAMEO_DEUG_2015</th>\n",
       "      <th>CJT_KATALOGNUTZER</th>\n",
       "      <th>CJT_TYP_1</th>\n",
       "      <th>CJT_TYP_2</th>\n",
       "      <th>CJT_TYP_3</th>\n",
       "      <th>CJT_TYP_4</th>\n",
       "      <th>CJT_TYP_5</th>\n",
       "      <th>CJT_TYP_6</th>\n",
       "      <th>D19_BANKEN_ANZ_24</th>\n",
       "      <th>D19_BANKEN_DATUM</th>\n",
       "      <th>D19_BANKEN_DIREKT</th>\n",
       "      <th>D19_BANKEN_GROSS</th>\n",
       "      <th>D19_BANKEN_ONLINE_DATUM</th>\n",
       "      <th>D19_BANKEN_REST</th>\n",
       "      <th>D19_BEKLEIDUNG_GEH</th>\n",
       "      <th>D19_BEKLEIDUNG_REST</th>\n",
       "      <th>D19_BILDUNG</th>\n",
       "      <th>D19_BIO_OEKO</th>\n",
       "      <th>D19_BUCH_CD</th>\n",
       "      <th>D19_DROGERIEARTIKEL</th>\n",
       "      <th>D19_ENERGIE</th>\n",
       "      <th>D19_FREIZEIT</th>\n",
       "      <th>D19_GESAMT_ANZ_12</th>\n",
       "      <th>D19_GESAMT_DATUM</th>\n",
       "      <th>D19_GESAMT_OFFLINE_DATUM</th>\n",
       "      <th>D19_GESAMT_ONLINE_DATUM</th>\n",
       "      <th>D19_GESAMT_ONLINE_QUOTE_12</th>\n",
       "      <th>D19_HANDWERK</th>\n",
       "      <th>D19_HAUS_DEKO</th>\n",
       "      <th>D19_KINDERARTIKEL</th>\n",
       "      <th>D19_KONSUMTYP</th>\n",
       "      <th>D19_KONSUMTYP_MAX</th>\n",
       "      <th>D19_KOSMETIK</th>\n",
       "      <th>D19_LEBENSMITTEL</th>\n",
       "      <th>D19_LOTTO</th>\n",
       "      <th>D19_NAHRUNGSERGAENZUNG</th>\n",
       "      <th>D19_RATGEBER</th>\n",
       "      <th>D19_REISEN</th>\n",
       "      <th>D19_SAMMELARTIKEL</th>\n",
       "      <th>D19_SCHUHE</th>\n",
       "      <th>D19_SONSTIGE</th>\n",
       "      <th>D19_SOZIALES</th>\n",
       "      <th>D19_TECHNIK</th>\n",
       "      <th>D19_TELKO_DATUM</th>\n",
       "      <th>...</th>\n",
       "      <th>GEMEINDETYP22</th>\n",
       "      <th>GEMEINDETYP30</th>\n",
       "      <th>GEMEINDETYP40</th>\n",
       "      <th>GEMEINDETYP50</th>\n",
       "      <th>GFK_URLAUBERTYP1</th>\n",
       "      <th>GFK_URLAUBERTYP2</th>\n",
       "      <th>GFK_URLAUBERTYP3</th>\n",
       "      <th>GFK_URLAUBERTYP4</th>\n",
       "      <th>GFK_URLAUBERTYP5</th>\n",
       "      <th>GFK_URLAUBERTYP6</th>\n",
       "      <th>GFK_URLAUBERTYP7</th>\n",
       "      <th>GFK_URLAUBERTYP8</th>\n",
       "      <th>GFK_URLAUBERTYP9</th>\n",
       "      <th>GFK_URLAUBERTYP10</th>\n",
       "      <th>GFK_URLAUBERTYP11</th>\n",
       "      <th>GFK_URLAUBERTYP12</th>\n",
       "      <th>HEALTH_TYP1</th>\n",
       "      <th>HEALTH_TYP2</th>\n",
       "      <th>HEALTH_TYP3</th>\n",
       "      <th>LP_FAMILIE_GROB0</th>\n",
       "      <th>LP_FAMILIE_GROB1</th>\n",
       "      <th>LP_FAMILIE_GROB2</th>\n",
       "      <th>LP_FAMILIE_GROB3</th>\n",
       "      <th>LP_FAMILIE_GROB4</th>\n",
       "      <th>LP_FAMILIE_GROB5</th>\n",
       "      <th>REGIOTYP1</th>\n",
       "      <th>REGIOTYP2</th>\n",
       "      <th>REGIOTYP3</th>\n",
       "      <th>REGIOTYP4</th>\n",
       "      <th>REGIOTYP5</th>\n",
       "      <th>REGIOTYP6</th>\n",
       "      <th>REGIOTYP7</th>\n",
       "      <th>RETOURTYP_BK_S1</th>\n",
       "      <th>RETOURTYP_BK_S2</th>\n",
       "      <th>RETOURTYP_BK_S3</th>\n",
       "      <th>RETOURTYP_BK_S4</th>\n",
       "      <th>RETOURTYP_BK_S5</th>\n",
       "      <th>SHOPPER_TYP0</th>\n",
       "      <th>SHOPPER_TYP1</th>\n",
       "      <th>SHOPPER_TYP2</th>\n",
       "      <th>SHOPPER_TYP3</th>\n",
       "      <th>STRUKTURTYP1</th>\n",
       "      <th>STRUKTURTYP2</th>\n",
       "      <th>STRUKTURTYP3</th>\n",
       "      <th>ZABEOTYP1</th>\n",
       "      <th>ZABEOTYP2</th>\n",
       "      <th>ZABEOTYP3</th>\n",
       "      <th>ZABEOTYP4</th>\n",
       "      <th>ZABEOTYP5</th>\n",
       "      <th>ZABEOTYP6</th>\n",
       "    </tr>\n",
       "  </thead>\n",
       "  <tbody>\n",
       "    <tr>\n",
       "      <th>0</th>\n",
       "      <td>0.0</td>\n",
       "      <td>0.476190</td>\n",
       "      <td>0.00000</td>\n",
       "      <td>0.166667</td>\n",
       "      <td>0.00</td>\n",
       "      <td>0.333333</td>\n",
       "      <td>0.00</td>\n",
       "      <td>0.75</td>\n",
       "      <td>0.00</td>\n",
       "      <td>0.00</td>\n",
       "      <td>1.0</td>\n",
       "      <td>1.00</td>\n",
       "      <td>1.0</td>\n",
       "      <td>1.0</td>\n",
       "      <td>0.000000</td>\n",
       "      <td>1.000000</td>\n",
       "      <td>0.000000</td>\n",
       "      <td>0.0</td>\n",
       "      <td>1.000000</td>\n",
       "      <td>0.0</td>\n",
       "      <td>0.000000</td>\n",
       "      <td>0.000000</td>\n",
       "      <td>0.000000</td>\n",
       "      <td>0.0</td>\n",
       "      <td>0.857143</td>\n",
       "      <td>0.000000</td>\n",
       "      <td>0.0</td>\n",
       "      <td>0.000000</td>\n",
       "      <td>0.000000</td>\n",
       "      <td>0.888889</td>\n",
       "      <td>0.888889</td>\n",
       "      <td>1.000000</td>\n",
       "      <td>0.0</td>\n",
       "      <td>0.000000</td>\n",
       "      <td>0.857143</td>\n",
       "      <td>0.0</td>\n",
       "      <td>0.4</td>\n",
       "      <td>0.142857</td>\n",
       "      <td>0.0</td>\n",
       "      <td>0.857143</td>\n",
       "      <td>0.0</td>\n",
       "      <td>0.000000</td>\n",
       "      <td>0.000000</td>\n",
       "      <td>0.000000</td>\n",
       "      <td>0.857143</td>\n",
       "      <td>0.000000</td>\n",
       "      <td>0.857143</td>\n",
       "      <td>0.2</td>\n",
       "      <td>0.857143</td>\n",
       "      <td>1.000000</td>\n",
       "      <td>...</td>\n",
       "      <td>0.0</td>\n",
       "      <td>0.0</td>\n",
       "      <td>0.0</td>\n",
       "      <td>1.0</td>\n",
       "      <td>0.0</td>\n",
       "      <td>0.0</td>\n",
       "      <td>0.0</td>\n",
       "      <td>1.0</td>\n",
       "      <td>0.0</td>\n",
       "      <td>0.0</td>\n",
       "      <td>0.0</td>\n",
       "      <td>0.0</td>\n",
       "      <td>0.0</td>\n",
       "      <td>0.0</td>\n",
       "      <td>0.0</td>\n",
       "      <td>0.0</td>\n",
       "      <td>1.0</td>\n",
       "      <td>0.0</td>\n",
       "      <td>0.0</td>\n",
       "      <td>0.0</td>\n",
       "      <td>0.0</td>\n",
       "      <td>1.0</td>\n",
       "      <td>0.0</td>\n",
       "      <td>0.0</td>\n",
       "      <td>0.0</td>\n",
       "      <td>1.0</td>\n",
       "      <td>0.0</td>\n",
       "      <td>0.0</td>\n",
       "      <td>0.0</td>\n",
       "      <td>0.0</td>\n",
       "      <td>0.0</td>\n",
       "      <td>0.0</td>\n",
       "      <td>0.0</td>\n",
       "      <td>0.0</td>\n",
       "      <td>0.0</td>\n",
       "      <td>0.0</td>\n",
       "      <td>1.0</td>\n",
       "      <td>0.0</td>\n",
       "      <td>0.0</td>\n",
       "      <td>0.0</td>\n",
       "      <td>1.0</td>\n",
       "      <td>0.0</td>\n",
       "      <td>0.0</td>\n",
       "      <td>1.0</td>\n",
       "      <td>0.0</td>\n",
       "      <td>0.0</td>\n",
       "      <td>1.0</td>\n",
       "      <td>0.0</td>\n",
       "      <td>0.0</td>\n",
       "      <td>0.0</td>\n",
       "    </tr>\n",
       "    <tr>\n",
       "      <th>2</th>\n",
       "      <td>0.0</td>\n",
       "      <td>0.285714</td>\n",
       "      <td>0.00000</td>\n",
       "      <td>0.000000</td>\n",
       "      <td>0.50</td>\n",
       "      <td>1.000000</td>\n",
       "      <td>0.50</td>\n",
       "      <td>1.00</td>\n",
       "      <td>0.25</td>\n",
       "      <td>0.25</td>\n",
       "      <td>1.0</td>\n",
       "      <td>1.00</td>\n",
       "      <td>1.0</td>\n",
       "      <td>1.0</td>\n",
       "      <td>0.000000</td>\n",
       "      <td>1.000000</td>\n",
       "      <td>0.000000</td>\n",
       "      <td>0.0</td>\n",
       "      <td>1.000000</td>\n",
       "      <td>0.0</td>\n",
       "      <td>0.000000</td>\n",
       "      <td>0.000000</td>\n",
       "      <td>0.857143</td>\n",
       "      <td>0.0</td>\n",
       "      <td>0.000000</td>\n",
       "      <td>0.000000</td>\n",
       "      <td>0.0</td>\n",
       "      <td>0.000000</td>\n",
       "      <td>0.000000</td>\n",
       "      <td>1.000000</td>\n",
       "      <td>1.000000</td>\n",
       "      <td>1.000000</td>\n",
       "      <td>0.0</td>\n",
       "      <td>0.000000</td>\n",
       "      <td>0.000000</td>\n",
       "      <td>0.0</td>\n",
       "      <td>0.4</td>\n",
       "      <td>0.142857</td>\n",
       "      <td>0.0</td>\n",
       "      <td>0.000000</td>\n",
       "      <td>1.0</td>\n",
       "      <td>0.000000</td>\n",
       "      <td>0.000000</td>\n",
       "      <td>0.857143</td>\n",
       "      <td>0.857143</td>\n",
       "      <td>0.000000</td>\n",
       "      <td>0.857143</td>\n",
       "      <td>0.2</td>\n",
       "      <td>0.000000</td>\n",
       "      <td>1.000000</td>\n",
       "      <td>...</td>\n",
       "      <td>1.0</td>\n",
       "      <td>0.0</td>\n",
       "      <td>0.0</td>\n",
       "      <td>0.0</td>\n",
       "      <td>0.0</td>\n",
       "      <td>0.0</td>\n",
       "      <td>1.0</td>\n",
       "      <td>0.0</td>\n",
       "      <td>0.0</td>\n",
       "      <td>0.0</td>\n",
       "      <td>0.0</td>\n",
       "      <td>0.0</td>\n",
       "      <td>0.0</td>\n",
       "      <td>0.0</td>\n",
       "      <td>0.0</td>\n",
       "      <td>0.0</td>\n",
       "      <td>0.0</td>\n",
       "      <td>1.0</td>\n",
       "      <td>0.0</td>\n",
       "      <td>0.0</td>\n",
       "      <td>1.0</td>\n",
       "      <td>0.0</td>\n",
       "      <td>0.0</td>\n",
       "      <td>0.0</td>\n",
       "      <td>0.0</td>\n",
       "      <td>0.0</td>\n",
       "      <td>0.0</td>\n",
       "      <td>0.0</td>\n",
       "      <td>0.0</td>\n",
       "      <td>0.0</td>\n",
       "      <td>0.0</td>\n",
       "      <td>1.0</td>\n",
       "      <td>0.0</td>\n",
       "      <td>0.0</td>\n",
       "      <td>0.0</td>\n",
       "      <td>0.0</td>\n",
       "      <td>1.0</td>\n",
       "      <td>0.0</td>\n",
       "      <td>1.0</td>\n",
       "      <td>0.0</td>\n",
       "      <td>0.0</td>\n",
       "      <td>0.0</td>\n",
       "      <td>0.0</td>\n",
       "      <td>1.0</td>\n",
       "      <td>0.0</td>\n",
       "      <td>0.0</td>\n",
       "      <td>1.0</td>\n",
       "      <td>0.0</td>\n",
       "      <td>0.0</td>\n",
       "      <td>0.0</td>\n",
       "    </tr>\n",
       "    <tr>\n",
       "      <th>4</th>\n",
       "      <td>0.0</td>\n",
       "      <td>0.952381</td>\n",
       "      <td>0.42062</td>\n",
       "      <td>0.500000</td>\n",
       "      <td>0.50</td>\n",
       "      <td>0.333333</td>\n",
       "      <td>0.75</td>\n",
       "      <td>0.75</td>\n",
       "      <td>0.50</td>\n",
       "      <td>0.50</td>\n",
       "      <td>0.5</td>\n",
       "      <td>0.75</td>\n",
       "      <td>0.5</td>\n",
       "      <td>0.5</td>\n",
       "      <td>0.333333</td>\n",
       "      <td>0.222222</td>\n",
       "      <td>0.714286</td>\n",
       "      <td>0.0</td>\n",
       "      <td>0.666667</td>\n",
       "      <td>0.0</td>\n",
       "      <td>0.000000</td>\n",
       "      <td>0.857143</td>\n",
       "      <td>0.000000</td>\n",
       "      <td>0.0</td>\n",
       "      <td>0.285714</td>\n",
       "      <td>0.571429</td>\n",
       "      <td>0.0</td>\n",
       "      <td>0.857143</td>\n",
       "      <td>0.500000</td>\n",
       "      <td>0.000000</td>\n",
       "      <td>0.777778</td>\n",
       "      <td>0.000000</td>\n",
       "      <td>1.0</td>\n",
       "      <td>0.000000</td>\n",
       "      <td>0.857143</td>\n",
       "      <td>0.0</td>\n",
       "      <td>0.0</td>\n",
       "      <td>0.428571</td>\n",
       "      <td>0.0</td>\n",
       "      <td>0.714286</td>\n",
       "      <td>0.0</td>\n",
       "      <td>0.000000</td>\n",
       "      <td>0.857143</td>\n",
       "      <td>0.000000</td>\n",
       "      <td>0.857143</td>\n",
       "      <td>0.428571</td>\n",
       "      <td>0.857143</td>\n",
       "      <td>0.2</td>\n",
       "      <td>0.857143</td>\n",
       "      <td>0.666667</td>\n",
       "      <td>...</td>\n",
       "      <td>1.0</td>\n",
       "      <td>0.0</td>\n",
       "      <td>0.0</td>\n",
       "      <td>0.0</td>\n",
       "      <td>0.0</td>\n",
       "      <td>1.0</td>\n",
       "      <td>0.0</td>\n",
       "      <td>0.0</td>\n",
       "      <td>0.0</td>\n",
       "      <td>0.0</td>\n",
       "      <td>0.0</td>\n",
       "      <td>0.0</td>\n",
       "      <td>0.0</td>\n",
       "      <td>0.0</td>\n",
       "      <td>0.0</td>\n",
       "      <td>0.0</td>\n",
       "      <td>0.0</td>\n",
       "      <td>0.0</td>\n",
       "      <td>1.0</td>\n",
       "      <td>0.0</td>\n",
       "      <td>0.0</td>\n",
       "      <td>0.0</td>\n",
       "      <td>0.0</td>\n",
       "      <td>0.0</td>\n",
       "      <td>1.0</td>\n",
       "      <td>0.0</td>\n",
       "      <td>0.0</td>\n",
       "      <td>0.0</td>\n",
       "      <td>0.0</td>\n",
       "      <td>0.0</td>\n",
       "      <td>0.0</td>\n",
       "      <td>1.0</td>\n",
       "      <td>0.0</td>\n",
       "      <td>0.0</td>\n",
       "      <td>0.0</td>\n",
       "      <td>0.0</td>\n",
       "      <td>1.0</td>\n",
       "      <td>0.0</td>\n",
       "      <td>1.0</td>\n",
       "      <td>0.0</td>\n",
       "      <td>0.0</td>\n",
       "      <td>0.0</td>\n",
       "      <td>0.0</td>\n",
       "      <td>1.0</td>\n",
       "      <td>1.0</td>\n",
       "      <td>0.0</td>\n",
       "      <td>0.0</td>\n",
       "      <td>0.0</td>\n",
       "      <td>0.0</td>\n",
       "      <td>0.0</td>\n",
       "    </tr>\n",
       "    <tr>\n",
       "      <th>5</th>\n",
       "      <td>0.0</td>\n",
       "      <td>0.523810</td>\n",
       "      <td>0.00000</td>\n",
       "      <td>0.166667</td>\n",
       "      <td>0.50</td>\n",
       "      <td>1.000000</td>\n",
       "      <td>0.50</td>\n",
       "      <td>0.50</td>\n",
       "      <td>0.00</td>\n",
       "      <td>0.00</td>\n",
       "      <td>1.0</td>\n",
       "      <td>1.00</td>\n",
       "      <td>1.0</td>\n",
       "      <td>1.0</td>\n",
       "      <td>0.000000</td>\n",
       "      <td>1.000000</td>\n",
       "      <td>0.000000</td>\n",
       "      <td>0.0</td>\n",
       "      <td>1.000000</td>\n",
       "      <td>0.0</td>\n",
       "      <td>0.000000</td>\n",
       "      <td>0.857143</td>\n",
       "      <td>0.000000</td>\n",
       "      <td>0.0</td>\n",
       "      <td>0.714286</td>\n",
       "      <td>0.000000</td>\n",
       "      <td>0.0</td>\n",
       "      <td>0.000000</td>\n",
       "      <td>0.000000</td>\n",
       "      <td>0.555556</td>\n",
       "      <td>0.555556</td>\n",
       "      <td>1.000000</td>\n",
       "      <td>0.0</td>\n",
       "      <td>0.857143</td>\n",
       "      <td>0.000000</td>\n",
       "      <td>0.0</td>\n",
       "      <td>0.2</td>\n",
       "      <td>0.142857</td>\n",
       "      <td>0.0</td>\n",
       "      <td>0.000000</td>\n",
       "      <td>1.0</td>\n",
       "      <td>0.000000</td>\n",
       "      <td>0.000000</td>\n",
       "      <td>0.000000</td>\n",
       "      <td>0.000000</td>\n",
       "      <td>0.000000</td>\n",
       "      <td>0.857143</td>\n",
       "      <td>0.2</td>\n",
       "      <td>0.857143</td>\n",
       "      <td>1.000000</td>\n",
       "      <td>...</td>\n",
       "      <td>0.0</td>\n",
       "      <td>0.0</td>\n",
       "      <td>0.0</td>\n",
       "      <td>0.0</td>\n",
       "      <td>0.0</td>\n",
       "      <td>0.0</td>\n",
       "      <td>0.0</td>\n",
       "      <td>0.0</td>\n",
       "      <td>0.0</td>\n",
       "      <td>0.0</td>\n",
       "      <td>0.0</td>\n",
       "      <td>0.0</td>\n",
       "      <td>0.0</td>\n",
       "      <td>0.0</td>\n",
       "      <td>1.0</td>\n",
       "      <td>0.0</td>\n",
       "      <td>0.0</td>\n",
       "      <td>0.0</td>\n",
       "      <td>1.0</td>\n",
       "      <td>0.0</td>\n",
       "      <td>0.0</td>\n",
       "      <td>1.0</td>\n",
       "      <td>0.0</td>\n",
       "      <td>0.0</td>\n",
       "      <td>0.0</td>\n",
       "      <td>0.0</td>\n",
       "      <td>0.0</td>\n",
       "      <td>1.0</td>\n",
       "      <td>0.0</td>\n",
       "      <td>0.0</td>\n",
       "      <td>0.0</td>\n",
       "      <td>0.0</td>\n",
       "      <td>0.0</td>\n",
       "      <td>0.0</td>\n",
       "      <td>1.0</td>\n",
       "      <td>0.0</td>\n",
       "      <td>0.0</td>\n",
       "      <td>0.0</td>\n",
       "      <td>1.0</td>\n",
       "      <td>0.0</td>\n",
       "      <td>0.0</td>\n",
       "      <td>0.0</td>\n",
       "      <td>0.0</td>\n",
       "      <td>1.0</td>\n",
       "      <td>0.0</td>\n",
       "      <td>1.0</td>\n",
       "      <td>0.0</td>\n",
       "      <td>0.0</td>\n",
       "      <td>0.0</td>\n",
       "      <td>0.0</td>\n",
       "    </tr>\n",
       "    <tr>\n",
       "      <th>6</th>\n",
       "      <td>0.0</td>\n",
       "      <td>0.476190</td>\n",
       "      <td>0.00000</td>\n",
       "      <td>0.166667</td>\n",
       "      <td>0.25</td>\n",
       "      <td>0.833333</td>\n",
       "      <td>0.25</td>\n",
       "      <td>1.00</td>\n",
       "      <td>0.00</td>\n",
       "      <td>0.00</td>\n",
       "      <td>1.0</td>\n",
       "      <td>1.00</td>\n",
       "      <td>1.0</td>\n",
       "      <td>1.0</td>\n",
       "      <td>0.000000</td>\n",
       "      <td>1.000000</td>\n",
       "      <td>0.000000</td>\n",
       "      <td>0.0</td>\n",
       "      <td>1.000000</td>\n",
       "      <td>0.0</td>\n",
       "      <td>0.857143</td>\n",
       "      <td>0.857143</td>\n",
       "      <td>1.000000</td>\n",
       "      <td>0.0</td>\n",
       "      <td>0.000000</td>\n",
       "      <td>0.428571</td>\n",
       "      <td>0.0</td>\n",
       "      <td>0.000000</td>\n",
       "      <td>0.333333</td>\n",
       "      <td>0.444444</td>\n",
       "      <td>0.444444</td>\n",
       "      <td>0.444444</td>\n",
       "      <td>0.7</td>\n",
       "      <td>0.857143</td>\n",
       "      <td>0.857143</td>\n",
       "      <td>0.0</td>\n",
       "      <td>0.2</td>\n",
       "      <td>0.142857</td>\n",
       "      <td>0.0</td>\n",
       "      <td>0.857143</td>\n",
       "      <td>1.0</td>\n",
       "      <td>0.428571</td>\n",
       "      <td>0.000000</td>\n",
       "      <td>0.000000</td>\n",
       "      <td>0.857143</td>\n",
       "      <td>0.000000</td>\n",
       "      <td>0.428571</td>\n",
       "      <td>0.2</td>\n",
       "      <td>1.000000</td>\n",
       "      <td>1.000000</td>\n",
       "      <td>...</td>\n",
       "      <td>0.0</td>\n",
       "      <td>0.0</td>\n",
       "      <td>1.0</td>\n",
       "      <td>0.0</td>\n",
       "      <td>0.0</td>\n",
       "      <td>0.0</td>\n",
       "      <td>0.0</td>\n",
       "      <td>0.0</td>\n",
       "      <td>0.0</td>\n",
       "      <td>0.0</td>\n",
       "      <td>0.0</td>\n",
       "      <td>0.0</td>\n",
       "      <td>0.0</td>\n",
       "      <td>1.0</td>\n",
       "      <td>0.0</td>\n",
       "      <td>0.0</td>\n",
       "      <td>0.0</td>\n",
       "      <td>1.0</td>\n",
       "      <td>0.0</td>\n",
       "      <td>0.0</td>\n",
       "      <td>0.0</td>\n",
       "      <td>1.0</td>\n",
       "      <td>0.0</td>\n",
       "      <td>0.0</td>\n",
       "      <td>0.0</td>\n",
       "      <td>0.0</td>\n",
       "      <td>0.0</td>\n",
       "      <td>1.0</td>\n",
       "      <td>0.0</td>\n",
       "      <td>0.0</td>\n",
       "      <td>0.0</td>\n",
       "      <td>0.0</td>\n",
       "      <td>0.0</td>\n",
       "      <td>0.0</td>\n",
       "      <td>0.0</td>\n",
       "      <td>0.0</td>\n",
       "      <td>1.0</td>\n",
       "      <td>1.0</td>\n",
       "      <td>0.0</td>\n",
       "      <td>0.0</td>\n",
       "      <td>0.0</td>\n",
       "      <td>1.0</td>\n",
       "      <td>0.0</td>\n",
       "      <td>0.0</td>\n",
       "      <td>1.0</td>\n",
       "      <td>0.0</td>\n",
       "      <td>0.0</td>\n",
       "      <td>0.0</td>\n",
       "      <td>0.0</td>\n",
       "      <td>0.0</td>\n",
       "    </tr>\n",
       "  </tbody>\n",
       "</table>\n",
       "<p>5 rows × 389 columns</p>\n",
       "</div>"
      ],
      "text/plain": [
       "   AKT_DAT_KL  ALTER_HH  ANZ_HAUSHALTE_AKTIV  ANZ_PERSONEN  ARBEIT  BALLRAUM  \\\n",
       "0         0.0  0.476190              0.00000      0.166667    0.00  0.333333   \n",
       "2         0.0  0.285714              0.00000      0.000000    0.50  1.000000   \n",
       "4         0.0  0.952381              0.42062      0.500000    0.50  0.333333   \n",
       "5         0.0  0.523810              0.00000      0.166667    0.50  1.000000   \n",
       "6         0.0  0.476190              0.00000      0.166667    0.25  0.833333   \n",
       "\n",
       "   CAMEO_DEUG_2015  CJT_KATALOGNUTZER  CJT_TYP_1  CJT_TYP_2  CJT_TYP_3  \\\n",
       "0             0.00               0.75       0.00       0.00        1.0   \n",
       "2             0.50               1.00       0.25       0.25        1.0   \n",
       "4             0.75               0.75       0.50       0.50        0.5   \n",
       "5             0.50               0.50       0.00       0.00        1.0   \n",
       "6             0.25               1.00       0.00       0.00        1.0   \n",
       "\n",
       "   CJT_TYP_4  CJT_TYP_5  CJT_TYP_6  D19_BANKEN_ANZ_24  D19_BANKEN_DATUM  \\\n",
       "0       1.00        1.0        1.0           0.000000          1.000000   \n",
       "2       1.00        1.0        1.0           0.000000          1.000000   \n",
       "4       0.75        0.5        0.5           0.333333          0.222222   \n",
       "5       1.00        1.0        1.0           0.000000          1.000000   \n",
       "6       1.00        1.0        1.0           0.000000          1.000000   \n",
       "\n",
       "   D19_BANKEN_DIREKT  D19_BANKEN_GROSS  D19_BANKEN_ONLINE_DATUM  \\\n",
       "0           0.000000               0.0                 1.000000   \n",
       "2           0.000000               0.0                 1.000000   \n",
       "4           0.714286               0.0                 0.666667   \n",
       "5           0.000000               0.0                 1.000000   \n",
       "6           0.000000               0.0                 1.000000   \n",
       "\n",
       "   D19_BANKEN_REST  D19_BEKLEIDUNG_GEH  D19_BEKLEIDUNG_REST  D19_BILDUNG  \\\n",
       "0              0.0            0.000000             0.000000     0.000000   \n",
       "2              0.0            0.000000             0.000000     0.857143   \n",
       "4              0.0            0.000000             0.857143     0.000000   \n",
       "5              0.0            0.000000             0.857143     0.000000   \n",
       "6              0.0            0.857143             0.857143     1.000000   \n",
       "\n",
       "   D19_BIO_OEKO  D19_BUCH_CD  D19_DROGERIEARTIKEL  D19_ENERGIE  D19_FREIZEIT  \\\n",
       "0           0.0     0.857143             0.000000          0.0      0.000000   \n",
       "2           0.0     0.000000             0.000000          0.0      0.000000   \n",
       "4           0.0     0.285714             0.571429          0.0      0.857143   \n",
       "5           0.0     0.714286             0.000000          0.0      0.000000   \n",
       "6           0.0     0.000000             0.428571          0.0      0.000000   \n",
       "\n",
       "   D19_GESAMT_ANZ_12  D19_GESAMT_DATUM  D19_GESAMT_OFFLINE_DATUM  \\\n",
       "0           0.000000          0.888889                  0.888889   \n",
       "2           0.000000          1.000000                  1.000000   \n",
       "4           0.500000          0.000000                  0.777778   \n",
       "5           0.000000          0.555556                  0.555556   \n",
       "6           0.333333          0.444444                  0.444444   \n",
       "\n",
       "   D19_GESAMT_ONLINE_DATUM  D19_GESAMT_ONLINE_QUOTE_12  D19_HANDWERK  \\\n",
       "0                 1.000000                         0.0      0.000000   \n",
       "2                 1.000000                         0.0      0.000000   \n",
       "4                 0.000000                         1.0      0.000000   \n",
       "5                 1.000000                         0.0      0.857143   \n",
       "6                 0.444444                         0.7      0.857143   \n",
       "\n",
       "   D19_HAUS_DEKO  D19_KINDERARTIKEL  D19_KONSUMTYP  D19_KONSUMTYP_MAX  \\\n",
       "0       0.857143                0.0            0.4           0.142857   \n",
       "2       0.000000                0.0            0.4           0.142857   \n",
       "4       0.857143                0.0            0.0           0.428571   \n",
       "5       0.000000                0.0            0.2           0.142857   \n",
       "6       0.857143                0.0            0.2           0.142857   \n",
       "\n",
       "   D19_KOSMETIK  D19_LEBENSMITTEL  D19_LOTTO  D19_NAHRUNGSERGAENZUNG  \\\n",
       "0           0.0          0.857143        0.0                0.000000   \n",
       "2           0.0          0.000000        1.0                0.000000   \n",
       "4           0.0          0.714286        0.0                0.000000   \n",
       "5           0.0          0.000000        1.0                0.000000   \n",
       "6           0.0          0.857143        1.0                0.428571   \n",
       "\n",
       "   D19_RATGEBER  D19_REISEN  D19_SAMMELARTIKEL  D19_SCHUHE  D19_SONSTIGE  \\\n",
       "0      0.000000    0.000000           0.857143    0.000000      0.857143   \n",
       "2      0.000000    0.857143           0.857143    0.000000      0.857143   \n",
       "4      0.857143    0.000000           0.857143    0.428571      0.857143   \n",
       "5      0.000000    0.000000           0.000000    0.000000      0.857143   \n",
       "6      0.000000    0.000000           0.857143    0.000000      0.428571   \n",
       "\n",
       "   D19_SOZIALES  D19_TECHNIK  D19_TELKO_DATUM  ...  GEMEINDETYP22  \\\n",
       "0           0.2     0.857143         1.000000  ...            0.0   \n",
       "2           0.2     0.000000         1.000000  ...            1.0   \n",
       "4           0.2     0.857143         0.666667  ...            1.0   \n",
       "5           0.2     0.857143         1.000000  ...            0.0   \n",
       "6           0.2     1.000000         1.000000  ...            0.0   \n",
       "\n",
       "   GEMEINDETYP30  GEMEINDETYP40  GEMEINDETYP50  GFK_URLAUBERTYP1  \\\n",
       "0            0.0            0.0            1.0               0.0   \n",
       "2            0.0            0.0            0.0               0.0   \n",
       "4            0.0            0.0            0.0               0.0   \n",
       "5            0.0            0.0            0.0               0.0   \n",
       "6            0.0            1.0            0.0               0.0   \n",
       "\n",
       "   GFK_URLAUBERTYP2  GFK_URLAUBERTYP3  GFK_URLAUBERTYP4  GFK_URLAUBERTYP5  \\\n",
       "0               0.0               0.0               1.0               0.0   \n",
       "2               0.0               1.0               0.0               0.0   \n",
       "4               1.0               0.0               0.0               0.0   \n",
       "5               0.0               0.0               0.0               0.0   \n",
       "6               0.0               0.0               0.0               0.0   \n",
       "\n",
       "   GFK_URLAUBERTYP6  GFK_URLAUBERTYP7  GFK_URLAUBERTYP8  GFK_URLAUBERTYP9  \\\n",
       "0               0.0               0.0               0.0               0.0   \n",
       "2               0.0               0.0               0.0               0.0   \n",
       "4               0.0               0.0               0.0               0.0   \n",
       "5               0.0               0.0               0.0               0.0   \n",
       "6               0.0               0.0               0.0               0.0   \n",
       "\n",
       "   GFK_URLAUBERTYP10  GFK_URLAUBERTYP11  GFK_URLAUBERTYP12  HEALTH_TYP1  \\\n",
       "0                0.0                0.0                0.0          1.0   \n",
       "2                0.0                0.0                0.0          0.0   \n",
       "4                0.0                0.0                0.0          0.0   \n",
       "5                0.0                1.0                0.0          0.0   \n",
       "6                1.0                0.0                0.0          0.0   \n",
       "\n",
       "   HEALTH_TYP2  HEALTH_TYP3  LP_FAMILIE_GROB0  LP_FAMILIE_GROB1  \\\n",
       "0          0.0          0.0               0.0               0.0   \n",
       "2          1.0          0.0               0.0               1.0   \n",
       "4          0.0          1.0               0.0               0.0   \n",
       "5          0.0          1.0               0.0               0.0   \n",
       "6          1.0          0.0               0.0               0.0   \n",
       "\n",
       "   LP_FAMILIE_GROB2  LP_FAMILIE_GROB3  LP_FAMILIE_GROB4  LP_FAMILIE_GROB5  \\\n",
       "0               1.0               0.0               0.0               0.0   \n",
       "2               0.0               0.0               0.0               0.0   \n",
       "4               0.0               0.0               0.0               1.0   \n",
       "5               1.0               0.0               0.0               0.0   \n",
       "6               1.0               0.0               0.0               0.0   \n",
       "\n",
       "   REGIOTYP1  REGIOTYP2  REGIOTYP3  REGIOTYP4  REGIOTYP5  REGIOTYP6  \\\n",
       "0        1.0        0.0        0.0        0.0        0.0        0.0   \n",
       "2        0.0        0.0        0.0        0.0        0.0        0.0   \n",
       "4        0.0        0.0        0.0        0.0        0.0        0.0   \n",
       "5        0.0        0.0        1.0        0.0        0.0        0.0   \n",
       "6        0.0        0.0        1.0        0.0        0.0        0.0   \n",
       "\n",
       "   REGIOTYP7  RETOURTYP_BK_S1  RETOURTYP_BK_S2  RETOURTYP_BK_S3  \\\n",
       "0        0.0              0.0              0.0              0.0   \n",
       "2        1.0              0.0              0.0              0.0   \n",
       "4        1.0              0.0              0.0              0.0   \n",
       "5        0.0              0.0              0.0              1.0   \n",
       "6        0.0              0.0              0.0              0.0   \n",
       "\n",
       "   RETOURTYP_BK_S4  RETOURTYP_BK_S5  SHOPPER_TYP0  SHOPPER_TYP1  SHOPPER_TYP2  \\\n",
       "0              0.0              1.0           0.0           0.0           0.0   \n",
       "2              0.0              1.0           0.0           1.0           0.0   \n",
       "4              0.0              1.0           0.0           1.0           0.0   \n",
       "5              0.0              0.0           0.0           1.0           0.0   \n",
       "6              0.0              1.0           1.0           0.0           0.0   \n",
       "\n",
       "   SHOPPER_TYP3  STRUKTURTYP1  STRUKTURTYP2  STRUKTURTYP3  ZABEOTYP1  \\\n",
       "0           1.0           0.0           0.0           1.0        0.0   \n",
       "2           0.0           0.0           0.0           1.0        0.0   \n",
       "4           0.0           0.0           0.0           1.0        1.0   \n",
       "5           0.0           0.0           0.0           1.0        0.0   \n",
       "6           0.0           1.0           0.0           0.0        1.0   \n",
       "\n",
       "   ZABEOTYP2  ZABEOTYP3  ZABEOTYP4  ZABEOTYP5  ZABEOTYP6  \n",
       "0        0.0        1.0        0.0        0.0        0.0  \n",
       "2        0.0        1.0        0.0        0.0        0.0  \n",
       "4        0.0        0.0        0.0        0.0        0.0  \n",
       "5        1.0        0.0        0.0        0.0        0.0  \n",
       "6        0.0        0.0        0.0        0.0        0.0  \n",
       "\n",
       "[5 rows x 389 columns]"
      ]
     },
     "execution_count": 878,
     "metadata": {},
     "output_type": "execute_result"
    }
   ],
   "source": [
    "customer_data_scaled.head()"
   ]
  },
  {
   "cell_type": "code",
   "execution_count": 870,
   "metadata": {},
   "outputs": [],
   "source": [
    "pca_result = pca.fit(clean_customer_data3)"
   ]
  },
  {
   "cell_type": "code",
   "execution_count": 871,
   "metadata": {},
   "outputs": [],
   "source": [
    "explained_variance = []\n",
    "curr = 0\n",
    "for i in pca_result.explained_variance_ratio_:\n",
    "    curr += i\n",
    "    explained_variance.append(curr)"
   ]
  },
  {
   "cell_type": "code",
   "execution_count": 872,
   "metadata": {},
   "outputs": [
    {
     "data": {
      "text/plain": [
       "<matplotlib.collections.LineCollection at 0x7f79604fb400>"
      ]
     },
     "execution_count": 872,
     "metadata": {},
     "output_type": "execute_result"
    },
    {
     "data": {
      "image/png": "[encoded data removed]",
      "text/plain": [
       "<Figure size 432x288 with 1 Axes>"
      ]
     },
     "metadata": {
      "needs_background": "light"
     },
     "output_type": "display_data"
    }
   ],
   "source": [
    "plt.plot(range(1,101),explained_variance)\n",
    "plt.vlines(20,explained_variance[19],explained_variance[0],color='orange')\n",
    "plt.hlines(explained_variance[19],0,20,color='orange')\n",
    "plt.vlines(80,explained_variance[79],explained_variance[0],color='orange')\n",
    "plt.hlines(explained_variance[79],0,80,color='orange')"
   ]
  },
  {
   "cell_type": "code",
   "execution_count": 873,
   "metadata": {
    "scrolled": true
   },
   "outputs": [
    {
     "name": "stdout",
     "output_type": "stream",
     "text": [
      "[0.11610244 0.06652096 0.04268401 0.03562186 0.03147189 0.029253\n",
      " 0.02345939 0.01909445 0.01593781 0.01352122 0.01328991 0.01289365\n",
      " 0.01266006 0.01251399 0.01149596 0.01125725 0.01091782 0.01066315\n",
      " 0.01051744 0.01000397 0.00977915 0.00965916 0.00889292 0.00852458\n",
      " 0.00846137 0.00819847 0.0078113  0.00770163 0.00746626 0.00742146\n",
      " 0.00719316 0.00713209 0.00692073 0.00659679 0.00658054 0.00637733\n",
      " 0.00622883 0.00621063 0.00584171 0.00570393 0.00553479 0.00537339\n",
      " 0.00519207 0.00514978 0.00506505 0.00495987 0.00491479 0.00485442\n",
      " 0.0047778  0.00471642 0.00466951 0.00452673 0.00445877 0.00444387\n",
      " 0.00436935 0.00427351 0.00420417 0.00413083 0.00410575 0.0040292\n",
      " 0.00394841 0.00394174 0.00378625 0.00369619 0.00367687 0.0036127\n",
      " 0.00352004 0.00343262 0.00329375 0.00327181 0.00321148 0.00307318\n",
      " 0.00303124 0.00301625 0.00300478 0.00293495 0.00289241 0.00285184\n",
      " 0.00277759 0.0026885  0.00268074 0.00249571 0.00246506 0.00239857\n",
      " 0.00237048 0.00230771 0.00230103 0.0022243  0.0022013  0.00215822\n",
      " 0.00214723 0.00211472 0.00209755 0.00207551 0.0020457  0.00201188\n",
      " 0.00197485 0.00196281 0.00191599 0.00189712]\n"
     ]
    }
   ],
   "source": [
    "print(pca_result.explained_variance_ratio_)"
   ]
  },
  {
   "cell_type": "code",
   "execution_count": 874,
   "metadata": {},
   "outputs": [
    {
     "data": {
      "text/plain": [
       "(100, 389)"
      ]
     },
     "execution_count": 874,
     "metadata": {},
     "output_type": "execute_result"
    }
   ],
   "source": [
    "pca_result.components_.shape"
   ]
  },
  {
   "cell_type": "code",
   "execution_count": 817,
   "metadata": {},
   "outputs": [],
   "source": [
    "# feature_value_map = pd.Series(pca_result.components_[0],index=clean_customer_data3.columns)"
   ]
  },
  {
   "cell_type": "code",
   "execution_count": 875,
   "metadata": {},
   "outputs": [],
   "source": [
    "top_20_features = []"
   ]
  },
  {
   "cell_type": "code",
   "execution_count": 876,
   "metadata": {},
   "outputs": [],
   "source": [
    "# feature_to_coef = pd.DataFrame(feature_value_map.sort_values()[::-1][:10], columns=['feature','weight'])\n",
    "for i in range(20):\n",
    "    feature_value_map = pd.Series(pca_result.components_[i],index=clean_customer_data3.columns)\n",
    "    features = feature_value_map.sort_values(key=abs)[::-1][:20].index\n",
    "    values =  feature_value_map.sort_values(key=abs)[::-1][:20].values\n",
    "    top_20_features.append((features, values))"
   ]
  },
  {
   "cell_type": "code",
   "execution_count": 833,
   "metadata": {},
   "outputs": [],
   "source": [
    "import seaborn as sns\n"
   ]
  },
  {
   "cell_type": "code",
   "execution_count": 877,
   "metadata": {},
   "outputs": [
    {
     "data": {
      "image/png": "[encoded data removed]",
      "text/plain": [
       "<Figure size 720x432 with 1 Axes>"
      ]
     },
     "metadata": {
      "needs_background": "light"
     },
     "output_type": "display_data"
    },
    {
     "data": {
      "image/png": "[encoded data removed]",
      "text/plain": [
       "<Figure size 720x432 with 1 Axes>"
      ]
     },
     "metadata": {
      "needs_background": "light"
     },
     "output_type": "display_data"
    },
    {
     "data": {
      "image/png": "[encoded data removed]",
      "text/plain": [
       "<Figure size 720x432 with 1 Axes>"
      ]
     },
     "metadata": {
      "needs_background": "light"
     },
     "output_type": "display_data"
    },
    {
     "data": {
      "image/png": "[encoded data removed]",
      "text/plain": [
       "<Figure size 720x432 with 1 Axes>"
      ]
     },
     "metadata": {
      "needs_background": "light"
     },
     "output_type": "display_data"
    },
    {
     "data": {
      "image/png": "[encoded data removed]",
      "text/plain": [
       "<Figure size 720x432 with 1 Axes>"
      ]
     },
     "metadata": {
      "needs_background": "light"
     },
     "output_type": "display_data"
    },
    {
     "data": {
      "image/png": "[encoded data removed]",
      "text/plain": [
       "<Figure size 720x432 with 1 Axes>"
      ]
     },
     "metadata": {
      "needs_background": "light"
     },
     "output_type": "display_data"
    },
    {
     "data": {
      "image/png": "[encoded data removed]",
      "text/plain": [
       "<Figure size 720x432 with 1 Axes>"
      ]
     },
     "metadata": {
      "needs_background": "light"
     },
     "output_type": "display_data"
    },
    {
     "data": {
      "image/png": "[encoded data removed]",
      "text/plain": [
       "<Figure size 720x432 with 1 Axes>"
      ]
     },
     "metadata": {
      "needs_background": "light"
     },
     "output_type": "display_data"
    },
    {
     "data": {
      "image/png": "[encoded data removed]",
      "text/plain": [
       "<Figure size 720x432 with 1 Axes>"
      ]
     },
     "metadata": {
      "needs_background": "light"
     },
     "output_type": "display_data"
    },
    {
     "data": {
      "image/png": "[encoded data removed]",
      "text/plain": [
       "<Figure size 720x432 with 1 Axes>"
      ]
     },
     "metadata": {
      "needs_background": "light"
     },
     "output_type": "display_data"
    }
   ],
   "source": [
    "for i in range(10):\n",
    "    ax=plt.subplots(figsize=(10,6))\n",
    "    ax=sns.barplot(x=top_10_features[i][1], \n",
    "                   y=top_10_features[i][0], \n",
    "                   palette=\"Blues_d\")\n",
    "    ax.set_title(\"PCA Component Makeup, Component #\" + str(i))\n",
    "    plt.show()"
   ]
  },
  {
   "cell_type": "code",
   "execution_count": null,
   "metadata": {},
   "outputs": [],
   "source": [
    "# Be sure to add in a lot more cells (both markdown and code) to document your\n",
    "# approach and findings!"
   ]
  },
  {
   "cell_type": "code",
   "execution_count": 879,
   "metadata": {},
   "outputs": [],
   "source": [
    "transformed_data = pd.DataFrame(columns=range(20),index=clean_customer_data3.index)"
   ]
  },
  {
   "cell_type": "code",
   "execution_count": 881,
   "metadata": {},
   "outputs": [
    {
     "data": {
      "text/plain": [
       "(389,)"
      ]
     },
     "execution_count": 881,
     "metadata": {},
     "output_type": "execute_result"
    }
   ],
   "source": [
    "for i in range(20):\n",
    "    transformed_data[i] = "
   ]
  },
  {
   "cell_type": "markdown",
   "metadata": {},
   "source": [
    "The on-hot data was not used"
   ]
  },
  {
   "cell_type": "markdown",
   "metadata": {},
   "source": [
    "## Part 1: Customer Segmentation Report\n",
    "\n",
    "The main bulk of your analysis will come in this part of the project. Here, you should use unsupervised learning techniques to describe the relationship between the demographics of the company's existing customers and the general population of Germany. By the end of this part, you should be able to describe parts of the general population that are more likely to be part of the mail-order company's main customer base, and which parts of the general population are less so."
   ]
  },
  {
   "cell_type": "code",
   "execution_count": null,
   "metadata": {},
   "outputs": [],
   "source": []
  },
  {
   "cell_type": "markdown",
   "metadata": {},
   "source": [
    "## Part 2: Supervised Learning Model\n",
    "\n",
    "Now that you've found which parts of the population are more likely to be customers of the mail-order company, it's time to build a prediction model. Each of the rows in the \"MAILOUT\" data files represents an individual that was targeted for a mailout campaign. Ideally, we should be able to use the demographic information from each individual to decide whether or not it will be worth it to include that person in the campaign.\n",
    "\n",
    "The \"MAILOUT\" data has been split into two approximately equal parts, each with almost 43 000 data rows. In this part, you can verify your model with the \"TRAIN\" partition, which includes a column, \"RESPONSE\", that states whether or not a person became a customer of the company following the campaign. In the next part, you'll need to create predictions on the \"TEST\" partition, where the \"RESPONSE\" column has been withheld."
   ]
  },
  {
   "cell_type": "code",
   "execution_count": null,
   "metadata": {},
   "outputs": [],
   "source": [
    "mailout_train = pd.read_csv('../../data/Term2/capstone/arvato_data/Udacity_MAILOUT_052018_TRAIN.csv', sep=';')"
   ]
  },
  {
   "cell_type": "code",
   "execution_count": null,
   "metadata": {},
   "outputs": [],
   "source": []
  },
  {
   "cell_type": "markdown",
   "metadata": {},
   "source": [
    "## Part 3: Kaggle Competition\n",
    "\n",
    "Now that you've created a model to predict which individuals are most likely to respond to a mailout campaign, it's time to test that model in competition through Kaggle. If you click on the link [here](http://www.kaggle.com/t/21e6d45d4c574c7fa2d868f0e8c83140), you'll be taken to the competition page where, if you have a Kaggle account, you can enter.\n",
    "\n",
    "Your entry to the competition should be a CSV file with two columns. The first column should be a copy of \"LNR\", which acts as an ID number for each individual in the \"TEST\" partition. The second column, \"RESPONSE\", should be some measure of how likely each individual became a customer – this might not be a straightforward probability. As you should have found in Part 2, there is a large output class imbalance, where most individuals did not respond to the mailout. Thus, predicting individual classes and using accuracy does not seem to be an appropriate performance evaluation method. Instead, the competition will be using AUC to evaluate performance. The exact values of the \"RESPONSE\" column do not matter as much: only that the higher values try to capture as many of the actual customers as possible, early in the ROC curve sweep."
   ]
  },
  {
   "cell_type": "code",
   "execution_count": null,
   "metadata": {},
   "outputs": [],
   "source": [
    "mailout_test = pd.read_csv('../../data/Term2/capstone/arvato_data/Udacity_MAILOUT_052018_TEST.csv', sep=';')"
   ]
  },
  {
   "cell_type": "code",
   "execution_count": null,
   "metadata": {},
   "outputs": [],
   "source": []
  }
 ],
 "metadata": {
  "kernelspec": {
   "display_name": "conda_mxnet_p36",
   "language": "python",
   "name": "conda_mxnet_p36"
  },
  "language_info": {
   "codemirror_mode": {
    "name": "ipython",
    "version": 3
   },
   "file_extension": ".py",
   "mimetype": "text/x-python",
   "name": "python",
   "nbconvert_exporter": "python",
   "pygments_lexer": "ipython3",
   "version": "3.6.13"
  }
 },
 "nbformat": 4,
 "nbformat_minor": 4
}
